{
  "nbformat": 4,
  "nbformat_minor": 0,
  "metadata": {
    "colab": {
      "name": "Stock_Market_Sentiment_Base_Analysis.ipynb",
      "provenance": [],
      "collapsed_sections": []
    },
    "kernelspec": {
      "name": "python3",
      "display_name": "Python 3"
    }
  },
  "cells": [
    {
      "cell_type": "markdown",
      "metadata": {
        "id": "8l4RLN3pODuX"
      },
      "source": [
        "#Stock_Market_Sentiment_Base_Analysis\n",
        "\n",
        "Here we are gonna do sentiment base analysis of stock market for particular stock data.\n",
        "\n",
        "We are using NLP Model.\n",
        "\n",
        "First We are creating generalized model without text processing including CounterVectorizer, MultinomialNB and TfidTransformer with Pipeline Architecture. Then, We are creating same model with text processing to get more accuracy.\n",
        "\n",
        "Data Source: https://www.kaggle.com/yash612/stockmarket-sentiment-dataset\n",
        "\n"
      ]
    },
    {
      "cell_type": "markdown",
      "metadata": {
        "id": "Jwpy0KE--7Ng"
      },
      "source": [
        "#Start by connecting gdrive into the google colab"
      ]
    },
    {
      "cell_type": "code",
      "metadata": {
        "colab": {
          "base_uri": "https://localhost:8080/"
        },
        "id": "r2GR0rayws8h",
        "outputId": "0a3d3db4-41fe-4249-bac3-38b85423bc1d"
      },
      "source": [
        "from google.colab import drive\n",
        "\n",
        "\n",
        "drive.mount('/content/gdrive')"
      ],
      "execution_count": 241,
      "outputs": [
        {
          "output_type": "stream",
          "text": [
            "Drive already mounted at /content/gdrive; to attempt to forcibly remount, call drive.mount(\"/content/gdrive\", force_remount=True).\n"
          ],
          "name": "stdout"
        }
      ]
    },
    {
      "cell_type": "markdown",
      "metadata": {
        "id": "pTyNEWVm_BnS"
      },
      "source": [
        "#Import Required Libraries"
      ]
    },
    {
      "cell_type": "code",
      "metadata": {
        "id": "itHoqr0X6rYF"
      },
      "source": [
        "import numpy as np\n",
        "import pandas as pd"
      ],
      "execution_count": 242,
      "outputs": []
    },
    {
      "cell_type": "markdown",
      "metadata": {
        "id": "S5t_Px60_FlF"
      },
      "source": [
        "#Load CSV from Google Drive"
      ]
    },
    {
      "cell_type": "code",
      "metadata": {
        "id": "eCpg_WSZ6zzn"
      },
      "source": [
        "df = pd.read_csv('/content/gdrive/MyDrive/stock/stock_data.csv',sep=',')"
      ],
      "execution_count": 243,
      "outputs": []
    },
    {
      "cell_type": "markdown",
      "metadata": {
        "id": "tKC-AD47_LJN"
      },
      "source": [
        "#Visualisation of Dataset"
      ]
    },
    {
      "cell_type": "code",
      "metadata": {
        "colab": {
          "base_uri": "https://localhost:8080/",
          "height": 204
        },
        "id": "PcSH9VtW-xJ6",
        "outputId": "57451565-f935-4065-ce61-594ad47938b2"
      },
      "source": [
        "df.head()"
      ],
      "execution_count": 244,
      "outputs": [
        {
          "output_type": "execute_result",
          "data": {
            "text/html": [
              "<div>\n",
              "<style scoped>\n",
              "    .dataframe tbody tr th:only-of-type {\n",
              "        vertical-align: middle;\n",
              "    }\n",
              "\n",
              "    .dataframe tbody tr th {\n",
              "        vertical-align: top;\n",
              "    }\n",
              "\n",
              "    .dataframe thead th {\n",
              "        text-align: right;\n",
              "    }\n",
              "</style>\n",
              "<table border=\"1\" class=\"dataframe\">\n",
              "  <thead>\n",
              "    <tr style=\"text-align: right;\">\n",
              "      <th></th>\n",
              "      <th>Text</th>\n",
              "      <th>Sentiment</th>\n",
              "    </tr>\n",
              "  </thead>\n",
              "  <tbody>\n",
              "    <tr>\n",
              "      <th>0</th>\n",
              "      <td>Kickers on my watchlist XIDE TIT SOQ PNK CPW B...</td>\n",
              "      <td>1</td>\n",
              "    </tr>\n",
              "    <tr>\n",
              "      <th>1</th>\n",
              "      <td>user: AAP MOVIE. 55% return for the FEA/GEED i...</td>\n",
              "      <td>1</td>\n",
              "    </tr>\n",
              "    <tr>\n",
              "      <th>2</th>\n",
              "      <td>user I'd be afraid to short AMZN - they are lo...</td>\n",
              "      <td>1</td>\n",
              "    </tr>\n",
              "    <tr>\n",
              "      <th>3</th>\n",
              "      <td>MNTA Over 12.00</td>\n",
              "      <td>1</td>\n",
              "    </tr>\n",
              "    <tr>\n",
              "      <th>4</th>\n",
              "      <td>OI  Over 21.37</td>\n",
              "      <td>1</td>\n",
              "    </tr>\n",
              "  </tbody>\n",
              "</table>\n",
              "</div>"
            ],
            "text/plain": [
              "                                                Text  Sentiment\n",
              "0  Kickers on my watchlist XIDE TIT SOQ PNK CPW B...          1\n",
              "1  user: AAP MOVIE. 55% return for the FEA/GEED i...          1\n",
              "2  user I'd be afraid to short AMZN - they are lo...          1\n",
              "3                                  MNTA Over 12.00            1\n",
              "4                                   OI  Over 21.37            1"
            ]
          },
          "metadata": {
            "tags": []
          },
          "execution_count": 244
        }
      ]
    },
    {
      "cell_type": "markdown",
      "metadata": {
        "id": "f6p2fpn4_PRy"
      },
      "source": [
        "#Replace values of instance \"Sentiment\" with Bull and Bear"
      ]
    },
    {
      "cell_type": "code",
      "metadata": {
        "id": "fIBIkTkm93Q1"
      },
      "source": [
        "df['Sentiment'].replace({1: 'Bull', -1: 'Bear'}, inplace=True)"
      ],
      "execution_count": 245,
      "outputs": []
    },
    {
      "cell_type": "code",
      "metadata": {
        "colab": {
          "base_uri": "https://localhost:8080/",
          "height": 204
        },
        "id": "rgpgQdlY67Fh",
        "outputId": "921181d5-5480-40b1-dc46-d1e137336f59"
      },
      "source": [
        "df.head()"
      ],
      "execution_count": 246,
      "outputs": [
        {
          "output_type": "execute_result",
          "data": {
            "text/html": [
              "<div>\n",
              "<style scoped>\n",
              "    .dataframe tbody tr th:only-of-type {\n",
              "        vertical-align: middle;\n",
              "    }\n",
              "\n",
              "    .dataframe tbody tr th {\n",
              "        vertical-align: top;\n",
              "    }\n",
              "\n",
              "    .dataframe thead th {\n",
              "        text-align: right;\n",
              "    }\n",
              "</style>\n",
              "<table border=\"1\" class=\"dataframe\">\n",
              "  <thead>\n",
              "    <tr style=\"text-align: right;\">\n",
              "      <th></th>\n",
              "      <th>Text</th>\n",
              "      <th>Sentiment</th>\n",
              "    </tr>\n",
              "  </thead>\n",
              "  <tbody>\n",
              "    <tr>\n",
              "      <th>0</th>\n",
              "      <td>Kickers on my watchlist XIDE TIT SOQ PNK CPW B...</td>\n",
              "      <td>Bull</td>\n",
              "    </tr>\n",
              "    <tr>\n",
              "      <th>1</th>\n",
              "      <td>user: AAP MOVIE. 55% return for the FEA/GEED i...</td>\n",
              "      <td>Bull</td>\n",
              "    </tr>\n",
              "    <tr>\n",
              "      <th>2</th>\n",
              "      <td>user I'd be afraid to short AMZN - they are lo...</td>\n",
              "      <td>Bull</td>\n",
              "    </tr>\n",
              "    <tr>\n",
              "      <th>3</th>\n",
              "      <td>MNTA Over 12.00</td>\n",
              "      <td>Bull</td>\n",
              "    </tr>\n",
              "    <tr>\n",
              "      <th>4</th>\n",
              "      <td>OI  Over 21.37</td>\n",
              "      <td>Bull</td>\n",
              "    </tr>\n",
              "  </tbody>\n",
              "</table>\n",
              "</div>"
            ],
            "text/plain": [
              "                                                Text Sentiment\n",
              "0  Kickers on my watchlist XIDE TIT SOQ PNK CPW B...      Bull\n",
              "1  user: AAP MOVIE. 55% return for the FEA/GEED i...      Bull\n",
              "2  user I'd be afraid to short AMZN - they are lo...      Bull\n",
              "3                                  MNTA Over 12.00        Bull\n",
              "4                                   OI  Over 21.37        Bull"
            ]
          },
          "metadata": {
            "tags": []
          },
          "execution_count": 246
        }
      ]
    },
    {
      "cell_type": "code",
      "metadata": {
        "colab": {
          "base_uri": "https://localhost:8080/"
        },
        "id": "OqRVK5eixIhP",
        "outputId": "7ffe8491-13f2-46a1-b93d-7428bfebb966"
      },
      "source": [
        "df.info()"
      ],
      "execution_count": 247,
      "outputs": [
        {
          "output_type": "stream",
          "text": [
            "<class 'pandas.core.frame.DataFrame'>\n",
            "RangeIndex: 5791 entries, 0 to 5790\n",
            "Data columns (total 2 columns):\n",
            " #   Column     Non-Null Count  Dtype \n",
            "---  ------     --------------  ----- \n",
            " 0   Text       5791 non-null   object\n",
            " 1   Sentiment  5791 non-null   object\n",
            "dtypes: object(2)\n",
            "memory usage: 90.6+ KB\n"
          ],
          "name": "stdout"
        }
      ]
    },
    {
      "cell_type": "code",
      "metadata": {
        "colab": {
          "base_uri": "https://localhost:8080/",
          "height": 173
        },
        "id": "P5uTPzUQxKRQ",
        "outputId": "77f72666-48b5-4de6-9a10-2f6fb4ababe8"
      },
      "source": [
        "df.describe()"
      ],
      "execution_count": 248,
      "outputs": [
        {
          "output_type": "execute_result",
          "data": {
            "text/html": [
              "<div>\n",
              "<style scoped>\n",
              "    .dataframe tbody tr th:only-of-type {\n",
              "        vertical-align: middle;\n",
              "    }\n",
              "\n",
              "    .dataframe tbody tr th {\n",
              "        vertical-align: top;\n",
              "    }\n",
              "\n",
              "    .dataframe thead th {\n",
              "        text-align: right;\n",
              "    }\n",
              "</style>\n",
              "<table border=\"1\" class=\"dataframe\">\n",
              "  <thead>\n",
              "    <tr style=\"text-align: right;\">\n",
              "      <th></th>\n",
              "      <th>Text</th>\n",
              "      <th>Sentiment</th>\n",
              "    </tr>\n",
              "  </thead>\n",
              "  <tbody>\n",
              "    <tr>\n",
              "      <th>count</th>\n",
              "      <td>5791</td>\n",
              "      <td>5791</td>\n",
              "    </tr>\n",
              "    <tr>\n",
              "      <th>unique</th>\n",
              "      <td>5791</td>\n",
              "      <td>2</td>\n",
              "    </tr>\n",
              "    <tr>\n",
              "      <th>top</th>\n",
              "      <td>DNDN waking up, almost GO TIME here!</td>\n",
              "      <td>Bull</td>\n",
              "    </tr>\n",
              "    <tr>\n",
              "      <th>freq</th>\n",
              "      <td>1</td>\n",
              "      <td>3685</td>\n",
              "    </tr>\n",
              "  </tbody>\n",
              "</table>\n",
              "</div>"
            ],
            "text/plain": [
              "                                        Text Sentiment\n",
              "count                                   5791      5791\n",
              "unique                                  5791         2\n",
              "top     DNDN waking up, almost GO TIME here!      Bull\n",
              "freq                                       1      3685"
            ]
          },
          "metadata": {
            "tags": []
          },
          "execution_count": 248
        }
      ]
    },
    {
      "cell_type": "markdown",
      "metadata": {
        "id": "xAV5hQlG_bMa"
      },
      "source": [
        "#Create New Column 'Text Length' in Dataset"
      ]
    },
    {
      "cell_type": "code",
      "metadata": {
        "id": "O-KQqAVVxMhF"
      },
      "source": [
        "df['text length']=df['Text'].apply(len)"
      ],
      "execution_count": 249,
      "outputs": []
    },
    {
      "cell_type": "code",
      "metadata": {
        "colab": {
          "base_uri": "https://localhost:8080/",
          "height": 204
        },
        "id": "nlOZAPGbxfAu",
        "outputId": "1d9805d1-f3af-478a-f8fe-5a991926487e"
      },
      "source": [
        "df.head()"
      ],
      "execution_count": 250,
      "outputs": [
        {
          "output_type": "execute_result",
          "data": {
            "text/html": [
              "<div>\n",
              "<style scoped>\n",
              "    .dataframe tbody tr th:only-of-type {\n",
              "        vertical-align: middle;\n",
              "    }\n",
              "\n",
              "    .dataframe tbody tr th {\n",
              "        vertical-align: top;\n",
              "    }\n",
              "\n",
              "    .dataframe thead th {\n",
              "        text-align: right;\n",
              "    }\n",
              "</style>\n",
              "<table border=\"1\" class=\"dataframe\">\n",
              "  <thead>\n",
              "    <tr style=\"text-align: right;\">\n",
              "      <th></th>\n",
              "      <th>Text</th>\n",
              "      <th>Sentiment</th>\n",
              "      <th>text length</th>\n",
              "    </tr>\n",
              "  </thead>\n",
              "  <tbody>\n",
              "    <tr>\n",
              "      <th>0</th>\n",
              "      <td>Kickers on my watchlist XIDE TIT SOQ PNK CPW B...</td>\n",
              "      <td>Bull</td>\n",
              "      <td>95</td>\n",
              "    </tr>\n",
              "    <tr>\n",
              "      <th>1</th>\n",
              "      <td>user: AAP MOVIE. 55% return for the FEA/GEED i...</td>\n",
              "      <td>Bull</td>\n",
              "      <td>95</td>\n",
              "    </tr>\n",
              "    <tr>\n",
              "      <th>2</th>\n",
              "      <td>user I'd be afraid to short AMZN - they are lo...</td>\n",
              "      <td>Bull</td>\n",
              "      <td>114</td>\n",
              "    </tr>\n",
              "    <tr>\n",
              "      <th>3</th>\n",
              "      <td>MNTA Over 12.00</td>\n",
              "      <td>Bull</td>\n",
              "      <td>17</td>\n",
              "    </tr>\n",
              "    <tr>\n",
              "      <th>4</th>\n",
              "      <td>OI  Over 21.37</td>\n",
              "      <td>Bull</td>\n",
              "      <td>16</td>\n",
              "    </tr>\n",
              "  </tbody>\n",
              "</table>\n",
              "</div>"
            ],
            "text/plain": [
              "                                                Text Sentiment  text length\n",
              "0  Kickers on my watchlist XIDE TIT SOQ PNK CPW B...      Bull           95\n",
              "1  user: AAP MOVIE. 55% return for the FEA/GEED i...      Bull           95\n",
              "2  user I'd be afraid to short AMZN - they are lo...      Bull          114\n",
              "3                                  MNTA Over 12.00        Bull           17\n",
              "4                                   OI  Over 21.37        Bull           16"
            ]
          },
          "metadata": {
            "tags": []
          },
          "execution_count": 250
        }
      ]
    },
    {
      "cell_type": "markdown",
      "metadata": {
        "id": "glH1Wl0e_iyF"
      },
      "source": [
        "#Import Visualisation Libraries"
      ]
    },
    {
      "cell_type": "code",
      "metadata": {
        "id": "9U5_9aLxxu7Z"
      },
      "source": [
        "import matplotlib.pyplot as plt\n",
        "import seaborn as sns\n",
        "sns.set_style('white')\n",
        "%matplotlib inline\n",
        "import plotly.express as px"
      ],
      "execution_count": 251,
      "outputs": []
    },
    {
      "cell_type": "markdown",
      "metadata": {
        "id": "jv_XZXSOAKn5"
      },
      "source": [
        "#Barplot of Sentiment and Text Length\n",
        "\n",
        "Understand the data by the below given plot, which shows that: For Sentiment Bear Avg. Text Length is Less than Sentiment Bull."
      ]
    },
    {
      "cell_type": "code",
      "metadata": {
        "colab": {
          "base_uri": "https://localhost:8080/",
          "height": 242
        },
        "id": "rj-Q_KD3xvZQ",
        "outputId": "d06f9a12-7d26-469f-b281-f6b26f8b6331"
      },
      "source": [
        "g = sns.FacetGrid(df,col='Sentiment')\n",
        "g.map(plt.hist,'text length')"
      ],
      "execution_count": 252,
      "outputs": [
        {
          "output_type": "execute_result",
          "data": {
            "text/plain": [
              "<seaborn.axisgrid.FacetGrid at 0x7f6859b5e610>"
            ]
          },
          "metadata": {
            "tags": []
          },
          "execution_count": 252
        },
        {
          "output_type": "display_data",
          "data": {
            "image/png": "[encoded data removed]",
            "text/plain": [
              "<Figure size 432x216 with 2 Axes>"
            ]
          },
          "metadata": {
            "tags": [],
            "needs_background": "light"
          }
        }
      ]
    },
    {
      "cell_type": "code",
      "metadata": {
        "colab": {
          "base_uri": "https://localhost:8080/",
          "height": 559
        },
        "id": "2thvGTpmKMl_",
        "outputId": "799eec01-94ea-4453-cae0-a921b9392a4a"
      },
      "source": [
        "plt.figure(figsize=(12,12))\n",
        "px.histogram(x=df['text length'],color=df['Sentiment'],nbins=40)"
      ],
      "execution_count": 253,
      "outputs": [
        {
          "output_type": "display_data",
          "data": {
            "text/html": [
              "<html>\n",
              "<head><meta charset=\"utf-8\" /></head>\n",
              "<body>\n",
              "    <div>\n",
              "            <script src=\"https://cdnjs.cloudflare.com/ajax/libs/mathjax/2.7.5/MathJax.js?config=TeX-AMS-MML_SVG\"></script><script type=\"text/javascript\">if (window.MathJax) {MathJax.Hub.Config({SVG: {font: \"STIX-Web\"}});}</script>\n",
              "                <script type=\"text/javascript\">window.PlotlyConfig = {MathJaxConfig: 'local'};</script>\n",
              "        <script src=\"https://cdn.plot.ly/plotly-latest.min.js\"></script>    \n",
              "            <div id=\"5a4fb3e4-80e6-4a02-bb78-5c36c733ca3e\" class=\"plotly-graph-div\" style=\"height:525px; width:100%;\"></div>\n",
              "            <script type=\"text/javascript\">\n",
              "                \n",
              "                    window.PLOTLYENV=window.PLOTLYENV || {};\n",
              "                    \n",
              "                if (document.getElementById(\"5a4fb3e4-80e6-4a02-bb78-5c36c733ca3e\")) {\n",
              "                    Plotly.newPlot(\n",
              "                        '5a4fb3e4-80e6-4a02-bb78-5c36c733ca3e',\n",
              "                        [{\"alignmentgroup\": \"True\", \"bingroup\": \"x\", \"hoverlabel\": {\"namelength\": 0}, \"hovertemplate\": \"color=Bull<br>x=%{x}<br>count=%{y}\", \"legendgroup\": \"color=Bull\", \"marker\": {\"color\": \"#636efa\"}, \"name\": \"color=Bull\", \"nbinsx\": 40, \"offsetgroup\": \"color=Bull\", \"orientation\": \"v\", \"showlegend\": true, \"type\": \"histogram\", \"x\": [95, 95, 114, 17, 16, 17, 56, 38, 95, 137, 68, 85, 91, 53, 119, 97, 109, 24, 48, 19, 48, 26, 89, 57, 87, 108, 92, 85, 31, 101, 41, 96, 87, 134, 98, 100, 84, 29, 98, 65, 60, 78, 83, 89, 97, 26, 125, 85, 86, 69, 105, 41, 127, 61, 59, 73, 38, 108, 69, 114, 36, 71, 132, 114, 55, 96, 91, 38, 101, 35, 29, 97, 100, 128, 24, 98, 75, 25, 11, 66, 96, 40, 51, 57, 77, 18, 19, 112, 32, 90, 116, 136, 99, 89, 93, 28, 75, 60, 102, 100, 43, 87, 135, 87, 112, 31, 16, 17, 18, 64, 97, 97, 96, 77, 107, 130, 98, 83, 96, 86, 59, 94, 123, 23, 96, 43, 36, 14, 31, 111, 55, 88, 134, 45, 111, 98, 59, 42, 91, 103, 16, 87, 100, 65, 42, 70, 37, 53, 58, 31, 37, 124, 114, 88, 87, 126, 71, 94, 75, 41, 91, 98, 62, 88, 125, 117, 77, 103, 91, 100, 92, 24, 24, 22, 100, 20, 82, 98, 99, 99, 93, 94, 21, 16, 110, 101, 57, 78, 91, 33, 48, 95, 62, 75, 38, 60, 16, 21, 101, 75, 127, 60, 30, 69, 32, 97, 96, 115, 48, 92, 33, 61, 12, 60, 84, 115, 93, 92, 87, 74, 114, 45, 87, 94, 41, 16, 56, 29, 37, 61, 94, 72, 39, 106, 90, 116, 88, 41, 51, 97, 50, 97, 100, 134, 117, 119, 43, 18, 43, 69, 138, 127, 89, 80, 70, 44, 94, 79, 98, 13, 92, 40, 133, 11, 11, 9, 128, 106, 138, 136, 112, 46, 119, 61, 51, 125, 135, 33, 21, 72, 107, 85, 136, 36, 66, 92, 30, 90, 38, 104, 139, 96, 95, 31, 91, 99, 101, 101, 33, 82, 118, 137, 37, 42, 37, 48, 92, 9, 100, 119, 16, 34, 107, 53, 38, 95, 89, 93, 59, 86, 105, 101, 13, 26, 99, 133, 30, 98, 108, 104, 84, 132, 17, 26, 17, 32, 99, 28, 62, 90, 86, 54, 51, 110, 42, 79, 31, 86, 98, 41, 90, 27, 29, 27, 116, 15, 38, 18, 118, 19, 19, 82, 21, 57, 134, 40, 121, 65, 57, 72, 56, 114, 47, 127, 69, 47, 120, 56, 85, 72, 92, 105, 108, 29, 18, 33, 26, 29, 139, 77, 111, 42, 91, 62, 81, 37, 100, 98, 99, 44, 116, 117, 14, 69, 69, 85, 67, 88, 86, 61, 17, 56, 54, 22, 135, 103, 124, 97, 43, 116, 99, 58, 41, 118, 126, 74, 61, 129, 50, 129, 40, 115, 92, 75, 76, 22, 27, 100, 65, 91, 12, 96, 110, 84, 90, 67, 112, 32, 77, 113, 56, 86, 118, 72, 58, 130, 41, 107, 119, 50, 43, 137, 133, 14, 65, 108, 56, 75, 99, 18, 95, 92, 100, 120, 105, 100, 101, 8, 63, 106, 61, 49, 33, 53, 98, 51, 38, 27, 77, 131, 126, 87, 13, 100, 64, 73, 31, 98, 37, 131, 39, 99, 41, 62, 30, 68, 42, 115, 78, 64, 91, 54, 22, 74, 89, 49, 132, 134, 54, 98, 86, 94, 85, 36, 107, 135, 138, 110, 130, 64, 137, 123, 131, 15, 54, 86, 66, 136, 71, 38, 92, 17, 73, 47, 39, 18, 99, 96, 72, 116, 87, 29, 87, 98, 60, 42, 79, 129, 26, 53, 50, 6, 115, 105, 28, 97, 39, 108, 67, 25, 45, 26, 99, 108, 27, 61, 31, 108, 35, 45, 73, 111, 67, 98, 125, 74, 24, 59, 55, 100, 75, 96, 25, 14, 65, 100, 50, 135, 53, 82, 72, 109, 35, 20, 18, 18, 33, 75, 40, 40, 38, 95, 37, 36, 63, 55, 113, 96, 11, 88, 83, 97, 61, 79, 38, 38, 100, 78, 106, 79, 29, 97, 49, 60, 112, 25, 97, 68, 125, 96, 101, 75, 90, 63, 91, 72, 61, 85, 72, 50, 49, 63, 67, 139, 53, 133, 113, 40, 54, 16, 111, 88, 124, 56, 13, 53, 95, 94, 72, 13, 108, 101, 40, 47, 136, 83, 68, 25, 94, 60, 121, 88, 95, 96, 30, 98, 48, 113, 83, 101, 99, 86, 43, 97, 86, 77, 97, 24, 18, 70, 19, 91, 97, 106, 115, 115, 115, 115, 114, 109, 55, 59, 78, 114, 19, 64, 81, 69, 69, 66, 138, 108, 29, 114, 132, 111, 122, 112, 74, 69, 93, 84, 31, 52, 133, 50, 16, 136, 35, 95, 18, 133, 89, 73, 63, 62, 71, 36, 31, 44, 27, 85, 44, 87, 97, 99, 89, 73, 133, 133, 14, 93, 91, 16, 78, 86, 100, 114, 42, 121, 19, 19, 96, 77, 133, 86, 115, 63, 100, 61, 57, 37, 127, 128, 40, 67, 17, 93, 85, 52, 98, 90, 76, 51, 68, 97, 120, 111, 112, 58, 75, 124, 65, 53, 38, 22, 119, 39, 26, 86, 32, 133, 41, 131, 99, 74, 52, 132, 11, 99, 131, 52, 97, 100, 135, 95, 137, 106, 88, 60, 55, 87, 47, 18, 19, 82, 96, 127, 17, 76, 100, 132, 114, 16, 95, 27, 60, 54, 131, 102, 119, 48, 59, 49, 98, 104, 64, 103, 53, 132, 21, 95, 78, 107, 40, 80, 55, 54, 80, 55, 48, 70, 110, 68, 84, 83, 35, 50, 138, 135, 21, 59, 70, 84, 122, 123, 114, 74, 67, 92, 69, 51, 97, 51, 133, 105, 38, 96, 53, 136, 90, 123, 95, 52, 121, 130, 35, 83, 38, 56, 106, 118, 25, 60, 37, 99, 35, 129, 93, 31, 79, 15, 88, 80, 95, 115, 100, 75, 82, 87, 52, 53, 78, 76, 95, 108, 112, 133, 132, 98, 51, 99, 80, 95, 130, 134, 89, 131, 90, 122, 110, 99, 64, 92, 135, 132, 64, 70, 62, 44, 85, 62, 59, 60, 119, 128, 27, 49, 67, 114, 96, 77, 65, 43, 26, 99, 117, 114, 131, 40, 37, 17, 38, 45, 120, 65, 94, 103, 35, 63, 49, 82, 66, 35, 25, 48, 61, 88, 84, 61, 92, 17, 106, 87, 99, 100, 136, 54, 55, 56, 136, 95, 89, 105, 135, 56, 73, 22, 101, 130, 66, 113, 42, 16, 112, 34, 20, 58, 20, 45, 68, 69, 55, 37, 90, 68, 97, 27, 71, 8, 44, 100, 20, 86, 53, 61, 81, 112, 132, 75, 99, 97, 64, 70, 41, 74, 22, 44, 107, 58, 89, 62, 112, 126, 33, 94, 60, 67, 109, 44, 90, 54, 33, 121, 55, 43, 30, 109, 35, 59, 60, 35, 80, 120, 71, 26, 14, 13, 94, 79, 136, 138, 72, 41, 100, 102, 27, 70, 60, 90, 138, 92, 89, 84, 26, 78, 95, 58, 23, 138, 81, 57, 101, 135, 75, 123, 75, 101, 99, 63, 103, 130, 77, 65, 92, 123, 121, 17, 101, 120, 51, 64, 82, 69, 54, 40, 75, 74, 89, 98, 48, 40, 27, 18, 85, 98, 37, 44, 25, 85, 25, 77, 108, 90, 77, 60, 16, 75, 36, 95, 50, 30, 82, 65, 60, 96, 48, 119, 133, 95, 101, 99, 38, 99, 108, 109, 23, 66, 102, 52, 75, 83, 100, 130, 36, 30, 38, 44, 76, 13, 28, 20, 108, 70, 76, 26, 69, 62, 123, 21, 53, 109, 69, 94, 80, 32, 114, 87, 17, 34, 103, 101, 115, 73, 14, 11, 34, 132, 76, 23, 80, 29, 36, 48, 67, 46, 42, 8, 30, 93, 100, 37, 37, 11, 83, 68, 39, 42, 57, 72, 24, 51, 17, 70, 124, 94, 52, 100, 92, 132, 83, 99, 87, 84, 24, 89, 60, 47, 56, 89, 46, 40, 42, 29, 33, 53, 21, 32, 119, 57, 93, 99, 123, 32, 24, 23, 120, 20, 123, 41, 57, 59, 67, 38, 23, 12, 76, 85, 106, 118, 90, 61, 79, 34, 114, 95, 28, 94, 98, 35, 21, 58, 101, 32, 127, 99, 126, 20, 120, 32, 138, 93, 15, 134, 23, 39, 30, 75, 100, 29, 97, 137, 54, 98, 59, 114, 138, 88, 15, 64, 123, 77, 53, 66, 82, 36, 30, 29, 59, 136, 125, 110, 108, 136, 98, 62, 29, 81, 124, 28, 30, 13, 35, 100, 37, 35, 25, 84, 53, 54, 53, 57, 52, 62, 109, 113, 106, 138, 115, 127, 125, 126, 136, 40, 124, 130, 42, 64, 58, 54, 95, 136, 82, 99, 19, 99, 24, 88, 127, 82, 55, 79, 138, 132, 135, 56, 48, 117, 40, 90, 24, 100, 106, 123, 113, 123, 55, 15, 25, 25, 93, 33, 105, 112, 64, 128, 21, 46, 133, 58, 125, 115, 62, 84, 41, 137, 116, 117, 110, 82, 73, 100, 71, 100, 67, 73, 55, 98, 46, 74, 119, 90, 98, 57, 52, 27, 63, 61, 50, 91, 100, 115, 132, 72, 40, 83, 98, 41, 21, 62, 54, 65, 82, 28, 97, 55, 53, 75, 21, 31, 33, 66, 25, 115, 85, 104, 58, 76, 57, 46, 88, 135, 13, 91, 93, 57, 90, 12, 20, 43, 98, 28, 55, 86, 66, 132, 93, 35, 114, 101, 16, 70, 23, 99, 110, 65, 98, 50, 62, 93, 111, 26, 59, 99, 17, 60, 70, 25, 65, 63, 68, 14, 69, 55, 129, 37, 106, 22, 61, 13, 107, 60, 92, 21, 121, 38, 104, 63, 11, 33, 71, 55, 76, 99, 39, 84, 35, 113, 73, 46, 99, 94, 82, 55, 62, 117, 111, 94, 39, 94, 117, 112, 69, 45, 101, 87, 100, 96, 51, 34, 116, 127, 67, 27, 107, 75, 65, 133, 29, 94, 45, 51, 20, 48, 130, 72, 123, 97, 44, 83, 114, 130, 138, 97, 63, 105, 69, 72, 52, 23, 84, 43, 53, 45, 27, 40, 95, 134, 47, 101, 97, 90, 71, 85, 117, 23, 99, 110, 87, 58, 63, 47, 85, 29, 66, 139, 78, 60, 86, 99, 58, 97, 30, 36, 47, 49, 109, 40, 22, 104, 36, 29, 100, 54, 50, 81, 53, 100, 64, 14, 29, 65, 18, 64, 35, 91, 75, 27, 138, 90, 34, 126, 82, 58, 54, 88, 87, 109, 114, 47, 15, 131, 35, 81, 69, 53, 27, 43, 87, 19, 31, 65, 60, 66, 19, 20, 71, 27, 95, 52, 30, 53, 78, 95, 24, 99, 57, 73, 47, 63, 48, 97, 89, 59, 62, 48, 36, 99, 97, 86, 99, 71, 46, 72, 68, 61, 55, 95, 70, 134, 90, 46, 122, 126, 134, 40, 94, 77, 30, 54, 58, 52, 89, 16, 17, 27, 82, 70, 43, 80, 87, 39, 49, 69, 31, 35, 88, 62, 40, 33, 43, 48, 25, 14, 42, 49, 131, 89, 50, 42, 44, 82, 99, 99, 81, 69, 117, 53, 65, 51, 45, 138, 43, 42, 48, 93, 64, 33, 43, 132, 46, 44, 8, 20, 46, 95, 80, 86, 56, 83, 83, 110, 136, 121, 135, 111, 110, 94, 91, 134, 72, 89, 58, 12, 132, 102, 91, 116, 26, 20, 136, 66, 63, 60, 53, 60, 69, 65, 35, 136, 41, 114, 33, 67, 38, 45, 21, 11, 51, 127, 127, 14, 97, 100, 72, 24, 64, 135, 44, 128, 106, 63, 135, 82, 96, 84, 78, 84, 43, 42, 53, 62, 41, 86, 19, 52, 11, 106, 43, 38, 106, 100, 113, 39, 96, 39, 36, 73, 42, 91, 56, 47, 132, 71, 29, 53, 66, 71, 70, 60, 106, 57, 74, 53, 121, 129, 91, 61, 91, 75, 75, 115, 63, 91, 75, 75, 35, 76, 68, 99, 85, 83, 58, 107, 62, 22, 62, 39, 93, 54, 136, 82, 55, 86, 54, 62, 94, 73, 71, 74, 96, 72, 105, 124, 89, 97, 96, 91, 53, 35, 77, 97, 86, 97, 92, 86, 71, 57, 101, 100, 73, 18, 83, 57, 109, 83, 66, 34, 62, 60, 54, 135, 33, 36, 67, 60, 85, 82, 128, 97, 33, 75, 98, 61, 25, 82, 120, 130, 89, 85, 49, 50, 45, 130, 89, 27, 49, 100, 94, 132, 45, 79, 73, 59, 95, 107, 68, 74, 61, 95, 83, 73, 64, 120, 38, 76, 112, 100, 52, 81, 24, 17, 99, 98, 52, 59, 115, 123, 137, 133, 80, 134, 37, 45, 115, 69, 119, 123, 16, 16, 17, 16, 53, 32, 72, 25, 118, 61, 37, 79, 67, 55, 67, 79, 84, 110, 20, 138, 48, 88, 65, 33, 67, 80, 89, 99, 40, 31, 74, 12, 14, 42, 24, 21, 98, 75, 75, 90, 123, 120, 93, 110, 19, 48, 110, 53, 122, 56, 57, 112, 55, 12, 47, 118, 55, 86, 125, 41, 44, 66, 81, 10, 94, 49, 38, 54, 119, 61, 127, 135, 45, 95, 73, 131, 71, 46, 86, 42, 82, 122, 85, 68, 81, 67, 39, 38, 99, 67, 83, 24, 23, 138, 26, 54, 57, 59, 74, 83, 49, 105, 83, 36, 112, 38, 38, 54, 21, 87, 41, 53, 26, 33, 92, 12, 29, 23, 22, 43, 19, 111, 132, 24, 13, 69, 26, 57, 98, 19, 110, 81, 63, 45, 114, 114, 82, 103, 85, 100, 102, 81, 21, 135, 100, 55, 44, 86, 59, 55, 33, 121, 80, 78, 39, 41, 28, 62, 82, 73, 43, 36, 76, 87, 74, 25, 133, 135, 88, 32, 135, 59, 122, 20, 100, 41, 53, 87, 55, 34, 46, 48, 109, 32, 78, 76, 111, 50, 31, 138, 15, 16, 110, 99, 73, 96, 43, 30, 36, 82, 47, 74, 29, 37, 54, 45, 38, 70, 129, 117, 77, 103, 17, 39, 117, 31, 125, 40, 25, 31, 23, 25, 88, 42, 36, 129, 50, 32, 18, 74, 47, 57, 15, 37, 94, 128, 42, 96, 62, 52, 86, 24, 99, 94, 113, 129, 31, 35, 50, 33, 133, 24, 125, 11, 54, 34, 86, 29, 37, 35, 86, 99, 88, 122, 40, 85, 106, 131, 65, 90, 116, 70, 127, 28, 30, 57, 70, 124, 105, 60, 13, 111, 53, 123, 82, 119, 50, 115, 130, 104, 99, 121, 84, 133, 114, 78, 31, 103, 77, 58, 113, 86, 132, 58, 33, 36, 17, 43, 85, 36, 61, 75, 49, 56, 136, 104, 19, 108, 56, 86, 56, 46, 49, 45, 27, 103, 40, 127, 19, 18, 23, 68, 29, 92, 28, 94, 16, 68, 42, 55, 99, 71, 53, 98, 73, 58, 92, 33, 98, 69, 50, 68, 87, 30, 40, 51, 82, 77, 18, 23, 98, 117, 30, 127, 133, 99, 129, 89, 118, 98, 39, 34, 54, 104, 98, 86, 90, 98, 52, 67, 88, 126, 99, 115, 49, 96, 65, 124, 45, 136, 97, 124, 86, 41, 37, 109, 91, 45, 79, 102, 120, 47, 13, 110, 112, 32, 122, 64, 51, 134, 112, 68, 78, 35, 110, 104, 85, 99, 108, 68, 63, 44, 34, 71, 16, 36, 31, 35, 118, 79, 117, 101, 29, 68, 90, 87, 26, 71, 47, 32, 88, 25, 31, 37, 79, 75, 66, 35, 39, 34, 127, 20, 83, 36, 18, 81, 18, 31, 79, 95, 61, 40, 57, 17, 100, 59, 39, 53, 69, 86, 78, 88, 25, 46, 39, 109, 97, 62, 64, 44, 43, 64, 29, 18, 103, 29, 55, 20, 21, 134, 63, 18, 57, 108, 35, 52, 32, 98, 58, 86, 70, 82, 81, 62, 58, 112, 99, 117, 115, 112, 112, 69, 130, 18, 128, 86, 106, 117, 74, 96, 39, 70, 77, 89, 92, 100, 99, 98, 124, 71, 66, 47, 30, 16, 75, 54, 29, 40, 40, 22, 114, 59, 39, 132, 115, 9, 65, 48, 49, 24, 72, 122, 25, 111, 97, 58, 11, 26, 74, 25, 86, 47, 88, 98, 88, 38, 133, 104, 23, 94, 33, 88, 28, 41, 38, 76, 69, 97, 130, 25, 67, 71, 27, 117, 89, 49, 27, 29, 27, 26, 131, 80, 110, 54, 71, 109, 90, 68, 41, 53, 90, 21, 87, 58, 132, 37, 41, 132, 133, 37, 124, 18, 70, 89, 76, 44, 87, 39, 12, 129, 103, 120, 78, 39, 71, 129, 126, 87, 28, 77, 120, 53, 72, 124, 129, 16, 46, 39, 25, 34, 35, 130, 33, 99, 116, 95, 136, 129, 19, 58, 99, 87, 27, 36, 43, 30, 33, 55, 25, 95, 19, 130, 54, 114, 115, 12, 114, 101, 72, 58, 46, 49, 96, 18, 109, 30, 101, 98, 94, 100, 99, 37, 75, 114, 52, 36, 29, 104, 78, 102, 72, 94, 66, 68, 120, 58, 138, 136, 102, 59, 136, 134, 40, 52, 98, 136, 35, 121, 13, 96, 115, 117, 22, 56, 117, 130, 111, 26, 97, 24, 115, 91, 135, 135, 74, 54, 139, 96, 126, 133, 101, 53, 80, 91, 87, 67, 99, 62, 94, 98, 27, 32, 57, 93, 25, 87, 72, 93, 100, 97, 35, 97, 122, 86, 100, 22, 50, 15, 94, 115, 48, 80, 31, 82, 66, 17, 39, 31, 16, 84, 40, 23, 56, 30, 28, 83, 72, 25, 58, 17, 42, 94, 27, 51, 45, 34, 53, 57, 23, 22, 44, 102, 53, 35, 56, 33, 89, 52, 13, 54, 82, 60, 102, 13, 30, 53, 137, 105, 55, 58, 77, 116, 54, 105, 27, 99, 25, 39, 24, 87, 67, 75, 43, 40, 32, 97, 25, 15, 13, 30, 73, 83, 28, 18, 127, 46, 57, 30, 51, 33, 48, 136, 137, 118, 60, 55, 62, 71, 77, 97, 125, 16, 52, 80, 95, 95, 63, 136, 17, 68, 118, 87, 21, 38, 60, 103, 15, 58, 76, 39, 61, 95, 69, 15, 92, 116, 27, 83, 103, 32, 25, 125, 58, 51, 29, 23, 35, 62, 46, 12, 21, 133, 39, 124, 44, 130, 113, 99, 54, 47, 99, 101, 132, 8, 20, 129, 62, 67, 74, 128, 26, 112, 67, 20, 23, 97, 60, 72, 55, 115, 33, 40, 92, 61, 98, 17, 10, 115, 53, 95, 131, 97, 115, 38, 76, 117, 123, 72, 97, 29, 39, 78, 129, 49, 44, 124, 87, 103, 132, 30, 21, 79, 87, 94, 134, 69, 125, 78, 64, 71, 27, 53, 76, 12, 12, 12, 26, 26, 75, 133, 53, 95, 121, 120, 43, 133, 31, 121, 56, 122, 131, 90, 92, 118, 123, 120, 78, 123, 46, 104, 63, 121, 37, 72, 19, 34, 48, 121, 54, 74, 90, 69, 64, 21, 128, 99, 92, 111, 36, 63, 32, 82, 60, 51, 121, 31, 113, 30, 63, 137, 132, 126, 138, 134, 56, 84, 88, 112, 40, 117, 87, 113, 101, 18, 40, 134, 27, 31, 93, 84, 123, 55, 94, 60, 41, 45, 46, 59, 127, 137, 97, 51, 100, 107, 116, 63, 102, 69, 73, 62, 33, 83, 82, 60, 71, 84, 25, 23, 24, 72, 19, 94, 46, 31, 83, 25, 61, 61, 62, 26, 99, 58, 62, 84, 42, 29, 119, 84, 64, 65, 90, 30, 19, 71, 61, 12, 106, 93, 29, 47, 37, 59, 120, 64, 54, 89, 30, 130, 79, 100, 75, 45, 35, 25, 49, 78, 66, 22, 79, 26, 41, 43, 38, 49, 16, 98, 102, 45, 73, 86, 134, 50, 121, 88, 78, 136, 68, 54, 54, 37, 136, 102, 53, 46, 25, 18, 46, 107, 97, 67, 100, 38, 22, 56, 44, 132, 124, 97, 86, 74, 126, 31, 19, 25, 99, 115, 47, 26, 67, 33, 38, 54, 41, 103, 103, 118, 39, 27, 82, 90, 71, 72, 29, 138, 128, 32, 52, 92, 133, 34, 36, 98, 56, 91, 42, 38, 100, 72, 19, 100, 42, 25, 73, 94, 47, 63, 69, 20, 32, 47, 136, 22, 61, 48, 75, 108, 80, 131, 131, 26, 26, 51, 108, 97, 91, 71, 100, 10, 98, 98, 19, 73, 46, 120, 32, 36, 33, 134, 29, 31, 79, 97, 101, 39, 90, 100, 92, 102, 73, 38, 25, 25, 28, 98, 69, 50, 34, 75, 38, 63, 19, 85, 40, 32, 113, 19, 138, 60, 93, 40, 91, 45, 136, 26, 93, 83, 130, 70, 137, 129, 67, 75, 25, 67, 86, 77, 21, 107, 106, 67, 88, 87, 78, 72, 93, 100, 134, 70, 135, 132, 106, 79, 83, 90, 83, 68, 43, 98, 66, 103, 89, 85, 97, 76, 97, 98, 63, 68, 136, 77, 92, 96, 129, 122, 142, 107, 144, 144, 148, 142, 142, 59, 142, 111, 142, 134, 137, 142, 118, 120, 122, 120, 142, 121, 142, 120, 144, 77, 144, 141, 142, 144, 113, 143, 142, 142, 142, 144, 143, 96, 142, 142, 104, 144, 148, 142, 142, 107, 144, 143, 91, 142, 132, 137, 142, 142, 103, 142, 144, 123, 122, 141, 142, 143, 142, 129, 146, 142, 142, 141, 142, 77, 142, 144, 142, 144, 142, 142, 144, 144, 116, 142, 143, 141, 142, 142, 142, 150, 105, 103, 142, 78, 142, 143, 154, 142, 142, 127, 141, 142, 119, 142, 107, 142, 142, 142, 142, 142, 146, 144, 132, 142, 142, 110, 141, 141, 143, 114, 142, 103, 144, 148, 142, 142, 146, 109, 118, 142, 102, 132, 101, 142, 108, 116, 142, 122, 141, 142, 142, 98, 94, 91, 142, 109, 83, 144, 142, 144, 134, 142, 141, 142, 142, 144, 142, 146, 146, 148, 113, 142, 141, 142, 101, 142, 142, 141, 142, 136, 142, 144, 142, 144, 142, 118, 142, 142, 98, 97, 142, 142, 142, 142, 141, 121, 142, 142, 141, 84, 142, 85, 142, 137, 81, 94, 89, 113, 121, 95, 93, 117, 108, 107, 127, 69, 81, 140, 118, 127, 86, 88, 128, 80, 80, 62, 74, 94, 92, 91, 79, 121, 139, 95, 97, 78, 128, 59, 97, 97, 97, 126, 91, 97, 78, 140, 87, 109, 86, 95, 90, 88, 109, 139, 84, 140, 134, 88, 136, 69, 107, 95, 103, 98, 86, 88, 103, 100, 53, 117, 140, 109, 61, 101, 129, 71, 90, 103, 121, 140, 140, 140, 140, 68, 132, 103, 88, 129, 84, 96, 110, 140, 140, 139, 78, 103, 108, 140, 96, 101, 87, 84, 130, 80, 89, 87, 83, 93, 83, 137, 83, 130, 90, 92, 140, 90, 97, 87, 86, 86, 107, 112, 99, 75, 95, 140, 140, 96, 95, 93, 118, 75, 97, 64, 74, 88, 94, 126, 85, 112, 102, 128, 118, 139, 80, 61, 69, 63, 75, 81, 100, 140, 102, 129, 129, 130, 140, 131, 117], \"xaxis\": \"x\", \"yaxis\": \"y\"}, {\"alignmentgroup\": \"True\", \"bingroup\": \"x\", \"hoverlabel\": {\"namelength\": 0}, \"hovertemplate\": \"color=Bear<br>x=%{x}<br>count=%{y}\", \"legendgroup\": \"color=Bear\", \"marker\": {\"color\": \"#EF553B\"}, \"name\": \"color=Bear\", \"nbinsx\": 40, \"offsetgroup\": \"color=Bear\", \"orientation\": \"v\", \"showlegend\": true, \"type\": \"histogram\", \"x\": [117, 72, 63, 30, 80, 83, 110, 71, 105, 15, 109, 37, 84, 123, 120, 85, 136, 52, 99, 84, 112, 84, 49, 43, 24, 125, 83, 60, 135, 76, 133, 132, 88, 62, 90, 125, 85, 112, 75, 83, 90, 23, 74, 67, 64, 92, 73, 55, 100, 137, 98, 100, 72, 112, 96, 65, 92, 42, 40, 52, 43, 101, 16, 84, 125, 135, 77, 91, 72, 42, 133, 19, 133, 112, 54, 63, 50, 52, 50, 70, 91, 88, 43, 74, 105, 51, 79, 36, 82, 30, 87, 84, 123, 106, 19, 37, 108, 54, 136, 134, 70, 80, 23, 126, 103, 114, 49, 92, 62, 86, 77, 134, 79, 87, 98, 116, 52, 62, 46, 127, 51, 67, 113, 71, 93, 78, 99, 81, 40, 129, 10, 98, 40, 127, 51, 51, 24, 139, 83, 73, 100, 28, 78, 125, 104, 37, 134, 75, 84, 55, 60, 99, 72, 138, 49, 73, 33, 72, 56, 42, 77, 54, 120, 55, 96, 60, 28, 111, 52, 114, 102, 91, 70, 24, 109, 93, 48, 67, 75, 88, 87, 37, 58, 52, 127, 95, 58, 118, 37, 42, 137, 41, 68, 78, 77, 10, 41, 100, 74, 94, 131, 99, 19, 118, 57, 132, 73, 21, 70, 93, 22, 20, 89, 111, 23, 18, 66, 68, 30, 101, 54, 56, 92, 128, 73, 70, 42, 119, 100, 16, 125, 41, 67, 65, 44, 128, 80, 55, 73, 136, 125, 125, 125, 82, 61, 37, 34, 36, 128, 45, 67, 112, 84, 106, 108, 113, 63, 54, 98, 94, 99, 93, 40, 54, 100, 42, 56, 63, 83, 41, 79, 98, 24, 43, 31, 76, 125, 15, 124, 86, 31, 50, 65, 136, 36, 46, 96, 18, 65, 64, 71, 102, 119, 47, 95, 30, 82, 88, 111, 102, 36, 53, 139, 138, 113, 58, 115, 43, 52, 42, 138, 98, 94, 79, 12, 70, 51, 118, 57, 65, 18, 98, 42, 42, 114, 129, 19, 32, 101, 129, 53, 43, 111, 74, 45, 135, 83, 63, 93, 81, 90, 127, 46, 34, 15, 17, 30, 22, 22, 31, 75, 23, 86, 106, 110, 102, 57, 67, 54, 68, 94, 123, 103, 32, 53, 126, 121, 121, 134, 132, 56, 14, 34, 18, 14, 67, 135, 42, 29, 56, 138, 57, 136, 125, 49, 19, 75, 104, 67, 108, 107, 94, 61, 35, 87, 9, 35, 138, 17, 41, 66, 112, 106, 33, 65, 73, 125, 127, 15, 100, 129, 58, 34, 101, 127, 65, 27, 62, 15, 17, 61, 25, 138, 136, 42, 112, 63, 126, 139, 81, 26, 114, 125, 32, 55, 84, 128, 138, 132, 135, 82, 122, 25, 108, 24, 16, 130, 18, 13, 37, 27, 39, 12, 95, 64, 86, 32, 124, 36, 77, 129, 10, 24, 106, 114, 136, 125, 136, 137, 139, 87, 62, 136, 114, 137, 33, 139, 110, 48, 101, 83, 139, 94, 72, 23, 131, 120, 113, 83, 95, 101, 51, 69, 81, 39, 136, 94, 98, 51, 69, 122, 100, 95, 27, 137, 114, 53, 64, 100, 18, 36, 64, 103, 101, 110, 95, 135, 64, 97, 92, 98, 53, 33, 32, 127, 72, 127, 48, 112, 65, 63, 62, 59, 134, 94, 24, 85, 95, 38, 127, 62, 127, 133, 56, 86, 87, 61, 73, 49, 65, 26, 51, 131, 130, 63, 71, 69, 53, 106, 42, 21, 56, 61, 95, 69, 103, 134, 65, 87, 36, 15, 68, 42, 35, 96, 132, 71, 66, 47, 117, 81, 95, 50, 83, 62, 130, 63, 71, 76, 97, 85, 20, 111, 60, 70, 132, 98, 61, 59, 56, 81, 80, 91, 50, 60, 109, 77, 105, 126, 70, 119, 15, 110, 68, 61, 57, 78, 39, 46, 116, 31, 67, 43, 94, 107, 38, 62, 68, 29, 109, 20, 58, 97, 95, 53, 134, 88, 67, 99, 76, 31, 43, 25, 118, 48, 33, 32, 46, 68, 95, 88, 99, 48, 98, 98, 54, 40, 22, 137, 117, 131, 46, 137, 99, 30, 103, 100, 83, 48, 128, 34, 16, 26, 25, 9, 21, 49, 23, 52, 27, 47, 106, 60, 59, 18, 41, 90, 61, 10, 36, 56, 88, 59, 100, 80, 119, 31, 77, 31, 49, 67, 73, 48, 37, 71, 27, 74, 29, 95, 89, 52, 106, 104, 96, 30, 82, 26, 41, 39, 55, 44, 96, 73, 25, 39, 22, 29, 118, 59, 35, 81, 134, 87, 113, 82, 33, 80, 40, 25, 51, 64, 56, 61, 58, 100, 76, 77, 97, 91, 51, 67, 76, 13, 83, 8, 50, 22, 52, 44, 83, 19, 129, 132, 99, 82, 129, 53, 66, 53, 43, 34, 54, 50, 60, 64, 107, 122, 135, 137, 59, 59, 83, 85, 97, 95, 50, 52, 87, 79, 129, 137, 125, 132, 53, 75, 60, 74, 122, 40, 52, 48, 137, 32, 103, 16, 118, 109, 27, 53, 134, 12, 40, 24, 74, 72, 81, 85, 58, 42, 48, 91, 37, 122, 31, 64, 101, 98, 90, 95, 92, 114, 73, 55, 14, 11, 39, 28, 42, 23, 47, 43, 23, 111, 72, 15, 32, 31, 96, 85, 28, 47, 71, 117, 65, 75, 69, 105, 29, 54, 61, 90, 35, 38, 34, 68, 127, 56, 59, 78, 29, 132, 74, 57, 132, 57, 88, 77, 92, 123, 97, 88, 74, 52, 114, 126, 49, 77, 19, 53, 118, 59, 60, 33, 47, 54, 60, 131, 9, 34, 110, 66, 66, 22, 54, 49, 63, 47, 136, 85, 57, 20, 52, 9, 65, 65, 64, 56, 22, 57, 115, 61, 119, 69, 60, 57, 59, 122, 28, 37, 56, 55, 99, 123, 50, 86, 58, 52, 99, 108, 91, 96, 98, 66, 121, 71, 28, 70, 95, 116, 23, 71, 91, 69, 61, 66, 99, 130, 101, 62, 59, 57, 20, 110, 53, 62, 30, 49, 72, 53, 124, 31, 64, 42, 48, 34, 127, 105, 53, 42, 34, 23, 58, 136, 51, 126, 69, 110, 76, 120, 79, 128, 95, 137, 63, 59, 73, 98, 67, 92, 109, 99, 51, 58, 56, 44, 62, 87, 40, 58, 123, 73, 57, 129, 75, 46, 14, 108, 19, 113, 26, 25, 63, 84, 23, 93, 88, 102, 52, 53, 55, 74, 27, 129, 132, 87, 122, 100, 94, 82, 23, 47, 73, 65, 39, 70, 55, 32, 123, 62, 113, 129, 36, 90, 47, 109, 113, 132, 58, 51, 69, 73, 39, 53, 96, 125, 101, 130, 138, 136, 86, 134, 48, 50, 18, 138, 93, 94, 39, 70, 37, 96, 73, 27, 124, 89, 63, 82, 50, 134, 124, 121, 90, 64, 117, 26, 93, 99, 62, 59, 133, 58, 89, 101, 64, 17, 16, 17, 61, 95, 122, 106, 66, 131, 74, 136, 124, 61, 125, 30, 114, 15, 56, 126, 83, 50, 84, 45, 95, 117, 137, 26, 113, 133, 137, 24, 93, 96, 74, 73, 100, 90, 30, 119, 91, 45, 50, 24, 10, 49, 137, 133, 37, 49, 16, 19, 98, 28, 63, 78, 128, 14, 79, 32, 114, 29, 49, 136, 83, 37, 89, 69, 17, 64, 38, 90, 28, 29, 16, 33, 130, 15, 64, 20, 23, 130, 14, 100, 78, 43, 16, 40, 127, 47, 47, 57, 65, 52, 73, 59, 89, 113, 53, 75, 92, 100, 23, 94, 92, 64, 34, 55, 62, 44, 118, 15, 61, 41, 69, 66, 102, 124, 133, 69, 136, 127, 18, 46, 59, 118, 127, 56, 31, 32, 94, 118, 14, 95, 79, 35, 52, 28, 81, 58, 79, 61, 30, 46, 62, 23, 54, 108, 25, 136, 92, 54, 35, 50, 31, 129, 49, 20, 80, 126, 99, 20, 107, 60, 32, 136, 44, 53, 121, 135, 138, 27, 68, 112, 49, 98, 39, 89, 133, 57, 95, 80, 45, 82, 10, 21, 14, 17, 41, 16, 21, 14, 29, 37, 13, 60, 23, 47, 38, 100, 22, 96, 70, 17, 62, 64, 55, 19, 29, 12, 41, 25, 83, 26, 37, 82, 46, 15, 54, 23, 102, 92, 28, 100, 136, 54, 133, 16, 29, 41, 49, 82, 63, 24, 82, 100, 16, 138, 67, 116, 15, 38, 31, 32, 138, 71, 38, 86, 15, 64, 113, 55, 62, 75, 22, 18, 45, 95, 81, 113, 136, 16, 60, 63, 72, 24, 78, 99, 72, 49, 44, 123, 118, 121, 116, 56, 70, 68, 27, 90, 65, 90, 126, 59, 99, 107, 105, 28, 107, 132, 78, 53, 23, 100, 135, 135, 23, 16, 28, 19, 136, 128, 80, 22, 27, 19, 10, 9, 66, 52, 66, 50, 66, 58, 85, 29, 82, 27, 26, 19, 36, 135, 86, 62, 93, 136, 65, 16, 94, 12, 74, 88, 77, 47, 99, 113, 124, 136, 114, 71, 20, 31, 24, 29, 25, 80, 25, 96, 17, 25, 16, 12, 26, 38, 20, 36, 90, 130, 31, 65, 14, 85, 52, 38, 92, 41, 67, 41, 23, 31, 30, 16, 25, 67, 100, 59, 15, 66, 29, 24, 32, 99, 45, 63, 105, 46, 37, 59, 123, 75, 99, 94, 79, 34, 37, 78, 53, 45, 27, 49, 74, 15, 29, 137, 20, 22, 66, 44, 99, 125, 36, 76, 84, 98, 58, 45, 114, 113, 76, 68, 130, 48, 50, 37, 67, 66, 51, 34, 16, 44, 75, 127, 39, 106, 61, 31, 36, 133, 29, 64, 14, 133, 28, 28, 71, 32, 27, 29, 40, 122, 46, 96, 99, 72, 78, 74, 16, 27, 99, 64, 49, 111, 51, 47, 127, 135, 56, 128, 137, 108, 86, 60, 59, 70, 52, 80, 27, 39, 60, 39, 40, 60, 54, 46, 14, 87, 12, 47, 49, 19, 10, 67, 82, 115, 69, 53, 21, 53, 54, 127, 41, 111, 26, 56, 57, 60, 69, 36, 139, 55, 21, 10, 68, 99, 43, 102, 135, 122, 133, 77, 112, 82, 81, 44, 33, 97, 120, 41, 59, 69, 59, 142, 142, 126, 132, 142, 142, 142, 91, 141, 144, 142, 141, 144, 60, 142, 143, 141, 143, 67, 141, 146, 132, 142, 142, 142, 146, 125, 142, 125, 142, 142, 142, 137, 118, 128, 142, 150, 100, 109, 142, 136, 135, 144, 142, 142, 110, 142, 142, 142, 142, 136, 114, 65, 144, 144, 142, 111, 144, 142, 123, 144, 133, 147, 65, 126, 142, 120, 142, 139, 142, 56, 146, 144, 142, 104, 126, 72, 106, 144, 143, 142, 134, 146, 146, 142, 142, 103, 142, 146, 94, 142, 142, 144, 146, 142, 142, 144, 146, 141, 141, 138, 142, 142, 80, 142, 142, 146, 142, 103, 148, 142, 144, 144, 124, 102, 104, 137, 142, 142, 142, 142, 139, 142, 144, 144, 142, 123, 128, 122, 142, 142, 142, 144, 93, 142, 142, 124, 144, 142, 142, 123, 142, 142, 139, 86, 144, 112, 141, 142, 142, 144, 142, 134, 142, 142, 144, 98, 141, 99, 142, 136, 146, 142, 142, 113, 142, 93, 128, 140, 141, 142, 142, 139, 96, 142, 99, 142, 142, 116, 90, 141, 91, 142, 150, 142, 137, 142, 142, 142, 142, 146, 142, 72, 80, 139, 143, 142, 144, 146, 141, 142, 127, 142, 142, 139, 113, 142, 142, 144, 105, 111, 141, 71, 143, 142, 132, 117, 145, 126, 142, 124, 142, 120, 142, 94, 142, 142, 142, 141, 144, 142, 144, 97, 144, 144, 142, 144, 126, 142, 142, 93, 141, 143, 142, 122, 86, 142, 142, 128, 142, 141, 131, 93, 97, 90, 98, 102, 119, 104, 92, 134, 85, 101, 81, 84, 74, 124, 92, 88, 93, 91, 64, 94, 97, 110, 101, 84, 86, 77, 86, 119, 94, 115, 89, 98, 140, 92, 91, 76, 90, 97, 100, 97, 84, 106, 91, 66, 87, 88, 98, 88, 80, 104, 128, 76, 91, 80, 65, 106, 140, 88, 87, 83, 88, 85, 89, 106, 98, 74, 97, 94, 102, 97, 77, 99, 95, 119, 85, 94, 90, 102, 140, 98, 95, 80, 96, 102, 77, 92, 100, 95, 140, 95, 93, 92, 93, 95, 92, 95, 85, 100, 97, 97, 95, 66, 97, 78, 140, 91, 103, 138, 89, 115, 89, 101, 91, 89, 80, 98, 90, 84, 96, 93, 59, 58, 86, 86, 78, 93, 96, 64, 90, 88, 112, 85, 91, 58, 102, 84, 125, 140, 81, 86, 140, 140, 94, 94, 140, 104, 137, 110, 140, 88, 108, 140, 140, 140, 60, 101, 105, 83, 95, 105, 71, 94, 83, 97, 137, 99, 106, 108, 140, 95, 87, 94, 75, 69, 82, 90, 123, 91, 126, 76, 96, 125, 98, 68, 63, 87, 94, 96, 92, 93, 83, 140, 93, 98, 108, 105, 89, 86, 85, 98, 101, 116, 119, 112, 101, 73, 83, 102, 121, 98, 78, 134, 104, 101, 139, 140, 133, 122, 123], \"xaxis\": \"x\", \"yaxis\": \"y\"}],\n",
              "                        {\"barmode\": \"relative\", \"legend\": {\"tracegroupgap\": 0}, \"margin\": {\"t\": 60}, \"template\": {\"data\": {\"bar\": [{\"error_x\": {\"color\": \"#2a3f5f\"}, \"error_y\": {\"color\": \"#2a3f5f\"}, \"marker\": {\"line\": {\"color\": \"#E5ECF6\", \"width\": 0.5}}, \"type\": \"bar\"}], \"barpolar\": [{\"marker\": {\"line\": {\"color\": \"#E5ECF6\", \"width\": 0.5}}, \"type\": \"barpolar\"}], \"carpet\": [{\"aaxis\": {\"endlinecolor\": \"#2a3f5f\", \"gridcolor\": \"white\", \"linecolor\": \"white\", \"minorgridcolor\": \"white\", \"startlinecolor\": \"#2a3f5f\"}, \"baxis\": {\"endlinecolor\": \"#2a3f5f\", \"gridcolor\": \"white\", \"linecolor\": \"white\", \"minorgridcolor\": \"white\", \"startlinecolor\": \"#2a3f5f\"}, \"type\": \"carpet\"}], \"choropleth\": [{\"colorbar\": {\"outlinewidth\": 0, \"ticks\": \"\"}, \"type\": \"choropleth\"}], \"contour\": [{\"colorbar\": {\"outlinewidth\": 0, \"ticks\": \"\"}, \"colorscale\": [[0.0, \"#0d0887\"], [0.1111111111111111, \"#46039f\"], [0.2222222222222222, \"#7201a8\"], [0.3333333333333333, \"#9c179e\"], [0.4444444444444444, \"#bd3786\"], [0.5555555555555556, \"#d8576b\"], [0.6666666666666666, \"#ed7953\"], [0.7777777777777778, \"#fb9f3a\"], [0.8888888888888888, \"#fdca26\"], [1.0, \"#f0f921\"]], \"type\": \"contour\"}], \"contourcarpet\": [{\"colorbar\": {\"outlinewidth\": 0, \"ticks\": \"\"}, \"type\": \"contourcarpet\"}], \"heatmap\": [{\"colorbar\": {\"outlinewidth\": 0, \"ticks\": \"\"}, \"colorscale\": [[0.0, \"#0d0887\"], [0.1111111111111111, \"#46039f\"], [0.2222222222222222, \"#7201a8\"], [0.3333333333333333, \"#9c179e\"], [0.4444444444444444, \"#bd3786\"], [0.5555555555555556, \"#d8576b\"], [0.6666666666666666, \"#ed7953\"], [0.7777777777777778, \"#fb9f3a\"], [0.8888888888888888, \"#fdca26\"], [1.0, \"#f0f921\"]], \"type\": \"heatmap\"}], \"heatmapgl\": [{\"colorbar\": {\"outlinewidth\": 0, \"ticks\": \"\"}, \"colorscale\": [[0.0, \"#0d0887\"], [0.1111111111111111, \"#46039f\"], [0.2222222222222222, \"#7201a8\"], [0.3333333333333333, \"#9c179e\"], [0.4444444444444444, \"#bd3786\"], [0.5555555555555556, \"#d8576b\"], [0.6666666666666666, \"#ed7953\"], [0.7777777777777778, \"#fb9f3a\"], [0.8888888888888888, \"#fdca26\"], [1.0, \"#f0f921\"]], \"type\": \"heatmapgl\"}], \"histogram\": [{\"marker\": {\"colorbar\": {\"outlinewidth\": 0, \"ticks\": \"\"}}, \"type\": \"histogram\"}], \"histogram2d\": [{\"colorbar\": {\"outlinewidth\": 0, \"ticks\": \"\"}, \"colorscale\": [[0.0, \"#0d0887\"], [0.1111111111111111, \"#46039f\"], [0.2222222222222222, \"#7201a8\"], [0.3333333333333333, \"#9c179e\"], [0.4444444444444444, \"#bd3786\"], [0.5555555555555556, \"#d8576b\"], [0.6666666666666666, \"#ed7953\"], [0.7777777777777778, \"#fb9f3a\"], [0.8888888888888888, \"#fdca26\"], [1.0, \"#f0f921\"]], \"type\": \"histogram2d\"}], \"histogram2dcontour\": [{\"colorbar\": {\"outlinewidth\": 0, \"ticks\": \"\"}, \"colorscale\": [[0.0, \"#0d0887\"], [0.1111111111111111, \"#46039f\"], [0.2222222222222222, \"#7201a8\"], [0.3333333333333333, \"#9c179e\"], [0.4444444444444444, \"#bd3786\"], [0.5555555555555556, \"#d8576b\"], [0.6666666666666666, \"#ed7953\"], [0.7777777777777778, \"#fb9f3a\"], [0.8888888888888888, \"#fdca26\"], [1.0, \"#f0f921\"]], \"type\": \"histogram2dcontour\"}], \"mesh3d\": [{\"colorbar\": {\"outlinewidth\": 0, \"ticks\": \"\"}, \"type\": \"mesh3d\"}], \"parcoords\": [{\"line\": {\"colorbar\": {\"outlinewidth\": 0, \"ticks\": \"\"}}, \"type\": \"parcoords\"}], \"pie\": [{\"automargin\": true, \"type\": \"pie\"}], \"scatter\": [{\"marker\": {\"colorbar\": {\"outlinewidth\": 0, \"ticks\": \"\"}}, \"type\": \"scatter\"}], \"scatter3d\": [{\"line\": {\"colorbar\": {\"outlinewidth\": 0, \"ticks\": \"\"}}, \"marker\": {\"colorbar\": {\"outlinewidth\": 0, \"ticks\": \"\"}}, \"type\": \"scatter3d\"}], \"scattercarpet\": [{\"marker\": {\"colorbar\": {\"outlinewidth\": 0, \"ticks\": \"\"}}, \"type\": \"scattercarpet\"}], \"scattergeo\": [{\"marker\": {\"colorbar\": {\"outlinewidth\": 0, \"ticks\": \"\"}}, \"type\": \"scattergeo\"}], \"scattergl\": [{\"marker\": {\"colorbar\": {\"outlinewidth\": 0, \"ticks\": \"\"}}, \"type\": \"scattergl\"}], \"scattermapbox\": [{\"marker\": {\"colorbar\": {\"outlinewidth\": 0, \"ticks\": \"\"}}, \"type\": \"scattermapbox\"}], \"scatterpolar\": [{\"marker\": {\"colorbar\": {\"outlinewidth\": 0, \"ticks\": \"\"}}, \"type\": \"scatterpolar\"}], \"scatterpolargl\": [{\"marker\": {\"colorbar\": {\"outlinewidth\": 0, \"ticks\": \"\"}}, \"type\": \"scatterpolargl\"}], \"scatterternary\": [{\"marker\": {\"colorbar\": {\"outlinewidth\": 0, \"ticks\": \"\"}}, \"type\": \"scatterternary\"}], \"surface\": [{\"colorbar\": {\"outlinewidth\": 0, \"ticks\": \"\"}, \"colorscale\": [[0.0, \"#0d0887\"], [0.1111111111111111, \"#46039f\"], [0.2222222222222222, \"#7201a8\"], [0.3333333333333333, \"#9c179e\"], [0.4444444444444444, \"#bd3786\"], [0.5555555555555556, \"#d8576b\"], [0.6666666666666666, \"#ed7953\"], [0.7777777777777778, \"#fb9f3a\"], [0.8888888888888888, \"#fdca26\"], [1.0, \"#f0f921\"]], \"type\": \"surface\"}], \"table\": [{\"cells\": {\"fill\": {\"color\": \"#EBF0F8\"}, \"line\": {\"color\": \"white\"}}, \"header\": {\"fill\": {\"color\": \"#C8D4E3\"}, \"line\": {\"color\": \"white\"}}, \"type\": \"table\"}]}, \"layout\": {\"annotationdefaults\": {\"arrowcolor\": \"#2a3f5f\", \"arrowhead\": 0, \"arrowwidth\": 1}, \"coloraxis\": {\"colorbar\": {\"outlinewidth\": 0, \"ticks\": \"\"}}, \"colorscale\": {\"diverging\": [[0, \"#8e0152\"], [0.1, \"#c51b7d\"], [0.2, \"#de77ae\"], [0.3, \"#f1b6da\"], [0.4, \"#fde0ef\"], [0.5, \"#f7f7f7\"], [0.6, \"#e6f5d0\"], [0.7, \"#b8e186\"], [0.8, \"#7fbc41\"], [0.9, \"#4d9221\"], [1, \"#276419\"]], \"sequential\": [[0.0, \"#0d0887\"], [0.1111111111111111, \"#46039f\"], [0.2222222222222222, \"#7201a8\"], [0.3333333333333333, \"#9c179e\"], [0.4444444444444444, \"#bd3786\"], [0.5555555555555556, \"#d8576b\"], [0.6666666666666666, \"#ed7953\"], [0.7777777777777778, \"#fb9f3a\"], [0.8888888888888888, \"#fdca26\"], [1.0, \"#f0f921\"]], \"sequentialminus\": [[0.0, \"#0d0887\"], [0.1111111111111111, \"#46039f\"], [0.2222222222222222, \"#7201a8\"], [0.3333333333333333, \"#9c179e\"], [0.4444444444444444, \"#bd3786\"], [0.5555555555555556, \"#d8576b\"], [0.6666666666666666, \"#ed7953\"], [0.7777777777777778, \"#fb9f3a\"], [0.8888888888888888, \"#fdca26\"], [1.0, \"#f0f921\"]]}, \"colorway\": [\"#636efa\", \"#EF553B\", \"#00cc96\", \"#ab63fa\", \"#FFA15A\", \"#19d3f3\", \"#FF6692\", \"#B6E880\", \"#FF97FF\", \"#FECB52\"], \"font\": {\"color\": \"#2a3f5f\"}, \"geo\": {\"bgcolor\": \"white\", \"lakecolor\": \"white\", \"landcolor\": \"#E5ECF6\", \"showlakes\": true, \"showland\": true, \"subunitcolor\": \"white\"}, \"hoverlabel\": {\"align\": \"left\"}, \"hovermode\": \"closest\", \"mapbox\": {\"style\": \"light\"}, \"paper_bgcolor\": \"white\", \"plot_bgcolor\": \"#E5ECF6\", \"polar\": {\"angularaxis\": {\"gridcolor\": \"white\", \"linecolor\": \"white\", \"ticks\": \"\"}, \"bgcolor\": \"#E5ECF6\", \"radialaxis\": {\"gridcolor\": \"white\", \"linecolor\": \"white\", \"ticks\": \"\"}}, \"scene\": {\"xaxis\": {\"backgroundcolor\": \"#E5ECF6\", \"gridcolor\": \"white\", \"gridwidth\": 2, \"linecolor\": \"white\", \"showbackground\": true, \"ticks\": \"\", \"zerolinecolor\": \"white\"}, \"yaxis\": {\"backgroundcolor\": \"#E5ECF6\", \"gridcolor\": \"white\", \"gridwidth\": 2, \"linecolor\": \"white\", \"showbackground\": true, \"ticks\": \"\", \"zerolinecolor\": \"white\"}, \"zaxis\": {\"backgroundcolor\": \"#E5ECF6\", \"gridcolor\": \"white\", \"gridwidth\": 2, \"linecolor\": \"white\", \"showbackground\": true, \"ticks\": \"\", \"zerolinecolor\": \"white\"}}, \"shapedefaults\": {\"line\": {\"color\": \"#2a3f5f\"}}, \"ternary\": {\"aaxis\": {\"gridcolor\": \"white\", \"linecolor\": \"white\", \"ticks\": \"\"}, \"baxis\": {\"gridcolor\": \"white\", \"linecolor\": \"white\", \"ticks\": \"\"}, \"bgcolor\": \"#E5ECF6\", \"caxis\": {\"gridcolor\": \"white\", \"linecolor\": \"white\", \"ticks\": \"\"}}, \"title\": {\"x\": 0.05}, \"xaxis\": {\"automargin\": true, \"gridcolor\": \"white\", \"linecolor\": \"white\", \"ticks\": \"\", \"title\": {\"standoff\": 15}, \"zerolinecolor\": \"white\", \"zerolinewidth\": 2}, \"yaxis\": {\"automargin\": true, \"gridcolor\": \"white\", \"linecolor\": \"white\", \"ticks\": \"\", \"title\": {\"standoff\": 15}, \"zerolinecolor\": \"white\", \"zerolinewidth\": 2}}}, \"xaxis\": {\"anchor\": \"y\", \"domain\": [0.0, 1.0], \"title\": {\"text\": \"x\"}}, \"yaxis\": {\"anchor\": \"x\", \"domain\": [0.0, 1.0], \"title\": {\"text\": \"count\"}}},\n",
              "                        {\"responsive\": true}\n",
              "                    ).then(function(){\n",
              "                            \n",
              "var gd = document.getElementById('5a4fb3e4-80e6-4a02-bb78-5c36c733ca3e');\n",
              "var x = new MutationObserver(function (mutations, observer) {{\n",
              "        var display = window.getComputedStyle(gd).display;\n",
              "        if (!display || display === 'none') {{\n",
              "            console.log([gd, 'removed!']);\n",
              "            Plotly.purge(gd);\n",
              "            observer.disconnect();\n",
              "        }}\n",
              "}});\n",
              "\n",
              "// Listen for the removal of the full notebook cells\n",
              "var notebookContainer = gd.closest('#notebook-container');\n",
              "if (notebookContainer) {{\n",
              "    x.observe(notebookContainer, {childList: true});\n",
              "}}\n",
              "\n",
              "// Listen for the clearing of the current output cell\n",
              "var outputEl = gd.closest('.output');\n",
              "if (outputEl) {{\n",
              "    x.observe(outputEl, {childList: true});\n",
              "}}\n",
              "\n",
              "                        })\n",
              "                };\n",
              "                \n",
              "            </script>\n",
              "        </div>\n",
              "</body>\n",
              "</html>"
            ]
          },
          "metadata": {
            "tags": []
          }
        },
        {
          "output_type": "display_data",
          "data": {
            "text/plain": [
              "<Figure size 864x864 with 0 Axes>"
            ]
          },
          "metadata": {
            "tags": []
          }
        }
      ]
    },
    {
      "cell_type": "markdown",
      "metadata": {
        "id": "crpnDqzWAsrR"
      },
      "source": [
        "#Boxplot for Sentiment and Text Length\n",
        "\n",
        "Below plot shows that mean value of text length for sentiment bear is higher than bull, which is opposite to bar plot."
      ]
    },
    {
      "cell_type": "code",
      "metadata": {
        "colab": {
          "base_uri": "https://localhost:8080/",
          "height": 298
        },
        "id": "Moj3ms_Fx3Dz",
        "outputId": "e738dc23-286c-4aef-9cb0-8f268c662e29"
      },
      "source": [
        "sns.boxplot(x='Sentiment',y='text length',data=df,palette='rainbow')"
      ],
      "execution_count": 254,
      "outputs": [
        {
          "output_type": "execute_result",
          "data": {
            "text/plain": [
              "<matplotlib.axes._subplots.AxesSubplot at 0x7f685a0ae750>"
            ]
          },
          "metadata": {
            "tags": []
          },
          "execution_count": 254
        },
        {
          "output_type": "display_data",
          "data": {
            "image/png": "[encoded data removed]",
            "text/plain": [
              "<Figure size 432x288 with 1 Axes>"
            ]
          },
          "metadata": {
            "tags": [],
            "needs_background": "light"
          }
        }
      ]
    },
    {
      "cell_type": "code",
      "metadata": {
        "colab": {
          "base_uri": "https://localhost:8080/",
          "height": 542
        },
        "id": "MlepaXVwKZ-X",
        "outputId": "c880f984-3206-4a48-b987-701fc18b7a2e"
      },
      "source": [
        "px.box(x=df['Sentiment'],y=df['text length'])"
      ],
      "execution_count": 255,
      "outputs": [
        {
          "output_type": "display_data",
          "data": {
            "text/html": [
              "<html>\n",
              "<head><meta charset=\"utf-8\" /></head>\n",
              "<body>\n",
              "    <div>\n",
              "            <script src=\"https://cdnjs.cloudflare.com/ajax/libs/mathjax/2.7.5/MathJax.js?config=TeX-AMS-MML_SVG\"></script><script type=\"text/javascript\">if (window.MathJax) {MathJax.Hub.Config({SVG: {font: \"STIX-Web\"}});}</script>\n",
              "                <script type=\"text/javascript\">window.PlotlyConfig = {MathJaxConfig: 'local'};</script>\n",
              "        <script src=\"https://cdn.plot.ly/plotly-latest.min.js\"></script>    \n",
              "            <div id=\"f930dcf8-b970-4417-86fb-cdefe2eeef66\" class=\"plotly-graph-div\" style=\"height:525px; width:100%;\"></div>\n",
              "            <script type=\"text/javascript\">\n",
              "                \n",
              "                    window.PLOTLYENV=window.PLOTLYENV || {};\n",
              "                    \n",
              "                if (document.getElementById(\"f930dcf8-b970-4417-86fb-cdefe2eeef66\")) {\n",
              "                    Plotly.newPlot(\n",
              "                        'f930dcf8-b970-4417-86fb-cdefe2eeef66',\n",
              "                        [{\"alignmentgroup\": \"True\", \"hoverlabel\": {\"namelength\": 0}, \"hovertemplate\": \"x=%{x}<br>y=%{y}\", \"legendgroup\": \"\", \"marker\": {\"color\": \"#636efa\"}, \"name\": \"\", \"notched\": false, \"offsetgroup\": \"\", \"orientation\": \"v\", \"showlegend\": false, \"type\": \"box\", \"x\": [\"Bull\", \"Bull\", \"Bull\", \"Bull\", \"Bull\", \"Bull\", \"Bear\", \"Bear\", \"Bull\", \"Bull\", \"Bull\", \"Bull\", \"Bull\", \"Bull\", \"Bull\", \"Bull\", \"Bull\", \"Bull\", \"Bull\", \"Bull\", \"Bull\", \"Bear\", \"Bull\", \"Bull\", \"Bull\", \"Bull\", \"Bear\", \"Bull\", \"Bull\", \"Bull\", \"Bull\", \"Bear\", \"Bull\", \"Bull\", \"Bear\", \"Bull\", \"Bull\", \"Bull\", \"Bear\", \"Bull\", \"Bull\", \"Bull\", \"Bull\", \"Bull\", \"Bull\", \"Bull\", \"Bull\", \"Bull\", \"Bull\", \"Bull\", \"Bull\", \"Bull\", \"Bear\", \"Bull\", \"Bear\", \"Bull\", \"Bull\", \"Bull\", \"Bear\", \"Bear\", \"Bull\", \"Bull\", \"Bull\", \"Bull\", \"Bull\", \"Bull\", \"Bull\", \"Bull\", \"Bull\", \"Bull\", \"Bull\", \"Bull\", \"Bull\", \"Bull\", \"Bull\", \"Bull\", \"Bull\", \"Bull\", \"Bull\", \"Bull\", \"Bull\", \"Bull\", \"Bull\", \"Bull\", \"Bull\", \"Bull\", \"Bull\", \"Bear\", \"Bull\", \"Bull\", \"Bull\", \"Bull\", \"Bull\", \"Bull\", \"Bull\", \"Bull\", \"Bull\", \"Bear\", \"Bull\", \"Bull\", \"Bull\", \"Bull\", \"Bear\", \"Bull\", \"Bear\", \"Bull\", \"Bull\", \"Bear\", \"Bull\", \"Bear\", \"Bull\", \"Bull\", \"Bull\", \"Bear\", \"Bear\", \"Bear\", \"Bear\", \"Bear\", \"Bull\", \"Bear\", \"Bear\", \"Bull\", \"Bull\", \"Bull\", \"Bear\", \"Bull\", \"Bull\", \"Bull\", \"Bull\", \"Bull\", \"Bull\", \"Bull\", \"Bull\", \"Bull\", \"Bull\", \"Bear\", \"Bull\", \"Bear\", \"Bull\", \"Bull\", \"Bull\", \"Bull\", \"Bull\", \"Bear\", \"Bull\", \"Bull\", \"Bull\", \"Bull\", \"Bull\", \"Bull\", \"Bull\", \"Bull\", \"Bear\", \"Bear\", \"Bear\", \"Bear\", \"Bear\", \"Bull\", \"Bull\", \"Bull\", \"Bull\", \"Bear\", \"Bull\", \"Bull\", \"Bear\", \"Bull\", \"Bull\", \"Bull\", \"Bull\", \"Bull\", \"Bull\", \"Bull\", \"Bull\", \"Bear\", \"Bull\", \"Bull\", \"Bear\", \"Bull\", \"Bear\", \"Bull\", \"Bear\", \"Bear\", \"Bull\", \"Bear\", \"Bull\", \"Bear\", \"Bear\", \"Bull\", \"Bear\", \"Bull\", \"Bull\", \"Bull\", \"Bull\", \"Bull\", \"Bull\", \"Bull\", \"Bull\", \"Bull\", \"Bull\", \"Bull\", \"Bear\", \"Bull\", \"Bear\", \"Bull\", \"Bear\", \"Bull\", \"Bear\", \"Bull\", \"Bull\", \"Bull\", \"Bull\", \"Bull\", \"Bear\", \"Bull\", \"Bull\", \"Bull\", \"Bull\", \"Bull\", \"Bull\", \"Bull\", \"Bull\", \"Bull\", \"Bull\", \"Bull\", \"Bull\", \"Bull\", \"Bull\", \"Bear\", \"Bull\", \"Bull\", \"Bull\", \"Bull\", \"Bear\", \"Bull\", \"Bull\", \"Bull\", \"Bull\", \"Bull\", \"Bear\", \"Bear\", \"Bull\", \"Bull\", \"Bull\", \"Bull\", \"Bull\", \"Bull\", \"Bear\", \"Bull\", \"Bull\", \"Bull\", \"Bear\", \"Bull\", \"Bull\", \"Bull\", \"Bull\", \"Bull\", \"Bull\", \"Bull\", \"Bull\", \"Bear\", \"Bull\", \"Bull\", \"Bull\", \"Bear\", \"Bull\", \"Bull\", \"Bull\", \"Bull\", \"Bear\", \"Bull\", \"Bull\", \"Bull\", \"Bear\", \"Bull\", \"Bear\", \"Bull\", \"Bull\", \"Bear\", \"Bull\", \"Bull\", \"Bull\", \"Bull\", \"Bear\", \"Bull\", \"Bull\", \"Bull\", \"Bear\", \"Bear\", \"Bear\", \"Bear\", \"Bear\", \"Bear\", \"Bull\", \"Bull\", \"Bear\", \"Bear\", \"Bull\", \"Bear\", \"Bull\", \"Bull\", \"Bear\", \"Bull\", \"Bear\", \"Bull\", \"Bull\", \"Bull\", \"Bull\", \"Bull\", \"Bull\", \"Bear\", \"Bull\", \"Bull\", \"Bull\", \"Bull\", \"Bull\", \"Bull\", \"Bull\", \"Bull\", \"Bull\", \"Bull\", \"Bull\", \"Bull\", \"Bear\", \"Bear\", \"Bear\", \"Bear\", \"Bull\", \"Bull\", \"Bull\", \"Bull\", \"Bear\", \"Bull\", \"Bull\", \"Bull\", \"Bull\", \"Bear\", \"Bear\", \"Bull\", \"Bear\", \"Bear\", \"Bear\", \"Bear\", \"Bull\", \"Bull\", \"Bear\", \"Bear\", \"Bear\", \"Bull\", \"Bull\", \"Bear\", \"Bear\", \"Bull\", \"Bull\", \"Bear\", \"Bull\", \"Bear\", \"Bull\", \"Bull\", \"Bull\", \"Bear\", \"Bull\", \"Bear\", \"Bear\", \"Bull\", \"Bull\", \"Bear\", \"Bear\", \"Bull\", \"Bear\", \"Bear\", \"Bear\", \"Bear\", \"Bull\", \"Bull\", \"Bear\", \"Bull\", \"Bull\", \"Bull\", \"Bear\", \"Bull\", \"Bull\", \"Bull\", \"Bull\", \"Bear\", \"Bull\", \"Bear\", \"Bull\", \"Bull\", \"Bull\", \"Bear\", \"Bull\", \"Bull\", \"Bull\", \"Bull\", \"Bull\", \"Bear\", \"Bear\", \"Bear\", \"Bull\", \"Bear\", \"Bear\", \"Bull\", \"Bear\", \"Bull\", \"Bear\", \"Bull\", \"Bull\", \"Bull\", \"Bull\", \"Bull\", \"Bull\", \"Bull\", \"Bull\", \"Bear\", \"Bear\", \"Bull\", \"Bull\", \"Bull\", \"Bull\", \"Bull\", \"Bear\", \"Bull\", \"Bear\", \"Bull\", \"Bull\", \"Bear\", \"Bull\", \"Bear\", \"Bull\", \"Bull\", \"Bear\", \"Bear\", \"Bear\", \"Bear\", \"Bull\", \"Bull\", \"Bear\", \"Bull\", \"Bear\", \"Bear\", \"Bull\", \"Bull\", \"Bear\", \"Bear\", \"Bull\", \"Bull\", \"Bull\", \"Bull\", \"Bear\", \"Bear\", \"Bull\", \"Bull\", \"Bull\", \"Bear\", \"Bull\", \"Bear\", \"Bear\", \"Bull\", \"Bull\", \"Bull\", \"Bull\", \"Bear\", \"Bear\", \"Bull\", \"Bear\", \"Bull\", \"Bull\", \"Bull\", \"Bull\", \"Bull\", \"Bull\", \"Bear\", \"Bear\", \"Bull\", \"Bear\", \"Bear\", \"Bear\", \"Bull\", \"Bull\", \"Bull\", \"Bull\", \"Bull\", \"Bull\", \"Bear\", \"Bull\", \"Bull\", \"Bear\", \"Bull\", \"Bear\", \"Bull\", \"Bear\", \"Bull\", \"Bear\", \"Bear\", \"Bull\", \"Bear\", \"Bear\", \"Bear\", \"Bull\", \"Bull\", \"Bull\", \"Bear\", \"Bear\", \"Bull\", \"Bear\", \"Bear\", \"Bull\", \"Bull\", \"Bull\", \"Bull\", \"Bull\", \"Bull\", \"Bull\", \"Bull\", \"Bull\", \"Bear\", \"Bear\", \"Bear\", \"Bull\", \"Bull\", \"Bull\", \"Bull\", \"Bear\", \"Bull\", \"Bear\", \"Bull\", \"Bear\", \"Bear\", \"Bear\", \"Bear\", \"Bull\", \"Bull\", \"Bull\", \"Bear\", \"Bull\", \"Bear\", \"Bear\", \"Bear\", \"Bull\", \"Bull\", \"Bear\", \"Bull\", \"Bear\", \"Bull\", \"Bull\", \"Bull\", \"Bull\", \"Bull\", \"Bull\", \"Bull\", \"Bull\", \"Bear\", \"Bear\", \"Bull\", \"Bull\", \"Bull\", \"Bear\", \"Bear\", \"Bull\", \"Bull\", \"Bull\", \"Bear\", \"Bull\", \"Bull\", \"Bull\", \"Bear\", \"Bull\", \"Bull\", \"Bear\", \"Bull\", \"Bull\", \"Bull\", \"Bear\", \"Bull\", \"Bull\", \"Bull\", \"Bull\", \"Bull\", \"Bull\", \"Bull\", \"Bull\", \"Bull\", \"Bull\", \"Bear\", \"Bull\", \"Bear\", \"Bull\", \"Bull\", \"Bull\", \"Bull\", \"Bull\", \"Bull\", \"Bear\", \"Bull\", \"Bull\", \"Bear\", \"Bull\", \"Bear\", \"Bull\", \"Bear\", \"Bull\", \"Bear\", \"Bear\", \"Bear\", \"Bull\", \"Bear\", \"Bear\", \"Bull\", \"Bull\", \"Bear\", \"Bear\", \"Bull\", \"Bull\", \"Bull\", \"Bear\", \"Bull\", \"Bull\", \"Bull\", \"Bull\", \"Bull\", \"Bull\", \"Bull\", \"Bull\", \"Bull\", \"Bull\", \"Bear\", \"Bear\", \"Bull\", \"Bull\", \"Bull\", \"Bull\", \"Bear\", \"Bull\", \"Bear\", \"Bull\", \"Bull\", \"Bear\", \"Bear\", \"Bull\", \"Bull\", \"Bull\", \"Bull\", \"Bear\", \"Bear\", \"Bull\", \"Bear\", \"Bear\", \"Bull\", \"Bear\", \"Bear\", \"Bull\", \"Bull\", \"Bear\", \"Bear\", \"Bull\", \"Bear\", \"Bear\", \"Bull\", \"Bear\", \"Bear\", \"Bull\", \"Bear\", \"Bear\", \"Bear\", \"Bull\", \"Bear\", \"Bear\", \"Bear\", \"Bear\", \"Bull\", \"Bull\", \"Bull\", \"Bull\", \"Bear\", \"Bull\", \"Bear\", \"Bull\", \"Bear\", \"Bear\", \"Bull\", \"Bull\", \"Bear\", \"Bull\", \"Bull\", \"Bull\", \"Bull\", \"Bull\", \"Bull\", \"Bear\", \"Bull\", \"Bull\", \"Bull\", \"Bear\", \"Bull\", \"Bull\", \"Bear\", \"Bull\", \"Bear\", \"Bull\", \"Bear\", \"Bear\", \"Bull\", \"Bull\", \"Bull\", \"Bear\", \"Bull\", \"Bear\", \"Bull\", \"Bull\", \"Bear\", \"Bull\", \"Bear\", \"Bull\", \"Bull\", \"Bull\", \"Bull\", \"Bear\", \"Bull\", \"Bull\", \"Bear\", \"Bull\", \"Bull\", \"Bull\", \"Bear\", \"Bull\", \"Bull\", \"Bull\", \"Bear\", \"Bear\", \"Bear\", \"Bear\", \"Bear\", \"Bear\", \"Bull\", \"Bull\", \"Bear\", \"Bear\", \"Bear\", \"Bull\", \"Bull\", \"Bull\", \"Bear\", \"Bull\", \"Bull\", \"Bull\", \"Bull\", \"Bull\", \"Bull\", \"Bull\", \"Bear\", \"Bull\", \"Bear\", \"Bull\", \"Bull\", \"Bear\", \"Bull\", \"Bear\", \"Bear\", \"Bull\", \"Bull\", \"Bull\", \"Bull\", \"Bull\", \"Bull\", \"Bull\", \"Bull\", \"Bull\", \"Bull\", \"Bear\", \"Bear\", \"Bull\", \"Bull\", \"Bull\", \"Bull\", \"Bull\", \"Bull\", \"Bear\", \"Bull\", \"Bull\", \"Bull\", \"Bull\", \"Bull\", \"Bear\", \"Bull\", \"Bull\", \"Bull\", \"Bear\", \"Bear\", \"Bull\", \"Bull\", \"Bull\", \"Bull\", \"Bear\", \"Bull\", \"Bull\", \"Bear\", \"Bear\", \"Bull\", \"Bull\", \"Bear\", \"Bear\", \"Bull\", \"Bull\", \"Bull\", \"Bull\", \"Bull\", \"Bear\", \"Bull\", \"Bear\", \"Bull\", \"Bear\", \"Bear\", \"Bear\", \"Bull\", \"Bear\", \"Bear\", \"Bear\", \"Bull\", \"Bull\", \"Bull\", \"Bull\", \"Bear\", \"Bull\", \"Bull\", \"Bull\", \"Bull\", \"Bull\", \"Bear\", \"Bull\", \"Bull\", \"Bull\", \"Bull\", \"Bull\", \"Bull\", \"Bull\", \"Bull\", \"Bull\", \"Bear\", \"Bull\", \"Bull\", \"Bull\", \"Bear\", \"Bull\", \"Bear\", \"Bull\", \"Bull\", \"Bull\", \"Bull\", \"Bull\", \"Bull\", \"Bull\", \"Bull\", \"Bull\", \"Bull\", \"Bull\", \"Bull\", \"Bull\", \"Bear\", \"Bull\", \"Bear\", \"Bull\", \"Bull\", \"Bear\", \"Bull\", \"Bull\", \"Bear\", \"Bull\", \"Bull\", \"Bull\", \"Bull\", \"Bear\", \"Bear\", \"Bull\", \"Bull\", \"Bear\", \"Bull\", \"Bull\", \"Bull\", \"Bear\", \"Bull\", \"Bull\", \"Bull\", \"Bull\", \"Bull\", \"Bear\", \"Bull\", \"Bull\", \"Bull\", \"Bull\", \"Bull\", \"Bull\", \"Bear\", \"Bull\", \"Bull\", \"Bull\", \"Bull\", \"Bull\", \"Bull\", \"Bull\", \"Bull\", \"Bear\", \"Bull\", \"Bull\", \"Bull\", \"Bull\", \"Bull\", \"Bull\", \"Bull\", \"Bear\", \"Bear\", \"Bull\", \"Bull\", \"Bear\", \"Bull\", \"Bull\", \"Bull\", \"Bull\", \"Bull\", \"Bull\", \"Bear\", \"Bear\", \"Bull\", \"Bull\", \"Bull\", \"Bear\", \"Bull\", \"Bear\", \"Bull\", \"Bull\", \"Bear\", \"Bear\", \"Bull\", \"Bull\", \"Bull\", \"Bull\", \"Bull\", \"Bull\", \"Bull\", \"Bull\", \"Bull\", \"Bull\", \"Bull\", \"Bull\", \"Bull\", \"Bull\", \"Bear\", \"Bear\", \"Bull\", \"Bull\", \"Bull\", \"Bull\", \"Bull\", \"Bull\", \"Bull\", \"Bull\", \"Bull\", \"Bull\", \"Bull\", \"Bear\", \"Bull\", \"Bull\", \"Bull\", \"Bear\", \"Bull\", \"Bear\", \"Bull\", \"Bear\", \"Bear\", \"Bull\", \"Bear\", \"Bull\", \"Bull\", \"Bull\", \"Bull\", \"Bear\", \"Bull\", \"Bull\", \"Bull\", \"Bear\", \"Bull\", \"Bull\", \"Bull\", \"Bull\", \"Bull\", \"Bull\", \"Bear\", \"Bull\", \"Bear\", \"Bear\", \"Bull\", \"Bull\", \"Bear\", \"Bull\", \"Bear\", \"Bear\", \"Bear\", \"Bull\", \"Bear\", \"Bull\", \"Bull\", \"Bull\", \"Bull\", \"Bull\", \"Bear\", \"Bull\", \"Bull\", \"Bear\", \"Bear\", \"Bear\", \"Bull\", \"Bull\", \"Bull\", \"Bull\", \"Bull\", \"Bull\", \"Bull\", \"Bear\", \"Bull\", \"Bull\", \"Bull\", \"Bull\", \"Bull\", \"Bull\", \"Bull\", \"Bull\", \"Bull\", \"Bull\", \"Bull\", \"Bear\", \"Bull\", \"Bear\", \"Bear\", \"Bull\", \"Bull\", \"Bull\", \"Bull\", \"Bear\", \"Bull\", \"Bull\", \"Bull\", \"Bear\", \"Bull\", \"Bear\", \"Bull\", \"Bear\", \"Bear\", \"Bull\", \"Bull\", \"Bear\", \"Bull\", \"Bull\", \"Bear\", \"Bull\", \"Bull\", \"Bull\", \"Bull\", \"Bull\", \"Bull\", \"Bear\", \"Bear\", \"Bull\", \"Bull\", \"Bull\", \"Bull\", \"Bull\", \"Bull\", \"Bull\", \"Bull\", \"Bull\", \"Bear\", \"Bull\", \"Bear\", \"Bear\", \"Bull\", \"Bear\", \"Bull\", \"Bull\", \"Bear\", \"Bear\", \"Bull\", \"Bull\", \"Bull\", \"Bull\", \"Bull\", \"Bull\", \"Bear\", \"Bull\", \"Bull\", \"Bear\", \"Bull\", \"Bear\", \"Bull\", \"Bull\", \"Bear\", \"Bull\", \"Bull\", \"Bull\", \"Bear\", \"Bull\", \"Bull\", \"Bull\", \"Bull\", \"Bull\", \"Bull\", \"Bear\", \"Bull\", \"Bear\", \"Bull\", \"Bull\", \"Bull\", \"Bull\", \"Bull\", \"Bull\", \"Bull\", \"Bear\", \"Bear\", \"Bull\", \"Bull\", \"Bear\", \"Bear\", \"Bear\", \"Bear\", \"Bull\", \"Bull\", \"Bull\", \"Bull\", \"Bear\", \"Bull\", \"Bull\", \"Bear\", \"Bear\", \"Bull\", \"Bear\", \"Bear\", \"Bull\", \"Bull\", \"Bull\", \"Bear\", \"Bear\", \"Bear\", \"Bull\", \"Bull\", \"Bear\", \"Bull\", \"Bear\", \"Bull\", \"Bear\", \"Bull\", \"Bull\", \"Bull\", \"Bear\", \"Bull\", \"Bull\", \"Bull\", \"Bull\", \"Bull\", \"Bear\", \"Bull\", \"Bull\", \"Bull\", \"Bear\", \"Bear\", \"Bear\", \"Bear\", \"Bear\", \"Bear\", \"Bear\", \"Bear\", \"Bear\", \"Bull\", \"Bull\", \"Bull\", \"Bull\", \"Bull\", \"Bull\", \"Bull\", \"Bull\", \"Bear\", \"Bull\", \"Bear\", \"Bull\", \"Bull\", \"Bear\", \"Bear\", \"Bear\", \"Bear\", \"Bear\", \"Bear\", \"Bear\", \"Bear\", \"Bear\", \"Bear\", \"Bull\", \"Bear\", \"Bear\", \"Bull\", \"Bull\", \"Bear\", \"Bear\", \"Bear\", \"Bear\", \"Bull\", \"Bull\", \"Bear\", \"Bear\", \"Bear\", \"Bear\", \"Bear\", \"Bull\", \"Bull\", \"Bull\", \"Bull\", \"Bear\", \"Bear\", \"Bear\", \"Bull\", \"Bear\", \"Bull\", \"Bear\", \"Bull\", \"Bull\", \"Bear\", \"Bull\", \"Bear\", \"Bear\", \"Bear\", \"Bear\", \"Bear\", \"Bear\", \"Bull\", \"Bear\", \"Bear\", \"Bear\", \"Bear\", \"Bear\", \"Bull\", \"Bull\", \"Bear\", \"Bear\", \"Bull\", \"Bear\", \"Bear\", \"Bull\", \"Bear\", \"Bull\", \"Bull\", \"Bull\", \"Bull\", \"Bear\", \"Bear\", \"Bull\", \"Bull\", \"Bull\", \"Bull\", \"Bull\", \"Bear\", \"Bear\", \"Bull\", \"Bull\", \"Bull\", \"Bear\", \"Bear\", \"Bull\", \"Bull\", \"Bull\", \"Bull\", \"Bull\", \"Bear\", \"Bull\", \"Bear\", \"Bull\", \"Bull\", \"Bull\", \"Bear\", \"Bear\", \"Bull\", \"Bull\", \"Bull\", \"Bear\", \"Bull\", \"Bear\", \"Bull\", \"Bull\", \"Bull\", \"Bull\", \"Bear\", \"Bull\", \"Bull\", \"Bull\", \"Bull\", \"Bear\", \"Bear\", \"Bull\", \"Bull\", \"Bear\", \"Bear\", \"Bull\", \"Bull\", \"Bull\", \"Bull\", \"Bull\", \"Bull\", \"Bull\", \"Bull\", \"Bull\", \"Bull\", \"Bull\", \"Bull\", \"Bear\", \"Bear\", \"Bear\", \"Bear\", \"Bear\", \"Bear\", \"Bull\", \"Bear\", \"Bull\", \"Bull\", \"Bear\", \"Bull\", \"Bull\", \"Bull\", \"Bull\", \"Bear\", \"Bull\", \"Bull\", \"Bear\", \"Bull\", \"Bull\", \"Bull\", \"Bull\", \"Bear\", \"Bull\", \"Bull\", \"Bull\", \"Bull\", \"Bull\", \"Bull\", \"Bull\", \"Bull\", \"Bull\", \"Bear\", \"Bull\", \"Bull\", \"Bull\", \"Bull\", \"Bull\", \"Bull\", \"Bull\", \"Bull\", \"Bear\", \"Bull\", \"Bull\", \"Bull\", \"Bull\", \"Bull\", \"Bull\", \"Bear\", \"Bull\", \"Bull\", \"Bear\", \"Bear\", \"Bull\", \"Bull\", \"Bull\", \"Bear\", \"Bull\", \"Bull\", \"Bear\", \"Bull\", \"Bull\", \"Bull\", \"Bear\", \"Bear\", \"Bear\", \"Bear\", \"Bull\", \"Bear\", \"Bull\", \"Bear\", \"Bull\", \"Bull\", \"Bull\", \"Bull\", \"Bull\", \"Bear\", \"Bear\", \"Bull\", \"Bear\", \"Bear\", \"Bull\", \"Bull\", \"Bear\", \"Bear\", \"Bull\", \"Bear\", \"Bull\", \"Bear\", \"Bear\", \"Bull\", \"Bull\", \"Bull\", \"Bull\", \"Bear\", \"Bear\", \"Bear\", \"Bear\", \"Bear\", \"Bear\", \"Bull\", \"Bull\", \"Bull\", \"Bear\", \"Bear\", \"Bull\", \"Bull\", \"Bull\", \"Bear\", \"Bull\", \"Bear\", \"Bull\", \"Bear\", \"Bull\", \"Bull\", \"Bear\", \"Bear\", \"Bear\", \"Bear\", \"Bear\", \"Bull\", \"Bull\", \"Bull\", \"Bear\", \"Bull\", \"Bull\", \"Bull\", \"Bull\", \"Bear\", \"Bear\", \"Bull\", \"Bull\", \"Bear\", \"Bull\", \"Bull\", \"Bull\", \"Bull\", \"Bull\", \"Bear\", \"Bull\", \"Bull\", \"Bull\", \"Bull\", \"Bull\", \"Bull\", \"Bear\", \"Bear\", \"Bull\", \"Bull\", \"Bear\", \"Bull\", \"Bull\", \"Bull\", \"Bear\", \"Bear\", \"Bull\", \"Bull\", \"Bear\", \"Bull\", \"Bear\", \"Bull\", \"Bear\", \"Bull\", \"Bear\", \"Bull\", \"Bull\", \"Bear\", \"Bull\", \"Bull\", \"Bear\", \"Bull\", \"Bull\", \"Bull\", \"Bear\", \"Bull\", \"Bull\", \"Bull\", \"Bear\", \"Bull\", \"Bear\", \"Bear\", \"Bull\", \"Bull\", \"Bear\", \"Bear\", \"Bear\", \"Bear\", \"Bear\", \"Bear\", \"Bull\", \"Bear\", \"Bear\", \"Bear\", \"Bull\", \"Bull\", \"Bull\", \"Bear\", \"Bear\", \"Bull\", \"Bear\", \"Bull\", \"Bear\", \"Bear\", \"Bear\", \"Bear\", \"Bear\", \"Bear\", \"Bear\", \"Bear\", \"Bull\", \"Bull\", \"Bear\", \"Bull\", \"Bull\", \"Bear\", \"Bull\", \"Bear\", \"Bull\", \"Bull\", \"Bull\", \"Bear\", \"Bear\", \"Bear\", \"Bull\", \"Bear\", \"Bear\", \"Bull\", \"Bull\", \"Bull\", \"Bear\", \"Bull\", \"Bull\", \"Bear\", \"Bull\", \"Bull\", \"Bear\", \"Bear\", \"Bull\", \"Bear\", \"Bull\", \"Bull\", \"Bear\", \"Bull\", \"Bull\", \"Bull\", \"Bull\", \"Bull\", \"Bull\", \"Bull\", \"Bull\", \"Bull\", \"Bull\", \"Bull\", \"Bull\", \"Bull\", \"Bull\", \"Bull\", \"Bull\", \"Bull\", \"Bull\", \"Bull\", \"Bear\", \"Bear\", \"Bull\", \"Bull\", \"Bull\", \"Bear\", \"Bull\", \"Bear\", \"Bull\", \"Bull\", \"Bull\", \"Bear\", \"Bear\", \"Bull\", \"Bull\", \"Bull\", \"Bull\", \"Bear\", \"Bull\", \"Bear\", \"Bear\", \"Bear\", \"Bear\", \"Bull\", \"Bull\", \"Bear\", \"Bull\", \"Bull\", \"Bull\", \"Bear\", \"Bull\", \"Bull\", \"Bull\", \"Bull\", \"Bull\", \"Bull\", \"Bear\", \"Bull\", \"Bear\", \"Bull\", \"Bear\", \"Bull\", \"Bull\", \"Bull\", \"Bear\", \"Bear\", \"Bear\", \"Bear\", \"Bear\", \"Bear\", \"Bear\", \"Bull\", \"Bear\", \"Bear\", \"Bull\", \"Bull\", \"Bear\", \"Bear\", \"Bull\", \"Bear\", \"Bull\", \"Bull\", \"Bear\", \"Bull\", \"Bull\", \"Bull\", \"Bull\", \"Bull\", \"Bull\", \"Bear\", \"Bull\", \"Bear\", \"Bear\", \"Bull\", \"Bear\", \"Bear\", \"Bear\", \"Bear\", \"Bull\", \"Bull\", \"Bear\", \"Bull\", \"Bull\", \"Bear\", \"Bull\", \"Bear\", \"Bull\", \"Bull\", \"Bull\", \"Bear\", \"Bull\", \"Bull\", \"Bull\", \"Bull\", \"Bull\", \"Bull\", \"Bear\", \"Bear\", \"Bear\", \"Bull\", \"Bear\", \"Bear\", \"Bear\", \"Bear\", \"Bear\", \"Bull\", \"Bear\", \"Bull\", \"Bull\", \"Bull\", \"Bull\", \"Bull\", \"Bull\", \"Bear\", \"Bear\", \"Bear\", \"Bull\", \"Bull\", \"Bear\", \"Bull\", \"Bull\", \"Bull\", \"Bull\", \"Bull\", \"Bull\", \"Bull\", \"Bear\", \"Bear\", \"Bull\", \"Bull\", \"Bear\", \"Bear\", \"Bull\", \"Bull\", \"Bear\", \"Bull\", \"Bull\", \"Bull\", \"Bull\", \"Bear\", \"Bull\", \"Bull\", \"Bull\", \"Bull\", \"Bear\", \"Bear\", \"Bear\", \"Bull\", \"Bear\", \"Bear\", \"Bear\", \"Bull\", \"Bear\", \"Bull\", \"Bull\", \"Bull\", \"Bull\", \"Bull\", \"Bull\", \"Bull\", \"Bear\", \"Bear\", \"Bear\", \"Bull\", \"Bull\", \"Bull\", \"Bull\", \"Bear\", \"Bear\", \"Bear\", \"Bull\", \"Bull\", \"Bear\", \"Bull\", \"Bull\", \"Bear\", \"Bear\", \"Bull\", \"Bull\", \"Bull\", \"Bull\", \"Bear\", \"Bear\", \"Bear\", \"Bull\", \"Bull\", \"Bear\", \"Bull\", \"Bull\", \"Bear\", \"Bull\", \"Bull\", \"Bull\", \"Bear\", \"Bear\", \"Bull\", \"Bull\", \"Bull\", \"Bull\", \"Bear\", \"Bull\", \"Bear\", \"Bull\", \"Bear\", \"Bear\", \"Bull\", \"Bear\", \"Bull\", \"Bull\", \"Bull\", \"Bear\", \"Bear\", \"Bull\", \"Bull\", \"Bear\", \"Bear\", \"Bull\", \"Bear\", \"Bear\", \"Bull\", \"Bear\", \"Bull\", \"Bear\", \"Bull\", \"Bull\", \"Bull\", \"Bear\", \"Bear\", \"Bear\", \"Bull\", \"Bull\", \"Bull\", \"Bull\", \"Bull\", \"Bull\", \"Bear\", \"Bear\", \"Bull\", \"Bull\", \"Bull\", \"Bull\", \"Bear\", \"Bull\", \"Bear\", \"Bear\", \"Bull\", \"Bull\", \"Bull\", \"Bull\", \"Bear\", \"Bear\", \"Bull\", \"Bear\", \"Bull\", \"Bull\", \"Bull\", \"Bull\", \"Bull\", \"Bull\", \"Bull\", \"Bull\", \"Bull\", \"Bear\", \"Bull\", \"Bull\", \"Bull\", \"Bull\", \"Bull\", \"Bull\", \"Bear\", \"Bull\", \"Bull\", \"Bull\", \"Bear\", \"Bull\", \"Bear\", \"Bull\", \"Bull\", \"Bear\", \"Bull\", \"Bull\", \"Bear\", \"Bull\", \"Bull\", \"Bull\", \"Bull\", \"Bull\", \"Bull\", \"Bull\", \"Bull\", \"Bear\", \"Bear\", \"Bear\", \"Bull\", \"Bear\", \"Bull\", \"Bull\", \"Bear\", \"Bull\", \"Bear\", \"Bull\", \"Bull\", \"Bull\", \"Bull\", \"Bull\", \"Bull\", \"Bull\", \"Bull\", \"Bull\", \"Bull\", \"Bull\", \"Bull\", \"Bull\", \"Bull\", \"Bull\", \"Bull\", \"Bull\", \"Bull\", \"Bull\", \"Bull\", \"Bull\", \"Bear\", \"Bull\", \"Bull\", \"Bull\", \"Bull\", \"Bull\", \"Bear\", \"Bull\", \"Bull\", \"Bull\", \"Bear\", \"Bull\", \"Bear\", \"Bear\", \"Bull\", \"Bear\", \"Bull\", \"Bear\", \"Bull\", \"Bull\", \"Bull\", \"Bull\", \"Bull\", \"Bear\", \"Bull\", \"Bear\", \"Bull\", \"Bull\", \"Bull\", \"Bull\", \"Bear\", \"Bull\", \"Bear\", \"Bull\", \"Bull\", \"Bull\", \"Bull\", \"Bull\", \"Bull\", \"Bear\", \"Bull\", \"Bear\", \"Bear\", \"Bear\", \"Bear\", \"Bear\", \"Bear\", \"Bull\", \"Bear\", \"Bull\", \"Bull\", \"Bear\", \"Bull\", \"Bull\", \"Bull\", \"Bull\", \"Bull\", \"Bull\", \"Bull\", \"Bull\", \"Bear\", \"Bull\", \"Bull\", \"Bull\", \"Bull\", \"Bull\", \"Bear\", \"Bear\", \"Bear\", \"Bull\", \"Bear\", \"Bear\", \"Bull\", \"Bull\", \"Bull\", \"Bear\", \"Bull\", \"Bull\", \"Bull\", \"Bull\", \"Bear\", \"Bull\", \"Bear\", \"Bull\", \"Bull\", \"Bull\", \"Bull\", \"Bull\", \"Bull\", \"Bull\", \"Bull\", \"Bull\", \"Bull\", \"Bear\", \"Bull\", \"Bear\", \"Bear\", \"Bear\", \"Bull\", \"Bull\", \"Bear\", \"Bear\", \"Bull\", \"Bear\", \"Bear\", \"Bear\", \"Bull\", \"Bull\", \"Bull\", \"Bear\", \"Bull\", \"Bull\", \"Bear\", \"Bear\", \"Bear\", \"Bull\", \"Bear\", \"Bull\", \"Bear\", \"Bear\", \"Bear\", \"Bull\", \"Bear\", \"Bear\", \"Bull\", \"Bull\", \"Bull\", \"Bear\", \"Bull\", \"Bull\", \"Bull\", \"Bull\", \"Bull\", \"Bear\", \"Bull\", \"Bull\", \"Bull\", \"Bull\", \"Bull\", \"Bull\", \"Bull\", \"Bull\", \"Bull\", \"Bear\", \"Bull\", \"Bull\", \"Bull\", \"Bull\", \"Bull\", \"Bull\", \"Bear\", \"Bull\", \"Bull\", \"Bear\", \"Bull\", \"Bear\", \"Bull\", \"Bear\", \"Bear\", \"Bear\", \"Bull\", \"Bear\", \"Bear\", \"Bull\", \"Bull\", \"Bear\", \"Bull\", \"Bull\", \"Bull\", \"Bear\", \"Bear\", \"Bear\", \"Bull\", \"Bear\", \"Bull\", \"Bear\", \"Bull\", \"Bear\", \"Bull\", \"Bull\", \"Bull\", \"Bull\", \"Bull\", \"Bull\", \"Bull\", \"Bull\", \"Bull\", \"Bull\", \"Bull\", \"Bull\", \"Bull\", \"Bear\", \"Bull\", \"Bear\", \"Bear\", \"Bull\", \"Bear\", \"Bull\", \"Bull\", \"Bull\", \"Bull\", \"Bull\", \"Bull\", \"Bull\", \"Bull\", \"Bull\", \"Bull\", \"Bull\", \"Bear\", \"Bull\", \"Bull\", \"Bull\", \"Bull\", \"Bull\", \"Bull\", \"Bull\", \"Bull\", \"Bear\", \"Bull\", \"Bear\", \"Bull\", \"Bull\", \"Bull\", \"Bull\", \"Bull\", \"Bull\", \"Bear\", \"Bull\", \"Bull\", \"Bear\", \"Bull\", \"Bull\", \"Bull\", \"Bear\", \"Bull\", \"Bull\", \"Bear\", \"Bear\", \"Bull\", \"Bull\", \"Bull\", \"Bull\", \"Bull\", \"Bull\", \"Bull\", \"Bull\", \"Bear\", \"Bear\", \"Bull\", \"Bull\", \"Bear\", \"Bull\", \"Bear\", \"Bull\", \"Bull\", \"Bull\", \"Bear\", \"Bull\", \"Bear\", \"Bear\", \"Bear\", \"Bear\", \"Bull\", \"Bull\", \"Bull\", \"Bull\", \"Bull\", \"Bear\", \"Bull\", \"Bear\", \"Bear\", \"Bull\", \"Bull\", \"Bull\", \"Bull\", \"Bear\", \"Bull\", \"Bear\", \"Bull\", \"Bull\", \"Bull\", \"Bull\", \"Bull\", \"Bear\", \"Bull\", \"Bull\", \"Bull\", \"Bull\", \"Bull\", \"Bull\", \"Bull\", \"Bull\", \"Bull\", \"Bull\", \"Bull\", \"Bull\", \"Bull\", \"Bull\", \"Bull\", \"Bull\", \"Bull\", \"Bull\", \"Bull\", \"Bull\", \"Bull\", \"Bull\", \"Bear\", \"Bear\", \"Bear\", \"Bull\", \"Bull\", \"Bull\", \"Bear\", \"Bull\", \"Bull\", \"Bull\", \"Bull\", \"Bear\", \"Bull\", \"Bull\", \"Bull\", \"Bull\", \"Bear\", \"Bear\", \"Bull\", \"Bull\", \"Bull\", \"Bull\", \"Bull\", \"Bull\", \"Bear\", \"Bull\", \"Bull\", \"Bull\", \"Bull\", \"Bull\", \"Bull\", \"Bull\", \"Bull\", \"Bull\", \"Bull\", \"Bull\", \"Bull\", \"Bull\", \"Bull\", \"Bull\", \"Bull\", \"Bear\", \"Bull\", \"Bull\", \"Bear\", \"Bull\", \"Bull\", \"Bear\", \"Bull\", \"Bull\", \"Bear\", \"Bear\", \"Bull\", \"Bear\", \"Bull\", \"Bull\", \"Bear\", \"Bear\", \"Bull\", \"Bear\", \"Bear\", \"Bear\", \"Bear\", \"Bear\", \"Bull\", \"Bull\", \"Bull\", \"Bear\", \"Bull\", \"Bull\", \"Bear\", \"Bull\", \"Bull\", \"Bull\", \"Bull\", \"Bull\", \"Bull\", \"Bull\", \"Bull\", \"Bull\", \"Bull\", \"Bull\", \"Bull\", \"Bull\", \"Bear\", \"Bull\", \"Bear\", \"Bull\", \"Bull\", \"Bull\", \"Bull\", \"Bull\", \"Bull\", \"Bull\", \"Bear\", \"Bull\", \"Bull\", \"Bull\", \"Bull\", \"Bull\", \"Bear\", \"Bear\", \"Bull\", \"Bear\", \"Bull\", \"Bull\", \"Bear\", \"Bull\", \"Bull\", \"Bear\", \"Bear\", \"Bull\", \"Bear\", \"Bear\", \"Bear\", \"Bear\", \"Bull\", \"Bull\", \"Bull\", \"Bull\", \"Bear\", \"Bear\", \"Bear\", \"Bull\", \"Bear\", \"Bull\", \"Bear\", \"Bull\", \"Bear\", \"Bull\", \"Bull\", \"Bull\", \"Bear\", \"Bull\", \"Bull\", \"Bull\", \"Bull\", \"Bull\", \"Bull\", \"Bull\", \"Bull\", \"Bear\", \"Bull\", \"Bull\", \"Bull\", \"Bull\", \"Bull\", \"Bull\", \"Bull\", \"Bull\", \"Bull\", \"Bull\", \"Bull\", \"Bear\", \"Bull\", \"Bear\", \"Bear\", \"Bear\", \"Bear\", \"Bear\", \"Bear\", \"Bear\", \"Bull\", \"Bear\", \"Bear\", \"Bull\", \"Bull\", \"Bull\", \"Bull\", \"Bull\", \"Bull\", \"Bull\", \"Bull\", \"Bull\", \"Bull\", \"Bull\", \"Bull\", \"Bull\", \"Bull\", \"Bear\", \"Bear\", \"Bull\", \"Bull\", \"Bear\", \"Bull\", \"Bull\", \"Bull\", \"Bull\", \"Bull\", \"Bull\", \"Bull\", \"Bear\", \"Bear\", \"Bull\", \"Bull\", \"Bull\", \"Bear\", \"Bear\", \"Bear\", \"Bull\", \"Bull\", \"Bear\", \"Bear\", \"Bull\", \"Bull\", \"Bull\", \"Bull\", \"Bear\", \"Bull\", \"Bull\", \"Bull\", \"Bull\", \"Bull\", \"Bear\", \"Bear\", \"Bear\", \"Bear\", \"Bear\", \"Bear\", \"Bear\", \"Bear\", \"Bear\", \"Bear\", \"Bear\", \"Bull\", \"Bull\", \"Bear\", \"Bull\", \"Bull\", \"Bear\", \"Bull\", \"Bull\", \"Bear\", \"Bull\", \"Bear\", \"Bull\", \"Bull\", \"Bear\", \"Bear\", \"Bull\", \"Bear\", \"Bull\", \"Bear\", \"Bull\", \"Bear\", \"Bear\", \"Bull\", \"Bull\", \"Bear\", \"Bull\", \"Bear\", \"Bull\", \"Bull\", \"Bull\", \"Bear\", \"Bull\", \"Bull\", \"Bull\", \"Bull\", \"Bull\", \"Bull\", \"Bull\", \"Bull\", \"Bull\", \"Bull\", \"Bull\", \"Bear\", \"Bear\", \"Bull\", \"Bear\", \"Bull\", \"Bear\", \"Bull\", \"Bull\", \"Bull\", \"Bull\", \"Bull\", \"Bull\", \"Bull\", \"Bull\", \"Bull\", \"Bear\", \"Bull\", \"Bull\", \"Bull\", \"Bear\", \"Bear\", \"Bull\", \"Bear\", \"Bull\", \"Bull\", \"Bull\", \"Bull\", \"Bear\", \"Bull\", \"Bull\", \"Bull\", \"Bull\", \"Bear\", \"Bull\", \"Bull\", \"Bull\", \"Bull\", \"Bull\", \"Bear\", \"Bull\", \"Bear\", \"Bull\", \"Bear\", \"Bull\", \"Bear\", \"Bull\", \"Bear\", \"Bull\", \"Bull\", \"Bull\", \"Bear\", \"Bull\", \"Bull\", \"Bull\", \"Bull\", \"Bear\", \"Bull\", \"Bear\", \"Bull\", \"Bull\", \"Bear\", \"Bear\", \"Bear\", \"Bull\", \"Bull\", \"Bull\", \"Bear\", \"Bull\", \"Bull\", \"Bull\", \"Bull\", \"Bear\", \"Bull\", \"Bull\", \"Bull\", \"Bull\", \"Bear\", \"Bull\", \"Bull\", \"Bear\", \"Bull\", \"Bear\", \"Bear\", \"Bull\", \"Bull\", \"Bull\", \"Bull\", \"Bear\", \"Bear\", \"Bull\", \"Bear\", \"Bull\", \"Bear\", \"Bull\", \"Bull\", \"Bull\", \"Bull\", \"Bull\", \"Bull\", \"Bear\", \"Bear\", \"Bull\", \"Bear\", \"Bull\", \"Bear\", \"Bear\", \"Bear\", \"Bull\", \"Bull\", \"Bull\", \"Bear\", \"Bull\", \"Bear\", \"Bear\", \"Bull\", \"Bull\", \"Bull\", \"Bear\", \"Bull\", \"Bear\", \"Bull\", \"Bull\", \"Bull\", \"Bull\", \"Bull\", \"Bull\", \"Bull\", \"Bull\", \"Bull\", \"Bull\", \"Bull\", \"Bear\", \"Bull\", \"Bull\", \"Bull\", \"Bull\", \"Bull\", \"Bull\", \"Bull\", \"Bear\", \"Bull\", \"Bear\", \"Bull\", \"Bull\", \"Bull\", \"Bear\", \"Bull\", \"Bull\", \"Bear\", \"Bear\", \"Bear\", \"Bear\", \"Bull\", \"Bear\", \"Bear\", \"Bull\", \"Bull\", \"Bull\", \"Bull\", \"Bull\", \"Bear\", \"Bull\", \"Bull\", \"Bull\", \"Bull\", \"Bear\", \"Bull\", \"Bull\", \"Bull\", \"Bull\", \"Bull\", \"Bull\", \"Bear\", \"Bull\", \"Bull\", \"Bear\", \"Bull\", \"Bull\", \"Bull\", \"Bear\", \"Bear\", \"Bull\", \"Bull\", \"Bear\", \"Bear\", \"Bull\", \"Bear\", \"Bear\", \"Bull\", \"Bull\", \"Bear\", \"Bull\", \"Bear\", \"Bull\", \"Bull\", \"Bear\", \"Bull\", \"Bull\", \"Bull\", \"Bear\", \"Bull\", \"Bull\", \"Bull\", \"Bear\", \"Bear\", \"Bull\", \"Bull\", \"Bull\", \"Bull\", \"Bear\", \"Bull\", \"Bear\", \"Bear\", \"Bear\", \"Bull\", \"Bull\", \"Bull\", \"Bull\", \"Bear\", \"Bull\", \"Bull\", \"Bull\", \"Bull\", \"Bull\", \"Bull\", \"Bull\", \"Bull\", \"Bull\", \"Bull\", \"Bull\", \"Bull\", \"Bull\", \"Bull\", \"Bull\", \"Bull\", \"Bull\", \"Bear\", \"Bull\", \"Bull\", \"Bull\", \"Bull\", \"Bull\", \"Bull\", \"Bull\", \"Bear\", \"Bear\", \"Bull\", \"Bear\", \"Bull\", \"Bear\", \"Bull\", \"Bull\", \"Bear\", \"Bull\", \"Bull\", \"Bull\", \"Bear\", \"Bull\", \"Bull\", \"Bull\", \"Bear\", \"Bull\", \"Bear\", \"Bear\", \"Bear\", \"Bull\", \"Bull\", \"Bull\", \"Bear\", \"Bull\", \"Bull\", \"Bull\", \"Bull\", \"Bull\", \"Bull\", \"Bull\", \"Bear\", \"Bull\", \"Bull\", \"Bull\", \"Bear\", \"Bear\", \"Bear\", \"Bull\", \"Bear\", \"Bear\", \"Bear\", \"Bull\", \"Bull\", \"Bull\", \"Bull\", \"Bull\", \"Bear\", \"Bear\", \"Bull\", \"Bull\", \"Bear\", \"Bull\", \"Bull\", \"Bull\", \"Bull\", \"Bear\", \"Bull\", \"Bear\", \"Bear\", \"Bear\", \"Bear\", \"Bull\", \"Bear\", \"Bear\", \"Bear\", \"Bull\", \"Bear\", \"Bear\", \"Bear\", \"Bull\", \"Bear\", \"Bear\", \"Bear\", \"Bull\", \"Bear\", \"Bear\", \"Bear\", \"Bear\", \"Bear\", \"Bull\", \"Bull\", \"Bull\", \"Bear\", \"Bear\", \"Bear\", \"Bear\", \"Bear\", \"Bull\", \"Bull\", \"Bear\", \"Bear\", \"Bear\", \"Bear\", \"Bull\", \"Bear\", \"Bull\", \"Bull\", \"Bull\", \"Bull\", \"Bull\", \"Bull\", \"Bull\", \"Bull\", \"Bull\", \"Bull\", \"Bull\", \"Bear\", \"Bull\", \"Bear\", \"Bear\", \"Bear\", \"Bear\", \"Bull\", \"Bull\", \"Bull\", \"Bear\", \"Bear\", \"Bear\", \"Bear\", \"Bull\", \"Bear\", \"Bull\", \"Bear\", \"Bull\", \"Bull\", \"Bear\", \"Bull\", \"Bear\", \"Bear\", \"Bull\", \"Bull\", \"Bull\", \"Bull\", \"Bear\", \"Bull\", \"Bear\", \"Bear\", \"Bull\", \"Bull\", \"Bull\", \"Bull\", \"Bear\", \"Bear\", \"Bull\", \"Bull\", \"Bull\", \"Bull\", \"Bull\", \"Bull\", \"Bull\", \"Bull\", \"Bear\", \"Bull\", \"Bull\", \"Bull\", \"Bull\", \"Bull\", \"Bull\", \"Bull\", \"Bear\", \"Bear\", \"Bull\", \"Bull\", \"Bull\", \"Bull\", \"Bull\", \"Bull\", \"Bull\", \"Bear\", \"Bull\", \"Bull\", \"Bear\", \"Bull\", \"Bull\", \"Bear\", \"Bull\", \"Bull\", \"Bull\", \"Bear\", \"Bear\", \"Bull\", \"Bear\", \"Bull\", \"Bear\", \"Bull\", \"Bear\", \"Bull\", \"Bull\", \"Bull\", \"Bull\", \"Bull\", \"Bull\", \"Bull\", \"Bull\", \"Bull\", \"Bull\", \"Bull\", \"Bear\", \"Bull\", \"Bear\", \"Bear\", \"Bear\", \"Bear\", \"Bear\", \"Bear\", \"Bear\", \"Bull\", \"Bull\", \"Bull\", \"Bull\", \"Bull\", \"Bull\", \"Bull\", \"Bull\", \"Bull\", \"Bear\", \"Bull\", \"Bull\", \"Bull\", \"Bull\", \"Bull\", \"Bull\", \"Bull\", \"Bull\", \"Bear\", \"Bear\", \"Bear\", \"Bull\", \"Bull\", \"Bull\", \"Bull\", \"Bull\", \"Bull\", \"Bull\", \"Bear\", \"Bear\", \"Bull\", \"Bull\", \"Bear\", \"Bull\", \"Bull\", \"Bull\", \"Bull\", \"Bull\", \"Bull\", \"Bear\", \"Bull\", \"Bull\", \"Bear\", \"Bull\", \"Bull\", \"Bull\", \"Bull\", \"Bull\", \"Bull\", \"Bull\", \"Bear\", \"Bull\", \"Bear\", \"Bull\", \"Bear\", \"Bear\", \"Bull\", \"Bear\", \"Bull\", \"Bull\", \"Bull\", \"Bull\", \"Bear\", \"Bear\", \"Bear\", \"Bear\", \"Bull\", \"Bull\", \"Bear\", \"Bear\", \"Bull\", \"Bull\", \"Bull\", \"Bear\", \"Bear\", \"Bull\", \"Bull\", \"Bull\", \"Bull\", \"Bear\", \"Bull\", \"Bull\", \"Bull\", \"Bull\", \"Bull\", \"Bull\", \"Bull\", \"Bear\", \"Bear\", \"Bear\", \"Bull\", \"Bull\", \"Bull\", \"Bear\", \"Bull\", \"Bull\", \"Bull\", \"Bull\", \"Bull\", \"Bull\", \"Bull\", \"Bull\", \"Bull\", \"Bear\", \"Bull\", \"Bull\", \"Bear\", \"Bull\", \"Bull\", \"Bear\", \"Bear\", \"Bull\", \"Bear\", \"Bear\", \"Bear\", \"Bear\", \"Bear\", \"Bear\", \"Bear\", \"Bull\", \"Bear\", \"Bull\", \"Bull\", \"Bull\", \"Bull\", \"Bull\", \"Bull\", \"Bull\", \"Bull\", \"Bear\", \"Bull\", \"Bull\", \"Bull\", \"Bull\", \"Bull\", \"Bull\", \"Bull\", \"Bull\", \"Bull\", \"Bear\", \"Bear\", \"Bull\", \"Bull\", \"Bull\", \"Bull\", \"Bear\", \"Bear\", \"Bear\", \"Bull\", \"Bull\", \"Bull\", \"Bull\", \"Bull\", \"Bull\", \"Bull\", \"Bull\", \"Bear\", \"Bull\", \"Bull\", \"Bull\", \"Bull\", \"Bull\", \"Bull\", \"Bull\", \"Bull\", \"Bear\", \"Bull\", \"Bull\", \"Bull\", \"Bull\", \"Bull\", \"Bull\", \"Bull\", \"Bull\", \"Bull\", \"Bull\", \"Bull\", \"Bull\", \"Bull\", \"Bull\", \"Bull\", \"Bull\", \"Bear\", \"Bull\", \"Bull\", \"Bull\", \"Bull\", \"Bull\", \"Bull\", \"Bear\", \"Bull\", \"Bull\", \"Bull\", \"Bear\", \"Bull\", \"Bull\", \"Bull\", \"Bull\", \"Bull\", \"Bull\", \"Bull\", \"Bull\", \"Bull\", \"Bull\", \"Bull\", \"Bull\", \"Bull\", \"Bull\", \"Bull\", \"Bull\", \"Bull\", \"Bull\", \"Bull\", \"Bull\", \"Bull\", \"Bull\", \"Bull\", \"Bull\", \"Bear\", \"Bull\", \"Bear\", \"Bear\", \"Bull\", \"Bear\", \"Bear\", \"Bull\", \"Bull\", \"Bull\", \"Bull\", \"Bear\", \"Bear\", \"Bull\", \"Bull\", \"Bear\", \"Bull\", \"Bull\", \"Bull\", \"Bull\", \"Bull\", \"Bear\", \"Bull\", \"Bull\", \"Bull\", \"Bull\", \"Bull\", \"Bear\", \"Bull\", \"Bull\", \"Bull\", \"Bear\", \"Bull\", \"Bull\", \"Bull\", \"Bull\", \"Bull\", \"Bull\", \"Bull\", \"Bull\", \"Bull\", \"Bull\", \"Bear\", \"Bull\", \"Bull\", \"Bull\", \"Bull\", \"Bull\", \"Bear\", \"Bear\", \"Bear\", \"Bear\", \"Bull\", \"Bear\", \"Bull\", \"Bull\", \"Bull\", \"Bull\", \"Bull\", \"Bull\", \"Bull\", \"Bull\", \"Bull\", \"Bull\", \"Bull\", \"Bull\", \"Bull\", \"Bull\", \"Bull\", \"Bull\", \"Bull\", \"Bull\", \"Bull\", \"Bull\", \"Bull\", \"Bull\", \"Bear\", \"Bear\", \"Bull\", \"Bull\", \"Bull\", \"Bull\", \"Bear\", \"Bear\", \"Bear\", \"Bull\", \"Bear\", \"Bear\", \"Bull\", \"Bear\", \"Bull\", \"Bear\", \"Bear\", \"Bull\", \"Bear\", \"Bull\", \"Bear\", \"Bear\", \"Bull\", \"Bear\", \"Bull\", \"Bull\", \"Bull\", \"Bull\", \"Bull\", \"Bull\", \"Bear\", \"Bull\", \"Bull\", \"Bull\", \"Bull\", \"Bull\", \"Bull\", \"Bull\", \"Bull\", \"Bull\", \"Bull\", \"Bull\", \"Bull\", \"Bull\", \"Bull\", \"Bull\", \"Bull\", \"Bear\", \"Bull\", \"Bear\", \"Bull\", \"Bull\", \"Bull\", \"Bull\", \"Bull\", \"Bull\", \"Bull\", \"Bull\", \"Bull\", \"Bear\", \"Bull\", \"Bear\", \"Bull\", \"Bull\", \"Bull\", \"Bull\", \"Bull\", \"Bull\", \"Bull\", \"Bull\", \"Bear\", \"Bull\", \"Bear\", \"Bear\", \"Bull\", \"Bear\", \"Bear\", \"Bull\", \"Bear\", \"Bull\", \"Bull\", \"Bull\", \"Bear\", \"Bear\", \"Bear\", \"Bull\", \"Bear\", \"Bear\", \"Bear\", \"Bear\", \"Bear\", \"Bear\", \"Bear\", \"Bear\", \"Bear\", \"Bear\", \"Bull\", \"Bull\", \"Bull\", \"Bull\", \"Bear\", \"Bear\", \"Bear\", \"Bear\", \"Bear\", \"Bull\", \"Bull\", \"Bear\", \"Bull\", \"Bull\", \"Bear\", \"Bull\", \"Bull\", \"Bull\", \"Bull\", \"Bear\", \"Bull\", \"Bull\", \"Bull\", \"Bull\", \"Bull\", \"Bull\", \"Bear\", \"Bull\", \"Bull\", \"Bear\", \"Bull\", \"Bear\", \"Bull\", \"Bull\", \"Bear\", \"Bull\", \"Bull\", \"Bear\", \"Bull\", \"Bear\", \"Bear\", \"Bull\", \"Bull\", \"Bull\", \"Bear\", \"Bull\", \"Bull\", \"Bull\", \"Bull\", \"Bull\", \"Bull\", \"Bull\", \"Bull\", \"Bull\", \"Bull\", \"Bull\", \"Bull\", \"Bear\", \"Bull\", \"Bull\", \"Bear\", \"Bull\", \"Bull\", \"Bull\", \"Bull\", \"Bull\", \"Bear\", \"Bull\", \"Bear\", \"Bear\", \"Bull\", \"Bull\", \"Bull\", \"Bull\", \"Bull\", \"Bull\", \"Bull\", \"Bull\", \"Bull\", \"Bear\", \"Bear\", \"Bull\", \"Bear\", \"Bear\", \"Bull\", \"Bear\", \"Bull\", \"Bear\", \"Bull\", \"Bull\", \"Bull\", \"Bull\", \"Bull\", \"Bull\", \"Bull\", \"Bull\", \"Bull\", \"Bull\", \"Bull\", \"Bear\", \"Bear\", \"Bull\", \"Bull\", \"Bull\", \"Bull\", \"Bull\", \"Bull\", \"Bull\", \"Bull\", \"Bull\", \"Bull\", \"Bull\", \"Bear\", \"Bull\", \"Bull\", \"Bull\", \"Bull\", \"Bull\", \"Bull\", \"Bull\", \"Bull\", \"Bull\", \"Bull\", \"Bull\", \"Bull\", \"Bull\", \"Bear\", \"Bear\", \"Bull\", \"Bull\", \"Bull\", \"Bull\", \"Bear\", \"Bear\", \"Bull\", \"Bull\", \"Bull\", \"Bull\", \"Bear\", \"Bull\", \"Bull\", \"Bull\", \"Bull\", \"Bull\", \"Bull\", \"Bull\", \"Bull\", \"Bull\", \"Bull\", \"Bear\", \"Bull\", \"Bull\", \"Bull\", \"Bear\", \"Bull\", \"Bear\", \"Bull\", \"Bull\", \"Bull\", \"Bull\", \"Bear\", \"Bull\", \"Bull\", \"Bull\", \"Bull\", \"Bull\", \"Bull\", \"Bull\", \"Bull\", \"Bear\", \"Bull\", \"Bull\", \"Bull\", \"Bull\", \"Bull\", \"Bull\", \"Bull\", \"Bull\", \"Bull\", \"Bull\", \"Bull\", \"Bull\", \"Bull\", \"Bull\", \"Bear\", \"Bull\", \"Bull\", \"Bear\", \"Bull\", \"Bull\", \"Bull\", \"Bull\", \"Bear\", \"Bull\", \"Bull\", \"Bull\", \"Bull\", \"Bull\", \"Bull\", \"Bull\", \"Bear\", \"Bull\", \"Bull\", \"Bull\", \"Bull\", \"Bull\", \"Bull\", \"Bull\", \"Bull\", \"Bull\", \"Bull\", \"Bull\", \"Bull\", \"Bear\", \"Bull\", \"Bull\", \"Bull\", \"Bear\", \"Bull\", \"Bull\", \"Bull\", \"Bear\", \"Bull\", \"Bear\", \"Bear\", \"Bull\", \"Bull\", \"Bear\", \"Bull\", \"Bull\", \"Bull\", \"Bull\", \"Bull\", \"Bull\", \"Bull\", \"Bull\", \"Bull\", \"Bull\", \"Bull\", \"Bull\", \"Bear\", \"Bull\", \"Bull\", \"Bear\", \"Bull\", \"Bull\", \"Bear\", \"Bull\", \"Bull\", \"Bear\", \"Bull\", \"Bull\", \"Bull\", \"Bull\", \"Bull\", \"Bear\", \"Bear\", \"Bull\", \"Bull\", \"Bull\", \"Bull\", \"Bear\", \"Bull\", \"Bull\", \"Bull\", \"Bull\", \"Bull\", \"Bear\", \"Bull\", \"Bull\", \"Bear\", \"Bull\", \"Bull\", \"Bull\", \"Bear\", \"Bear\", \"Bear\", \"Bear\", \"Bear\", \"Bull\", \"Bear\", \"Bear\", \"Bull\", \"Bull\", \"Bull\", \"Bull\", \"Bull\", \"Bull\", \"Bull\", \"Bull\", \"Bear\", \"Bull\", \"Bull\", \"Bull\", \"Bull\", \"Bear\", \"Bear\", \"Bull\", \"Bull\", \"Bull\", \"Bull\", \"Bear\", \"Bull\", \"Bear\", \"Bull\", \"Bull\", \"Bull\", \"Bull\", \"Bull\", \"Bull\", \"Bull\", \"Bull\", \"Bull\", \"Bull\", \"Bull\", \"Bull\", \"Bear\", \"Bull\", \"Bull\", \"Bull\", \"Bull\", \"Bull\", \"Bull\", \"Bull\", \"Bull\", \"Bear\", \"Bull\", \"Bear\", \"Bull\", \"Bull\", \"Bull\", \"Bear\", \"Bear\", \"Bear\", \"Bull\", \"Bull\", \"Bull\", \"Bull\", \"Bull\", \"Bull\", \"Bull\", \"Bear\", \"Bull\", \"Bull\", \"Bear\", \"Bull\", \"Bull\", \"Bull\", \"Bull\", \"Bear\", \"Bull\", \"Bull\", \"Bull\", \"Bull\", \"Bull\", \"Bull\", \"Bull\", \"Bull\", \"Bear\", \"Bull\", \"Bear\", \"Bull\", \"Bull\", \"Bull\", \"Bear\", \"Bull\", \"Bull\", \"Bear\", \"Bear\", \"Bull\", \"Bull\", \"Bear\", \"Bull\", \"Bull\", \"Bear\", \"Bear\", \"Bear\", \"Bull\", \"Bull\", \"Bull\", \"Bull\", \"Bull\", \"Bear\", \"Bull\", \"Bull\", \"Bull\", \"Bull\", \"Bull\", \"Bull\", \"Bull\", \"Bull\", \"Bull\", \"Bull\", \"Bull\", \"Bull\", \"Bull\", \"Bull\", \"Bull\", \"Bull\", \"Bull\", \"Bull\", \"Bull\", \"Bull\", \"Bull\", \"Bull\", \"Bear\", \"Bull\", \"Bull\", \"Bear\", \"Bull\", \"Bull\", \"Bear\", \"Bear\", \"Bull\", \"Bull\", \"Bull\", \"Bear\", \"Bull\", \"Bull\", \"Bull\", \"Bull\", \"Bear\", \"Bull\", \"Bull\", \"Bull\", \"Bull\", \"Bull\", \"Bull\", \"Bull\", \"Bull\", \"Bull\", \"Bull\", \"Bull\", \"Bull\", \"Bull\", \"Bear\", \"Bull\", \"Bull\", \"Bull\", \"Bear\", \"Bull\", \"Bull\", \"Bull\", \"Bull\", \"Bear\", \"Bull\", \"Bull\", \"Bull\", \"Bear\", \"Bull\", \"Bull\", \"Bull\", \"Bear\", \"Bull\", \"Bull\", \"Bull\", \"Bear\", \"Bull\", \"Bull\", \"Bull\", \"Bull\", \"Bull\", \"Bull\", \"Bull\", \"Bull\", \"Bull\", \"Bull\", \"Bear\", \"Bull\", \"Bull\", \"Bull\", \"Bear\", \"Bull\", \"Bear\", \"Bull\", \"Bear\", \"Bull\", \"Bull\", \"Bull\", \"Bull\", \"Bull\", \"Bull\", \"Bull\", \"Bear\", \"Bull\", \"Bull\", \"Bull\", \"Bear\", \"Bull\", \"Bull\", \"Bull\", \"Bull\", \"Bull\", \"Bull\", \"Bear\", \"Bull\", \"Bear\", \"Bull\", \"Bear\", \"Bull\", \"Bull\", \"Bull\", \"Bull\", \"Bull\", \"Bear\", \"Bear\", \"Bull\", \"Bull\", \"Bull\", \"Bull\", \"Bear\", \"Bear\", \"Bull\", \"Bull\", \"Bull\", \"Bear\", \"Bull\", \"Bear\", \"Bear\", \"Bull\", \"Bear\", \"Bull\", \"Bull\", \"Bull\", \"Bear\", \"Bull\", \"Bear\", \"Bull\", \"Bull\", \"Bull\", \"Bull\", \"Bull\", \"Bull\", \"Bear\", \"Bull\", \"Bull\", \"Bull\", \"Bull\", \"Bear\", \"Bull\", \"Bull\", \"Bear\", \"Bear\", \"Bull\", \"Bull\", \"Bull\", \"Bull\", \"Bull\", \"Bull\", \"Bull\", \"Bull\", \"Bull\", \"Bull\", \"Bull\", \"Bull\", \"Bull\", \"Bull\", \"Bull\", \"Bear\", \"Bull\", \"Bull\", \"Bear\", \"Bull\", \"Bull\", \"Bull\", \"Bull\", \"Bull\", \"Bull\", \"Bull\", \"Bull\", \"Bull\", \"Bull\", \"Bull\", \"Bull\", \"Bear\", \"Bull\", \"Bull\", \"Bull\", \"Bull\", \"Bull\", \"Bull\", \"Bull\", \"Bull\", \"Bull\", \"Bull\", \"Bull\", \"Bear\", \"Bull\", \"Bear\", \"Bull\", \"Bull\", \"Bull\", \"Bull\", \"Bull\", \"Bull\", \"Bull\", \"Bull\", \"Bull\", \"Bull\", \"Bull\", \"Bull\", \"Bull\", \"Bear\", \"Bear\", \"Bull\", \"Bear\", \"Bull\", \"Bear\", \"Bull\", \"Bull\", \"Bear\", \"Bear\", \"Bear\", \"Bull\", \"Bear\", \"Bull\", \"Bull\", \"Bull\", \"Bull\", \"Bear\", \"Bull\", \"Bear\", \"Bull\", \"Bull\", \"Bear\", \"Bear\", \"Bull\", \"Bull\", \"Bull\", \"Bull\", \"Bull\", \"Bull\", \"Bull\", \"Bull\", \"Bull\", \"Bull\", \"Bull\", \"Bull\", \"Bull\", \"Bull\", \"Bear\", \"Bull\", \"Bull\", \"Bull\", \"Bear\", \"Bear\", \"Bear\", \"Bear\", \"Bear\", \"Bull\", \"Bull\", \"Bull\", \"Bull\", \"Bull\", \"Bull\", \"Bear\", \"Bear\", \"Bear\", \"Bull\", \"Bear\", \"Bear\", \"Bull\", \"Bear\", \"Bull\", \"Bear\", \"Bull\", \"Bull\", \"Bull\", \"Bull\", \"Bull\", \"Bear\", \"Bull\", \"Bull\", \"Bear\", \"Bull\", \"Bull\", \"Bear\", \"Bull\", \"Bear\", \"Bull\", \"Bull\", \"Bull\", \"Bull\", \"Bear\", \"Bear\", \"Bull\", \"Bear\", \"Bull\", \"Bull\", \"Bull\", \"Bear\", \"Bear\", \"Bear\", \"Bull\", \"Bear\", \"Bull\", \"Bear\", \"Bear\", \"Bear\", \"Bull\", \"Bull\", \"Bear\", \"Bear\", \"Bull\", \"Bear\", \"Bull\", \"Bear\", \"Bull\", \"Bull\", \"Bull\", \"Bull\", \"Bull\", \"Bull\", \"Bull\", \"Bear\", \"Bull\", \"Bull\", \"Bull\", \"Bull\", \"Bull\", \"Bull\", \"Bull\", \"Bull\", \"Bull\", \"Bull\", \"Bull\", \"Bull\", \"Bull\", \"Bear\", \"Bear\", \"Bull\", \"Bull\", \"Bull\", \"Bear\", \"Bull\", \"Bull\", \"Bear\", \"Bear\", \"Bear\", \"Bull\", \"Bull\", \"Bull\", \"Bear\", \"Bull\", \"Bull\", \"Bull\", \"Bull\", \"Bull\", \"Bear\", \"Bear\", \"Bull\", \"Bull\", \"Bull\", \"Bull\", \"Bull\", \"Bull\", \"Bull\", \"Bull\", \"Bear\", \"Bull\", \"Bull\", \"Bull\", \"Bull\", \"Bull\", \"Bull\", \"Bull\", \"Bear\", \"Bull\", \"Bear\", \"Bull\", \"Bull\", \"Bull\", \"Bull\", \"Bull\", \"Bull\", \"Bull\", \"Bull\", \"Bull\", \"Bull\", \"Bull\", \"Bull\", \"Bull\", \"Bull\", \"Bull\", \"Bear\", \"Bear\", \"Bear\", \"Bull\", \"Bear\", \"Bull\", \"Bull\", \"Bull\", \"Bull\", \"Bull\", \"Bull\", \"Bull\", \"Bear\", \"Bear\", \"Bull\", \"Bull\", \"Bear\", \"Bull\", \"Bull\", \"Bear\", \"Bull\", \"Bear\", \"Bull\", \"Bull\", \"Bull\", \"Bull\", \"Bear\", \"Bull\", \"Bull\", \"Bull\", \"Bull\", \"Bull\", \"Bear\", \"Bull\", \"Bull\", \"Bull\", \"Bear\", \"Bear\", \"Bear\", \"Bear\", \"Bull\", \"Bull\", \"Bull\", \"Bear\", \"Bull\", \"Bull\", \"Bull\", \"Bull\", \"Bull\", \"Bear\", \"Bear\", \"Bear\", \"Bull\", \"Bear\", \"Bear\", \"Bull\", \"Bull\", \"Bull\", \"Bull\", \"Bull\", \"Bull\", \"Bull\", \"Bull\", \"Bull\", \"Bull\", \"Bull\", \"Bear\", \"Bear\", \"Bull\", \"Bull\", \"Bull\", \"Bear\", \"Bear\", \"Bull\", \"Bull\", \"Bull\", \"Bull\", \"Bull\", \"Bull\", \"Bull\", \"Bull\", \"Bull\", \"Bull\", \"Bear\", \"Bull\", \"Bull\", \"Bull\", \"Bear\", \"Bull\", \"Bear\", \"Bull\", \"Bull\", \"Bull\", \"Bull\", \"Bull\", \"Bear\", \"Bear\", \"Bear\", \"Bull\", \"Bull\", \"Bull\", \"Bear\", \"Bull\", \"Bull\", \"Bear\", \"Bull\", \"Bull\", \"Bear\", \"Bull\", \"Bull\", \"Bull\", \"Bear\", \"Bull\", \"Bull\", \"Bull\", \"Bear\", \"Bull\", \"Bear\", \"Bull\", \"Bull\", \"Bear\", \"Bull\", \"Bull\", \"Bull\", \"Bull\", \"Bull\", \"Bull\", \"Bull\", \"Bull\", \"Bear\", \"Bull\", \"Bull\", \"Bear\", \"Bull\", \"Bull\", \"Bull\", \"Bear\", \"Bear\", \"Bull\", \"Bear\", \"Bear\", \"Bull\", \"Bull\", \"Bull\", \"Bull\", \"Bear\", \"Bear\", \"Bull\", \"Bear\", \"Bear\", \"Bear\", \"Bear\", \"Bull\", \"Bull\", \"Bull\", \"Bull\", \"Bull\", \"Bull\", \"Bear\", \"Bear\", \"Bear\", \"Bull\", \"Bull\", \"Bull\", \"Bull\", \"Bear\", \"Bull\", \"Bear\", \"Bear\", \"Bull\", \"Bull\", \"Bear\", \"Bear\", \"Bull\", \"Bull\", \"Bull\", \"Bull\", \"Bull\", \"Bear\", \"Bull\", \"Bull\", \"Bear\", \"Bull\", \"Bear\", \"Bull\", \"Bull\", \"Bear\", \"Bear\", \"Bear\", \"Bear\", \"Bull\", \"Bear\", \"Bear\", \"Bull\", \"Bear\", \"Bull\", \"Bull\", \"Bull\", \"Bull\", \"Bull\", \"Bear\", \"Bear\", \"Bear\", \"Bear\", \"Bear\", \"Bull\", \"Bull\", \"Bull\", \"Bull\", \"Bull\", \"Bear\", \"Bull\", \"Bear\", \"Bear\", \"Bull\", \"Bear\", \"Bear\", \"Bull\", \"Bear\", \"Bear\", \"Bull\", \"Bull\", \"Bull\", \"Bull\", \"Bull\", \"Bull\", \"Bear\", \"Bull\", \"Bull\", \"Bull\", \"Bull\", \"Bull\", \"Bull\", \"Bull\", \"Bull\", \"Bear\", \"Bull\", \"Bull\", \"Bull\", \"Bull\", \"Bull\", \"Bull\", \"Bull\", \"Bull\", \"Bear\", \"Bull\", \"Bull\", \"Bull\", \"Bear\", \"Bear\", \"Bull\", \"Bull\", \"Bull\", \"Bear\", \"Bear\", \"Bull\", \"Bear\", \"Bear\", \"Bear\", \"Bear\", \"Bull\", \"Bear\", \"Bull\", \"Bull\", \"Bull\", \"Bull\", \"Bear\", \"Bull\", \"Bear\", \"Bull\", \"Bull\", \"Bull\", \"Bull\", \"Bear\", \"Bull\", \"Bear\", \"Bull\", \"Bull\", \"Bull\", \"Bear\", \"Bear\", \"Bull\", \"Bull\", \"Bull\", \"Bull\", \"Bull\", \"Bear\", \"Bear\", \"Bear\", \"Bear\", \"Bear\", \"Bull\", \"Bull\", \"Bull\", \"Bull\", \"Bull\", \"Bull\", \"Bull\", \"Bear\", \"Bull\", \"Bull\", \"Bull\", \"Bull\", \"Bear\", \"Bull\", \"Bull\", \"Bull\", \"Bull\", \"Bull\", \"Bull\", \"Bear\", \"Bull\", \"Bear\", \"Bull\", \"Bull\", \"Bear\", \"Bull\", \"Bull\", \"Bull\", \"Bear\", \"Bull\", \"Bull\", \"Bull\", \"Bull\", \"Bull\", \"Bull\", \"Bull\", \"Bear\", \"Bull\", \"Bull\", \"Bull\", \"Bull\", \"Bull\", \"Bull\", \"Bull\", \"Bull\", \"Bull\", \"Bull\", \"Bear\", \"Bull\", \"Bull\", \"Bear\", \"Bear\", \"Bear\", \"Bull\", \"Bear\", \"Bear\", \"Bull\", \"Bull\", \"Bull\", \"Bull\", \"Bull\", \"Bull\", \"Bull\", \"Bull\", \"Bull\", \"Bear\", \"Bear\", \"Bull\", \"Bear\", \"Bull\", \"Bull\", \"Bull\", \"Bear\", \"Bull\", \"Bear\", \"Bear\", \"Bear\", \"Bull\", \"Bull\", \"Bull\", \"Bull\", \"Bear\", \"Bull\", \"Bull\", \"Bull\", \"Bull\", \"Bull\", \"Bull\", \"Bear\", \"Bear\", \"Bear\", \"Bear\", \"Bear\", \"Bear\", \"Bear\", \"Bear\", \"Bear\", \"Bear\", \"Bear\", \"Bear\", \"Bull\", \"Bear\", \"Bear\", \"Bear\", \"Bear\", \"Bear\", \"Bear\", \"Bull\", \"Bull\", \"Bear\", \"Bear\", \"Bull\", \"Bear\", \"Bull\", \"Bull\", \"Bull\", \"Bull\", \"Bull\", \"Bear\", \"Bull\", \"Bear\", \"Bull\", \"Bull\", \"Bull\", \"Bull\", \"Bear\", \"Bull\", \"Bull\", \"Bear\", \"Bull\", \"Bear\", \"Bear\", \"Bear\", \"Bear\", \"Bear\", \"Bull\", \"Bear\", \"Bear\", \"Bull\", \"Bull\", \"Bull\", \"Bull\", \"Bear\", \"Bull\", \"Bull\", \"Bull\", \"Bull\", \"Bear\", \"Bull\", \"Bull\", \"Bull\", \"Bull\", \"Bear\", \"Bull\", \"Bear\", \"Bull\", \"Bull\", \"Bear\", \"Bull\", \"Bear\", \"Bear\", \"Bear\", \"Bear\", \"Bear\", \"Bear\", \"Bear\", \"Bear\", \"Bear\", \"Bear\", \"Bull\", \"Bull\", \"Bear\", \"Bull\", \"Bear\", \"Bull\", \"Bear\", \"Bear\", \"Bull\", \"Bull\", \"Bear\", \"Bull\", \"Bull\", \"Bull\", \"Bear\", \"Bear\", \"Bull\", \"Bear\", \"Bear\", \"Bear\", \"Bull\", \"Bear\", \"Bear\", \"Bear\", \"Bear\", \"Bear\", \"Bear\", \"Bear\", \"Bear\", \"Bear\", \"Bear\", \"Bull\", \"Bear\", \"Bear\", \"Bear\", \"Bull\", \"Bear\", \"Bull\", \"Bear\", \"Bull\", \"Bull\", \"Bull\", \"Bull\", \"Bull\", \"Bull\", \"Bull\", \"Bear\", \"Bull\", \"Bull\", \"Bull\", \"Bull\", \"Bear\", \"Bull\", \"Bear\", \"Bear\", \"Bear\", \"Bear\", \"Bull\", \"Bull\", \"Bear\", \"Bull\", \"Bull\", \"Bull\", \"Bear\", \"Bull\", \"Bear\", \"Bull\", \"Bull\", \"Bull\", \"Bull\", \"Bear\", \"Bear\", \"Bear\", \"Bull\", \"Bull\", \"Bull\", \"Bear\", \"Bull\", \"Bull\", \"Bull\", \"Bear\", \"Bull\", \"Bear\", \"Bull\", \"Bear\", \"Bull\", \"Bull\", \"Bull\", \"Bull\", \"Bull\", \"Bull\", \"Bull\", \"Bear\", \"Bull\", \"Bull\", \"Bull\", \"Bull\", \"Bull\", \"Bull\", \"Bull\", \"Bear\", \"Bull\", \"Bear\", \"Bull\", \"Bear\", \"Bull\", \"Bear\", \"Bull\", \"Bull\", \"Bull\", \"Bull\", \"Bull\", \"Bull\", \"Bear\", \"Bull\", \"Bear\", \"Bear\", \"Bull\", \"Bull\", \"Bear\", \"Bear\", \"Bull\", \"Bull\", \"Bear\", \"Bull\", \"Bear\", \"Bear\", \"Bull\", \"Bull\", \"Bear\", \"Bull\", \"Bear\", \"Bull\", \"Bull\", \"Bull\", \"Bear\", \"Bull\", \"Bull\", \"Bull\", \"Bear\", \"Bear\", \"Bear\", \"Bull\", \"Bull\", \"Bull\", \"Bear\", \"Bear\", \"Bear\", \"Bear\", \"Bull\", \"Bear\", \"Bear\", \"Bull\", \"Bull\", \"Bull\", \"Bear\", \"Bear\", \"Bear\", \"Bear\", \"Bull\", \"Bear\", \"Bear\", \"Bull\", \"Bear\", \"Bull\", \"Bull\", \"Bull\", \"Bull\", \"Bear\", \"Bull\", \"Bear\", \"Bull\", \"Bull\", \"Bull\", \"Bull\", \"Bear\", \"Bull\", \"Bear\", \"Bear\", \"Bear\", \"Bull\", \"Bear\", \"Bear\", \"Bull\", \"Bull\", \"Bear\", \"Bull\", \"Bear\", \"Bear\", \"Bull\", \"Bear\", \"Bull\", \"Bull\", \"Bull\", \"Bull\", \"Bull\", \"Bull\", \"Bull\", \"Bear\", \"Bull\", \"Bull\", \"Bull\", \"Bear\", \"Bear\", \"Bear\", \"Bear\", \"Bear\", \"Bull\", \"Bull\", \"Bear\", \"Bear\", \"Bull\", \"Bear\", \"Bull\", \"Bear\", \"Bull\", \"Bull\", \"Bull\", \"Bull\", \"Bull\", \"Bear\", \"Bull\", \"Bull\", \"Bull\", \"Bull\", \"Bull\", \"Bull\", \"Bull\", \"Bull\", \"Bull\", \"Bull\", \"Bear\", \"Bull\", \"Bear\", \"Bull\", \"Bear\", \"Bear\", \"Bear\", \"Bear\", \"Bull\", \"Bull\", \"Bull\", \"Bull\", \"Bear\", \"Bear\", \"Bull\", \"Bear\", \"Bull\", \"Bear\", \"Bear\", \"Bear\", \"Bear\", \"Bull\", \"Bear\", \"Bull\", \"Bull\", \"Bull\", \"Bull\", \"Bull\", \"Bull\", \"Bear\", \"Bear\", \"Bull\", \"Bull\", \"Bull\", \"Bull\", \"Bear\", \"Bear\", \"Bull\", \"Bull\", \"Bull\", \"Bear\", \"Bull\", \"Bull\", \"Bull\", \"Bear\", \"Bull\", \"Bear\", \"Bull\", \"Bear\", \"Bull\", \"Bull\", \"Bull\", \"Bull\", \"Bear\", \"Bull\", \"Bull\", \"Bear\", \"Bear\", \"Bull\", \"Bull\", \"Bull\", \"Bull\", \"Bull\", \"Bull\", \"Bull\", \"Bull\", \"Bull\", \"Bull\", \"Bull\", \"Bull\", \"Bull\", \"Bull\", \"Bear\", \"Bull\", \"Bull\", \"Bull\", \"Bear\", \"Bear\", \"Bull\", \"Bull\", \"Bear\", \"Bear\", \"Bear\", \"Bear\", \"Bear\", \"Bear\", \"Bear\", \"Bear\", \"Bear\", \"Bear\", \"Bull\", \"Bull\", \"Bear\", \"Bear\", \"Bear\", \"Bear\", \"Bear\", \"Bear\", \"Bear\", \"Bear\", \"Bull\", \"Bull\", \"Bull\", \"Bull\", \"Bull\", \"Bull\", \"Bear\", \"Bull\", \"Bull\", \"Bear\", \"Bull\", \"Bull\", \"Bull\", \"Bear\", \"Bull\", \"Bull\", \"Bull\", \"Bull\", \"Bear\", \"Bull\", \"Bull\", \"Bull\", \"Bear\", \"Bear\", \"Bear\", \"Bear\", \"Bear\", \"Bear\", \"Bear\", \"Bull\", \"Bull\", \"Bull\", \"Bear\", \"Bull\", \"Bull\", \"Bear\", \"Bull\", \"Bear\", \"Bull\", \"Bear\", \"Bear\", \"Bull\", \"Bear\", \"Bear\", \"Bull\", \"Bear\", \"Bear\", \"Bull\", \"Bear\", \"Bull\", \"Bear\", \"Bull\", \"Bull\", \"Bull\", \"Bull\", \"Bull\", \"Bull\", \"Bull\", \"Bull\", \"Bull\", \"Bear\", \"Bull\", \"Bull\", \"Bull\", \"Bull\", \"Bull\", \"Bull\", \"Bull\", \"Bull\", \"Bull\", \"Bear\", \"Bear\", \"Bull\", \"Bull\", \"Bull\", \"Bear\", \"Bull\", \"Bear\", \"Bear\", \"Bear\", \"Bull\", \"Bull\", \"Bear\", \"Bull\", \"Bull\", \"Bull\", \"Bear\", \"Bear\", \"Bear\", \"Bull\", \"Bear\", \"Bull\", \"Bull\", \"Bull\", \"Bull\", \"Bear\", \"Bull\", \"Bear\", \"Bear\", \"Bear\", \"Bull\", \"Bear\", \"Bull\", \"Bull\", \"Bear\", \"Bull\", \"Bear\", \"Bear\", \"Bear\", \"Bull\", \"Bear\", \"Bull\", \"Bear\", \"Bear\", \"Bear\", \"Bull\", \"Bear\", \"Bear\", \"Bull\", \"Bull\", \"Bull\", \"Bull\", \"Bull\", \"Bear\", \"Bull\", \"Bear\", \"Bear\", \"Bull\", \"Bull\", \"Bull\", \"Bull\", \"Bear\", \"Bear\", \"Bear\", \"Bull\", \"Bear\", \"Bear\", \"Bear\", \"Bear\", \"Bear\", \"Bull\", \"Bear\", \"Bull\", \"Bear\", \"Bull\", \"Bear\", \"Bear\", \"Bull\", \"Bull\", \"Bull\", \"Bull\", \"Bear\", \"Bull\", \"Bear\", \"Bear\", \"Bear\", \"Bear\", \"Bear\", \"Bear\", \"Bear\", \"Bear\", \"Bull\", \"Bull\", \"Bull\", \"Bear\", \"Bear\", \"Bull\", \"Bear\", \"Bear\", \"Bull\", \"Bear\", \"Bear\", \"Bear\", \"Bear\", \"Bull\", \"Bull\", \"Bear\", \"Bear\", \"Bear\", \"Bear\", \"Bear\", \"Bull\", \"Bull\", \"Bull\", \"Bull\", \"Bear\", \"Bear\", \"Bull\", \"Bear\", \"Bear\", \"Bear\", \"Bull\", \"Bear\", \"Bear\", \"Bear\", \"Bull\", \"Bull\", \"Bull\", \"Bear\", \"Bear\", \"Bear\", \"Bull\", \"Bear\", \"Bull\", \"Bull\", \"Bull\", \"Bear\", \"Bull\", \"Bear\", \"Bull\", \"Bull\", \"Bear\", \"Bull\", \"Bull\", \"Bear\", \"Bull\", \"Bear\", \"Bull\", \"Bear\", \"Bear\", \"Bull\", \"Bear\", \"Bear\", \"Bear\", \"Bull\", \"Bear\", \"Bull\", \"Bull\", \"Bear\", \"Bear\", \"Bear\", \"Bear\", \"Bear\", \"Bear\", \"Bull\", \"Bull\", \"Bear\", \"Bear\", \"Bull\", \"Bear\", \"Bear\", \"Bull\", \"Bear\", \"Bear\", \"Bear\", \"Bear\", \"Bull\", \"Bear\", \"Bear\", \"Bull\", \"Bull\", \"Bull\", \"Bull\", \"Bull\", \"Bull\", \"Bull\", \"Bear\", \"Bull\", \"Bear\", \"Bull\", \"Bull\", \"Bull\", \"Bull\", \"Bear\", \"Bear\", \"Bull\", \"Bull\", \"Bear\", \"Bear\", \"Bear\", \"Bull\", \"Bear\", \"Bull\", \"Bear\", \"Bear\", \"Bull\", \"Bear\", \"Bear\", \"Bear\", \"Bear\", \"Bull\", \"Bear\", \"Bear\", \"Bear\", \"Bear\", \"Bear\", \"Bull\", \"Bear\", \"Bear\", \"Bear\", \"Bear\", \"Bear\", \"Bear\", \"Bear\", \"Bull\", \"Bull\", \"Bull\", \"Bear\", \"Bull\", \"Bull\", \"Bear\", \"Bear\", \"Bull\", \"Bull\", \"Bear\", \"Bull\", \"Bear\", \"Bear\", \"Bear\", \"Bull\", \"Bear\", \"Bear\", \"Bear\", \"Bull\", \"Bear\", \"Bear\", \"Bull\", \"Bull\", \"Bear\", \"Bear\", \"Bull\", \"Bear\", \"Bull\", \"Bear\", \"Bull\", \"Bull\", \"Bear\", \"Bull\", \"Bull\", \"Bear\", \"Bear\", \"Bull\", \"Bull\", \"Bear\", \"Bear\", \"Bull\", \"Bull\", \"Bull\", \"Bull\", \"Bear\", \"Bull\", \"Bear\", \"Bull\", \"Bear\", \"Bull\", \"Bull\", \"Bear\", \"Bull\", \"Bear\", \"Bear\", \"Bear\", \"Bull\", \"Bear\", \"Bull\", \"Bear\", \"Bull\", \"Bear\", \"Bear\", \"Bull\", \"Bear\", \"Bull\", \"Bull\", \"Bull\", \"Bull\", \"Bull\", \"Bull\", \"Bull\", \"Bear\", \"Bull\", \"Bear\", \"Bear\", \"Bull\", \"Bull\", \"Bear\", \"Bull\", \"Bear\", \"Bear\", \"Bull\", \"Bull\", \"Bull\", \"Bear\", \"Bear\", \"Bear\", \"Bull\", \"Bear\", \"Bear\", \"Bear\", \"Bull\", \"Bull\", \"Bear\", \"Bear\", \"Bull\", \"Bear\", \"Bear\", \"Bear\", \"Bull\", \"Bear\", \"Bear\", \"Bear\", \"Bull\", \"Bear\", \"Bear\", \"Bull\", \"Bear\", \"Bear\", \"Bear\", \"Bear\", \"Bear\", \"Bear\", \"Bull\", \"Bear\", \"Bear\", \"Bull\", \"Bear\", \"Bear\", \"Bear\", \"Bull\", \"Bear\", \"Bull\", \"Bull\", \"Bear\", \"Bull\", \"Bear\", \"Bull\", \"Bull\", \"Bear\", \"Bear\", \"Bull\", \"Bear\", \"Bear\", \"Bear\", \"Bull\", \"Bull\", \"Bull\", \"Bear\", \"Bear\", \"Bull\", \"Bear\", \"Bear\", \"Bull\", \"Bear\", \"Bear\", \"Bull\", \"Bear\", \"Bear\", \"Bull\", \"Bear\", \"Bull\", \"Bull\", \"Bear\", \"Bear\", \"Bear\", \"Bull\", \"Bear\", \"Bull\", \"Bull\", \"Bull\", \"Bear\", \"Bull\", \"Bear\", \"Bear\", \"Bull\", \"Bear\", \"Bear\", \"Bear\", \"Bear\", \"Bull\", \"Bear\", \"Bear\", \"Bull\", \"Bull\", \"Bear\", \"Bear\", \"Bear\", \"Bear\", \"Bull\", \"Bull\", \"Bull\", \"Bear\", \"Bear\", \"Bull\", \"Bull\", \"Bull\", \"Bear\", \"Bear\", \"Bear\", \"Bull\", \"Bear\", \"Bear\", \"Bear\", \"Bull\", \"Bear\", \"Bear\", \"Bear\", \"Bull\", \"Bull\", \"Bear\", \"Bull\", \"Bull\", \"Bull\", \"Bear\", \"Bear\", \"Bull\", \"Bear\", \"Bear\", \"Bear\", \"Bull\", \"Bear\", \"Bear\", \"Bear\", \"Bear\", \"Bear\", \"Bear\", \"Bull\", \"Bull\", \"Bull\", \"Bear\", \"Bull\", \"Bull\", \"Bear\", \"Bear\", \"Bear\", \"Bear\", \"Bear\", \"Bull\", \"Bull\", \"Bear\", \"Bear\", \"Bull\", \"Bear\", \"Bear\", \"Bull\", \"Bear\", \"Bear\", \"Bull\", \"Bear\", \"Bull\", \"Bull\", \"Bear\", \"Bull\", \"Bear\", \"Bull\", \"Bear\", \"Bear\", \"Bull\", \"Bull\", \"Bull\", \"Bull\", \"Bear\", \"Bull\", \"Bull\", \"Bull\", \"Bull\", \"Bull\", \"Bear\", \"Bull\", \"Bull\", \"Bear\", \"Bull\", \"Bear\", \"Bear\", \"Bear\", \"Bear\", \"Bear\", \"Bear\", \"Bear\", \"Bear\", \"Bear\", \"Bear\", \"Bear\", \"Bear\", \"Bear\", \"Bull\", \"Bear\", \"Bull\", \"Bull\", \"Bear\", \"Bear\", \"Bull\", \"Bull\", \"Bull\", \"Bear\", \"Bear\", \"Bear\", \"Bull\", \"Bear\", \"Bear\", \"Bear\", \"Bear\", \"Bull\", \"Bear\", \"Bear\", \"Bear\", \"Bear\", \"Bull\", \"Bear\", \"Bear\", \"Bear\", \"Bull\", \"Bear\", \"Bear\", \"Bull\", \"Bear\", \"Bull\", \"Bear\", \"Bull\", \"Bear\", \"Bull\", \"Bear\", \"Bull\", \"Bear\", \"Bear\", \"Bear\", \"Bull\", \"Bull\", \"Bull\", \"Bull\", \"Bear\", \"Bull\", \"Bear\", \"Bear\", \"Bear\", \"Bear\", \"Bear\", \"Bear\", \"Bear\", \"Bear\", \"Bull\", \"Bear\", \"Bear\", \"Bear\", \"Bull\", \"Bull\", \"Bull\", \"Bull\", \"Bear\", \"Bear\", \"Bear\", \"Bull\", \"Bull\", \"Bull\", \"Bull\", \"Bear\", \"Bear\", \"Bear\", \"Bear\", \"Bear\", \"Bear\", \"Bear\", \"Bear\", \"Bear\", \"Bear\", \"Bull\", \"Bear\", \"Bear\", \"Bear\", \"Bull\", \"Bear\", \"Bear\", \"Bear\", \"Bear\", \"Bear\", \"Bull\", \"Bull\", \"Bear\", \"Bear\", \"Bear\", \"Bear\", \"Bear\", \"Bear\", \"Bear\", \"Bear\", \"Bear\", \"Bear\", \"Bull\", \"Bear\", \"Bear\", \"Bear\", \"Bear\", \"Bull\", \"Bear\", \"Bear\", \"Bear\", \"Bear\", \"Bear\", \"Bear\", \"Bull\", \"Bear\", \"Bull\", \"Bull\", \"Bear\", \"Bear\", \"Bull\", \"Bull\", \"Bull\", \"Bear\", \"Bear\", \"Bear\", \"Bull\", \"Bear\", \"Bear\", \"Bear\", \"Bear\", \"Bull\", \"Bull\", \"Bull\", \"Bear\", \"Bear\", \"Bear\", \"Bear\", \"Bear\", \"Bear\", \"Bear\", \"Bull\", \"Bear\", \"Bull\", \"Bear\", \"Bear\", \"Bear\", \"Bull\", \"Bull\", \"Bull\", \"Bull\", \"Bull\", \"Bull\", \"Bear\", \"Bull\", \"Bear\", \"Bear\", \"Bear\", \"Bear\", \"Bear\", \"Bull\", \"Bull\", \"Bull\", \"Bear\", \"Bull\", \"Bull\", \"Bear\", \"Bull\", \"Bear\", \"Bear\", \"Bear\", \"Bull\", \"Bull\", \"Bull\", \"Bull\", \"Bull\", \"Bull\", \"Bear\", \"Bear\", \"Bull\", \"Bull\", \"Bull\", \"Bear\", \"Bear\", \"Bull\", \"Bear\", \"Bull\", \"Bull\", \"Bull\", \"Bear\", \"Bull\", \"Bull\", \"Bull\", \"Bear\", \"Bull\", \"Bear\", \"Bear\", \"Bull\", \"Bull\", \"Bull\", \"Bear\", \"Bear\", \"Bull\", \"Bull\", \"Bull\", \"Bull\", \"Bull\", \"Bear\", \"Bull\", \"Bear\", \"Bear\", \"Bull\", \"Bear\", \"Bear\", \"Bear\", \"Bear\", \"Bear\", \"Bear\", \"Bear\", \"Bear\", \"Bear\", \"Bear\", \"Bear\", \"Bear\", \"Bear\", \"Bull\", \"Bear\", \"Bear\", \"Bull\", \"Bull\", \"Bull\", \"Bull\", \"Bull\", \"Bear\", \"Bear\", \"Bull\", \"Bull\", \"Bull\", \"Bull\", \"Bull\", \"Bear\", \"Bear\", \"Bear\", \"Bull\", \"Bear\", \"Bear\", \"Bear\", \"Bear\", \"Bear\", \"Bull\", \"Bear\", \"Bear\", \"Bear\", \"Bull\", \"Bear\", \"Bull\", \"Bull\", \"Bull\", \"Bull\", \"Bear\", \"Bull\", \"Bull\", \"Bull\", \"Bull\", \"Bull\", \"Bull\", \"Bear\", \"Bull\", \"Bull\", \"Bull\", \"Bear\", \"Bear\", \"Bear\", \"Bull\", \"Bull\", \"Bear\", \"Bear\", \"Bear\", \"Bear\", \"Bear\", \"Bear\", \"Bear\", \"Bull\", \"Bull\", \"Bull\", \"Bull\", \"Bull\", \"Bull\", \"Bull\", \"Bull\", \"Bear\", \"Bear\", \"Bull\", \"Bear\", \"Bear\", \"Bear\", \"Bear\", \"Bear\", \"Bear\", \"Bear\", \"Bear\", \"Bull\", \"Bear\", \"Bear\", \"Bull\", \"Bull\", \"Bear\", \"Bull\", \"Bull\", \"Bear\", \"Bull\", \"Bear\", \"Bear\", \"Bear\", \"Bear\", \"Bear\", \"Bear\", \"Bull\", \"Bear\", \"Bull\", \"Bear\", \"Bear\", \"Bear\", \"Bull\", \"Bear\", \"Bear\", \"Bear\", \"Bear\", \"Bull\", \"Bear\", \"Bear\", \"Bull\", \"Bear\", \"Bull\", \"Bear\", \"Bear\", \"Bull\", \"Bull\", \"Bull\"], \"x0\": \" \", \"xaxis\": \"x\", \"y\": [95, 95, 114, 17, 16, 17, 117, 72, 56, 38, 95, 137, 68, 85, 91, 53, 119, 97, 109, 24, 48, 63, 19, 48, 26, 89, 30, 57, 87, 108, 92, 80, 85, 31, 83, 101, 41, 96, 110, 87, 134, 98, 100, 84, 29, 98, 65, 60, 78, 83, 89, 97, 71, 26, 105, 125, 85, 86, 15, 109, 69, 105, 41, 127, 61, 59, 73, 38, 108, 69, 114, 36, 71, 132, 114, 55, 96, 91, 38, 101, 35, 29, 97, 100, 128, 24, 98, 37, 75, 25, 11, 66, 96, 40, 51, 57, 77, 84, 18, 19, 112, 32, 123, 90, 120, 116, 136, 85, 99, 136, 89, 93, 28, 52, 99, 84, 112, 84, 75, 49, 43, 60, 102, 100, 24, 43, 87, 135, 87, 112, 31, 16, 17, 18, 64, 125, 97, 83, 97, 96, 77, 107, 130, 60, 98, 83, 96, 86, 59, 94, 123, 23, 135, 76, 133, 132, 88, 96, 43, 36, 14, 62, 31, 111, 90, 55, 88, 134, 45, 111, 98, 59, 42, 125, 91, 103, 85, 16, 112, 87, 75, 83, 100, 90, 65, 23, 74, 42, 67, 70, 37, 53, 58, 31, 37, 124, 114, 88, 87, 126, 64, 71, 92, 94, 73, 75, 55, 41, 91, 98, 62, 88, 100, 125, 117, 77, 103, 91, 100, 92, 24, 24, 22, 100, 20, 82, 98, 137, 99, 99, 93, 94, 98, 21, 16, 110, 101, 57, 100, 72, 78, 91, 33, 48, 95, 62, 112, 75, 38, 60, 96, 16, 21, 101, 75, 127, 60, 30, 69, 65, 32, 97, 96, 92, 115, 48, 92, 33, 42, 61, 12, 60, 40, 84, 52, 115, 93, 43, 92, 87, 74, 114, 101, 45, 87, 94, 16, 84, 125, 135, 77, 91, 41, 16, 72, 42, 56, 133, 29, 37, 19, 61, 133, 94, 72, 39, 106, 90, 116, 112, 88, 41, 51, 97, 50, 97, 100, 134, 117, 119, 43, 18, 54, 63, 50, 52, 43, 69, 138, 127, 50, 89, 80, 70, 44, 70, 91, 94, 88, 43, 74, 105, 79, 98, 51, 79, 36, 13, 92, 82, 30, 40, 133, 87, 11, 84, 11, 9, 128, 123, 106, 106, 19, 138, 136, 37, 108, 112, 54, 136, 134, 70, 46, 119, 80, 61, 51, 125, 23, 135, 33, 21, 72, 126, 107, 103, 85, 136, 36, 114, 66, 92, 30, 90, 38, 49, 92, 62, 104, 86, 77, 139, 134, 96, 79, 95, 31, 91, 99, 101, 101, 33, 82, 87, 98, 118, 137, 37, 42, 37, 116, 48, 52, 92, 9, 62, 100, 46, 119, 16, 127, 51, 67, 113, 34, 107, 71, 53, 93, 78, 38, 95, 99, 81, 89, 93, 59, 86, 40, 129, 105, 101, 13, 10, 26, 98, 40, 99, 133, 30, 98, 127, 51, 108, 51, 104, 84, 132, 17, 26, 17, 24, 139, 32, 83, 73, 100, 99, 28, 62, 90, 86, 54, 28, 51, 110, 78, 42, 125, 79, 104, 31, 37, 134, 86, 75, 84, 55, 98, 41, 90, 60, 99, 27, 72, 138, 29, 27, 116, 15, 38, 18, 118, 19, 19, 49, 73, 33, 82, 21, 57, 134, 72, 40, 56, 121, 42, 77, 54, 120, 65, 57, 72, 55, 56, 96, 60, 28, 114, 47, 111, 127, 52, 69, 47, 120, 56, 85, 72, 92, 105, 114, 102, 108, 29, 18, 91, 70, 33, 26, 29, 24, 139, 77, 111, 109, 42, 91, 93, 62, 81, 37, 48, 100, 98, 99, 44, 116, 117, 14, 69, 69, 85, 67, 67, 75, 88, 86, 61, 17, 56, 54, 88, 22, 135, 87, 103, 37, 124, 58, 97, 52, 127, 95, 43, 58, 118, 116, 99, 37, 42, 58, 41, 118, 137, 126, 74, 61, 129, 50, 129, 40, 115, 92, 75, 41, 68, 76, 22, 27, 100, 78, 65, 77, 91, 12, 10, 41, 96, 110, 84, 90, 100, 74, 67, 94, 131, 112, 99, 19, 32, 77, 118, 57, 113, 132, 73, 56, 21, 70, 86, 93, 22, 20, 118, 89, 111, 23, 18, 72, 58, 130, 41, 66, 107, 68, 119, 30, 101, 50, 43, 54, 137, 133, 14, 65, 108, 56, 56, 75, 99, 18, 92, 95, 92, 128, 100, 73, 120, 70, 42, 105, 100, 101, 119, 8, 100, 63, 106, 16, 61, 125, 49, 33, 53, 98, 41, 51, 38, 67, 27, 77, 131, 65, 126, 87, 13, 44, 128, 80, 55, 73, 136, 100, 64, 125, 125, 125, 73, 31, 98, 82, 37, 131, 39, 99, 41, 62, 30, 61, 68, 37, 42, 115, 34, 78, 36, 128, 64, 91, 54, 22, 74, 89, 49, 132, 134, 54, 45, 67, 98, 86, 94, 85, 36, 107, 112, 135, 138, 110, 130, 64, 84, 137, 123, 131, 106, 108, 15, 54, 86, 66, 113, 136, 71, 63, 54, 38, 92, 98, 94, 17, 73, 47, 39, 18, 99, 99, 93, 96, 40, 54, 100, 72, 42, 56, 63, 116, 87, 29, 87, 83, 98, 60, 42, 79, 129, 41, 26, 53, 50, 6, 115, 105, 28, 97, 39, 79, 108, 67, 25, 98, 45, 24, 26, 99, 108, 27, 61, 31, 108, 35, 45, 73, 111, 67, 98, 43, 125, 31, 74, 24, 76, 59, 55, 125, 100, 75, 96, 25, 15, 124, 14, 65, 86, 100, 50, 135, 31, 53, 82, 72, 109, 35, 50, 20, 18, 18, 33, 75, 40, 65, 40, 38, 95, 37, 36, 63, 55, 113, 136, 96, 11, 88, 83, 97, 61, 79, 36, 46, 38, 38, 96, 100, 78, 106, 79, 29, 97, 18, 65, 49, 60, 112, 64, 25, 71, 97, 68, 102, 119, 125, 96, 101, 75, 90, 63, 91, 72, 61, 85, 72, 50, 49, 63, 47, 95, 67, 139, 53, 133, 113, 40, 54, 16, 111, 88, 124, 30, 56, 13, 53, 82, 95, 88, 94, 111, 102, 72, 36, 13, 108, 101, 40, 53, 47, 136, 83, 139, 68, 25, 94, 60, 121, 88, 138, 95, 113, 58, 96, 30, 115, 98, 43, 52, 42, 48, 138, 113, 83, 101, 99, 86, 98, 43, 97, 94, 79, 12, 86, 77, 97, 24, 18, 70, 19, 70, 91, 97, 106, 115, 115, 115, 115, 114, 109, 55, 59, 51, 78, 118, 57, 114, 19, 64, 81, 65, 69, 69, 66, 18, 138, 98, 108, 42, 42, 29, 114, 114, 132, 111, 129, 122, 112, 74, 69, 93, 84, 19, 32, 31, 52, 133, 50, 16, 136, 35, 95, 18, 101, 133, 129, 53, 89, 43, 73, 63, 111, 74, 62, 71, 36, 31, 44, 27, 45, 85, 44, 135, 87, 83, 97, 99, 63, 89, 73, 133, 93, 133, 14, 93, 91, 16, 78, 81, 86, 90, 100, 114, 42, 121, 19, 19, 96, 127, 46, 77, 133, 34, 15, 17, 30, 86, 115, 63, 100, 22, 61, 57, 22, 31, 37, 75, 23, 127, 128, 40, 86, 106, 110, 67, 17, 102, 93, 57, 85, 67, 52, 98, 90, 54, 76, 51, 68, 97, 120, 68, 111, 112, 58, 94, 123, 103, 32, 53, 126, 121, 121, 134, 75, 124, 65, 53, 38, 22, 119, 39, 132, 26, 56, 86, 32, 14, 34, 18, 14, 67, 135, 42, 29, 56, 138, 133, 57, 136, 41, 131, 125, 49, 19, 75, 99, 74, 104, 67, 108, 107, 94, 52, 132, 11, 99, 61, 35, 87, 131, 9, 52, 35, 97, 100, 138, 135, 17, 41, 66, 112, 106, 33, 95, 65, 73, 125, 127, 15, 137, 106, 100, 129, 88, 58, 34, 60, 101, 55, 87, 47, 18, 127, 65, 19, 82, 96, 127, 17, 27, 62, 76, 100, 132, 15, 17, 114, 16, 95, 27, 60, 61, 54, 25, 131, 102, 119, 138, 136, 48, 59, 49, 42, 98, 112, 104, 64, 103, 53, 63, 132, 21, 95, 78, 126, 139, 107, 40, 81, 26, 80, 55, 54, 80, 55, 48, 70, 110, 68, 84, 83, 35, 114, 125, 32, 55, 84, 128, 50, 138, 138, 135, 132, 21, 59, 70, 84, 135, 122, 123, 82, 114, 74, 67, 92, 122, 69, 51, 97, 51, 133, 105, 38, 96, 53, 25, 136, 90, 123, 95, 52, 121, 130, 35, 108, 83, 38, 56, 106, 118, 25, 24, 60, 37, 16, 130, 99, 35, 129, 18, 93, 31, 13, 79, 15, 88, 37, 27, 39, 12, 80, 95, 95, 64, 115, 100, 75, 82, 87, 86, 32, 52, 124, 36, 53, 78, 77, 129, 76, 10, 95, 24, 106, 108, 112, 133, 132, 114, 136, 125, 136, 137, 139, 98, 51, 99, 87, 62, 80, 95, 130, 136, 134, 114, 89, 137, 131, 90, 33, 139, 110, 48, 101, 122, 110, 99, 83, 64, 92, 135, 132, 139, 94, 64, 70, 72, 62, 44, 85, 62, 59, 23, 60, 119, 128, 27, 49, 67, 131, 120, 114, 96, 113, 77, 65, 43, 83, 95, 26, 99, 101, 117, 51, 114, 69, 131, 81, 40, 37, 39, 17, 38, 136, 45, 120, 65, 94, 94, 103, 35, 98, 63, 51, 69, 49, 82, 122, 100, 95, 27, 137, 114, 66, 53, 64, 100, 35, 25, 48, 18, 36, 61, 64, 88, 103, 101, 110, 95, 135, 64, 97, 92, 84, 61, 98, 92, 17, 53, 106, 33, 87, 99, 100, 32, 127, 72, 136, 127, 48, 54, 55, 56, 112, 136, 95, 65, 89, 105, 63, 62, 135, 59, 56, 73, 134, 22, 101, 130, 66, 113, 42, 16, 112, 34, 20, 58, 20, 45, 68, 69, 55, 37, 90, 68, 94, 24, 97, 27, 71, 85, 8, 95, 44, 100, 20, 38, 127, 86, 53, 61, 81, 62, 112, 127, 133, 56, 86, 132, 75, 87, 99, 97, 64, 61, 70, 41, 74, 22, 44, 107, 73, 58, 49, 89, 65, 62, 112, 126, 26, 51, 131, 130, 63, 71, 69, 33, 53, 106, 94, 60, 42, 21, 67, 56, 109, 44, 61, 90, 54, 33, 121, 55, 43, 95, 30, 69, 103, 109, 134, 65, 87, 36, 35, 59, 15, 60, 35, 68, 80, 42, 120, 71, 26, 35, 14, 13, 94, 79, 136, 138, 96, 132, 71, 72, 66, 47, 117, 81, 95, 41, 50, 100, 102, 27, 70, 60, 90, 83, 62, 130, 138, 92, 63, 89, 84, 26, 78, 95, 58, 23, 71, 76, 138, 81, 97, 85, 57, 101, 20, 135, 75, 123, 75, 111, 101, 99, 63, 103, 60, 70, 132, 130, 98, 61, 59, 77, 56, 65, 92, 123, 121, 17, 101, 120, 81, 80, 91, 51, 64, 82, 69, 50, 60, 109, 54, 40, 77, 75, 74, 105, 126, 89, 98, 48, 40, 70, 119, 15, 27, 18, 110, 85, 98, 68, 37, 44, 25, 61, 57, 85, 25, 77, 108, 78, 90, 39, 77, 46, 116, 60, 31, 16, 75, 36, 67, 43, 95, 50, 94, 107, 30, 38, 62, 82, 68, 65, 29, 60, 96, 48, 109, 20, 58, 119, 133, 95, 101, 99, 38, 97, 95, 99, 108, 109, 23, 53, 66, 134, 88, 102, 52, 75, 83, 67, 99, 100, 76, 130, 36, 30, 38, 44, 76, 13, 28, 20, 31, 108, 70, 76, 26, 69, 62, 43, 123, 21, 53, 25, 109, 118, 69, 94, 48, 80, 32, 33, 114, 87, 17, 34, 103, 101, 115, 73, 32, 46, 68, 14, 95, 11, 34, 88, 132, 99, 76, 23, 80, 29, 36, 48, 67, 46, 42, 8, 30, 93, 100, 37, 37, 11, 83, 68, 39, 42, 57, 48, 72, 24, 51, 17, 70, 98, 124, 94, 52, 98, 100, 54, 40, 92, 22, 132, 137, 83, 99, 87, 84, 24, 117, 89, 131, 60, 47, 56, 89, 46, 46, 137, 40, 42, 29, 33, 53, 21, 99, 32, 30, 103, 100, 83, 48, 128, 119, 34, 57, 93, 16, 99, 123, 32, 24, 23, 120, 20, 123, 26, 41, 57, 59, 67, 38, 25, 9, 21, 23, 49, 23, 12, 76, 85, 52, 106, 118, 90, 61, 27, 79, 47, 34, 114, 95, 28, 94, 98, 35, 21, 58, 101, 106, 32, 60, 59, 18, 127, 99, 41, 90, 126, 61, 10, 36, 20, 120, 32, 56, 138, 93, 88, 59, 100, 15, 80, 134, 119, 31, 77, 23, 31, 49, 39, 30, 75, 67, 100, 29, 97, 137, 54, 73, 98, 59, 114, 138, 88, 15, 64, 123, 77, 48, 53, 66, 82, 36, 30, 29, 37, 59, 136, 71, 125, 27, 110, 74, 29, 95, 108, 89, 52, 136, 98, 106, 62, 29, 81, 104, 96, 30, 124, 82, 28, 26, 30, 41, 13, 35, 100, 37, 35, 25, 84, 53, 54, 53, 57, 52, 62, 39, 109, 55, 44, 113, 96, 106, 138, 115, 127, 125, 126, 136, 40, 124, 130, 42, 73, 64, 58, 54, 95, 136, 82, 99, 19, 25, 99, 39, 24, 88, 127, 82, 55, 79, 22, 138, 132, 29, 135, 56, 48, 118, 117, 40, 59, 35, 90, 24, 100, 106, 123, 113, 123, 55, 81, 134, 15, 25, 87, 25, 113, 93, 33, 105, 82, 112, 33, 80, 40, 25, 64, 128, 21, 46, 133, 51, 58, 64, 56, 125, 115, 62, 84, 61, 41, 58, 137, 116, 117, 110, 82, 100, 73, 100, 71, 100, 67, 73, 55, 98, 46, 74, 119, 90, 98, 57, 52, 27, 63, 61, 50, 91, 100, 115, 76, 77, 97, 132, 72, 40, 91, 83, 98, 41, 21, 51, 62, 54, 65, 82, 67, 76, 28, 97, 55, 53, 75, 21, 13, 31, 33, 66, 25, 115, 85, 104, 58, 76, 57, 46, 88, 135, 13, 91, 93, 83, 57, 90, 8, 12, 20, 50, 43, 98, 22, 52, 28, 44, 55, 86, 83, 19, 66, 129, 132, 99, 82, 129, 132, 93, 35, 53, 114, 101, 66, 16, 70, 23, 99, 110, 65, 98, 50, 62, 93, 111, 26, 59, 53, 99, 43, 17, 60, 70, 25, 65, 63, 68, 34, 14, 69, 55, 129, 37, 54, 50, 106, 60, 22, 61, 64, 13, 107, 107, 122, 60, 135, 137, 59, 59, 92, 21, 121, 38, 83, 85, 97, 104, 95, 63, 50, 11, 52, 33, 71, 55, 87, 76, 99, 39, 84, 35, 113, 73, 46, 79, 99, 94, 82, 55, 62, 117, 111, 94, 39, 94, 117, 129, 112, 137, 125, 132, 53, 75, 60, 74, 69, 122, 40, 45, 101, 87, 100, 96, 51, 34, 116, 127, 67, 27, 107, 75, 65, 52, 48, 133, 29, 137, 94, 45, 51, 20, 48, 130, 72, 32, 103, 123, 97, 44, 16, 118, 109, 83, 114, 27, 53, 130, 138, 97, 63, 134, 105, 69, 72, 52, 23, 12, 40, 24, 74, 72, 81, 85, 58, 42, 48, 91, 84, 43, 37, 53, 45, 122, 27, 40, 31, 95, 64, 134, 47, 101, 98, 101, 90, 97, 95, 90, 92, 114, 71, 85, 73, 117, 55, 23, 99, 110, 14, 87, 58, 63, 47, 85, 29, 66, 139, 78, 60, 86, 11, 39, 99, 28, 58, 42, 97, 30, 36, 47, 49, 109, 40, 22, 104, 23, 36, 29, 100, 47, 43, 54, 23, 50, 81, 53, 100, 111, 64, 14, 29, 65, 72, 18, 64, 35, 91, 75, 15, 27, 32, 138, 31, 90, 96, 34, 85, 126, 82, 58, 28, 54, 88, 87, 109, 47, 114, 71, 47, 15, 117, 65, 75, 131, 35, 81, 69, 69, 53, 27, 43, 105, 87, 19, 31, 65, 29, 60, 66, 54, 19, 61, 90, 20, 71, 27, 95, 35, 38, 52, 34, 30, 68, 53, 78, 95, 24, 99, 57, 127, 56, 73, 59, 47, 78, 29, 132, 63, 48, 97, 74, 89, 57, 132, 59, 62, 48, 57, 36, 88, 99, 97, 86, 99, 71, 46, 72, 68, 61, 55, 95, 77, 70, 134, 90, 46, 122, 126, 134, 92, 40, 123, 94, 77, 30, 97, 54, 58, 88, 74, 52, 114, 52, 126, 49, 89, 16, 17, 27, 82, 77, 70, 43, 80, 87, 19, 39, 49, 69, 31, 35, 88, 53, 62, 40, 118, 33, 43, 48, 59, 60, 25, 14, 33, 47, 42, 54, 60, 49, 131, 131, 89, 9, 50, 42, 34, 44, 82, 99, 110, 99, 81, 69, 66, 66, 117, 53, 65, 51, 22, 45, 54, 49, 63, 138, 43, 42, 48, 47, 93, 64, 33, 43, 132, 46, 44, 8, 20, 46, 95, 80, 86, 56, 83, 83, 110, 136, 136, 121, 135, 111, 110, 94, 91, 85, 57, 134, 20, 72, 52, 89, 58, 9, 12, 132, 102, 65, 91, 116, 26, 65, 20, 64, 56, 22, 136, 66, 63, 57, 60, 53, 60, 69, 65, 35, 136, 115, 41, 114, 33, 61, 119, 69, 67, 60, 57, 59, 38, 45, 21, 11, 51, 122, 28, 127, 127, 37, 14, 97, 100, 72, 56, 24, 55, 99, 123, 50, 64, 86, 58, 52, 135, 99, 108, 91, 44, 96, 98, 66, 128, 121, 71, 28, 70, 95, 106, 63, 135, 116, 23, 71, 91, 69, 82, 96, 61, 66, 99, 130, 84, 101, 78, 84, 43, 42, 53, 62, 41, 86, 19, 52, 11, 62, 106, 59, 57, 20, 110, 43, 38, 106, 53, 62, 30, 49, 100, 72, 113, 53, 39, 96, 124, 39, 31, 64, 36, 73, 42, 91, 42, 56, 48, 34, 47, 132, 71, 29, 127, 105, 53, 66, 71, 70, 60, 106, 57, 74, 53, 53, 121, 129, 91, 61, 91, 75, 42, 34, 75, 115, 63, 91, 75, 75, 35, 23, 76, 68, 58, 99, 85, 136, 83, 58, 107, 51, 126, 62, 69, 22, 110, 62, 76, 39, 93, 54, 136, 82, 55, 86, 54, 62, 94, 73, 120, 71, 79, 128, 95, 137, 63, 59, 73, 74, 96, 72, 105, 124, 89, 97, 96, 91, 98, 53, 35, 77, 97, 86, 97, 92, 86, 67, 92, 109, 71, 57, 101, 100, 73, 18, 83, 99, 51, 57, 109, 58, 83, 66, 34, 62, 60, 54, 56, 135, 33, 44, 36, 67, 60, 85, 82, 128, 97, 62, 33, 87, 75, 40, 58, 98, 123, 61, 25, 82, 120, 73, 57, 129, 75, 130, 89, 46, 14, 85, 49, 50, 108, 19, 45, 130, 89, 27, 113, 49, 100, 94, 132, 45, 79, 73, 26, 25, 63, 59, 95, 107, 84, 68, 74, 61, 95, 83, 73, 64, 120, 38, 23, 76, 112, 93, 100, 52, 88, 102, 81, 52, 53, 55, 74, 27, 129, 132, 24, 87, 17, 99, 98, 52, 59, 115, 123, 137, 122, 133, 80, 134, 37, 45, 115, 69, 119, 123, 100, 94, 16, 16, 17, 16, 82, 23, 47, 53, 32, 72, 25, 118, 61, 37, 79, 73, 67, 55, 67, 79, 84, 110, 20, 138, 65, 48, 88, 65, 33, 67, 80, 89, 99, 40, 31, 74, 12, 14, 42, 24, 21, 39, 98, 75, 75, 90, 123, 120, 70, 93, 110, 19, 55, 48, 110, 53, 122, 56, 57, 112, 55, 12, 47, 118, 55, 86, 125, 41, 44, 66, 81, 10, 94, 49, 38, 54, 119, 32, 61, 123, 62, 127, 113, 129, 135, 45, 95, 73, 36, 90, 131, 71, 47, 46, 86, 42, 82, 122, 109, 85, 68, 81, 67, 39, 113, 38, 99, 67, 132, 83, 24, 23, 138, 26, 54, 57, 59, 74, 83, 58, 49, 105, 83, 36, 112, 51, 69, 73, 39, 38, 53, 38, 54, 21, 87, 41, 53, 26, 33, 92, 12, 29, 23, 22, 43, 19, 111, 132, 24, 13, 69, 26, 57, 96, 125, 98, 19, 110, 81, 101, 130, 138, 63, 136, 86, 45, 134, 114, 48, 50, 114, 18, 82, 138, 93, 103, 94, 85, 100, 102, 81, 21, 135, 39, 100, 55, 44, 86, 59, 55, 33, 121, 80, 78, 39, 41, 28, 62, 82, 73, 70, 43, 37, 36, 76, 87, 74, 25, 133, 135, 88, 32, 96, 135, 73, 59, 122, 20, 100, 41, 53, 87, 55, 27, 34, 124, 89, 46, 63, 82, 48, 50, 109, 32, 78, 134, 124, 121, 76, 90, 64, 117, 26, 93, 99, 62, 59, 133, 58, 111, 50, 31, 138, 89, 101, 64, 17, 16, 15, 16, 17, 110, 99, 61, 73, 96, 43, 30, 95, 36, 82, 47, 74, 29, 37, 122, 54, 45, 106, 38, 66, 70, 129, 131, 117, 77, 74, 103, 136, 124, 17, 39, 117, 61, 31, 125, 40, 25, 31, 23, 25, 88, 42, 36, 129, 50, 125, 32, 18, 30, 74, 47, 57, 15, 37, 114, 94, 15, 56, 128, 42, 96, 62, 52, 86, 24, 99, 94, 126, 83, 113, 50, 84, 129, 45, 31, 95, 35, 50, 33, 133, 24, 125, 11, 54, 34, 86, 29, 117, 137, 37, 35, 86, 99, 88, 122, 40, 85, 106, 131, 65, 26, 90, 116, 70, 127, 28, 30, 57, 70, 124, 105, 60, 13, 111, 113, 133, 53, 123, 82, 119, 137, 24, 50, 115, 130, 104, 93, 99, 121, 84, 133, 114, 78, 31, 103, 77, 58, 96, 113, 86, 132, 74, 58, 73, 33, 36, 17, 43, 100, 85, 36, 61, 75, 49, 56, 136, 104, 90, 19, 108, 56, 86, 56, 46, 49, 45, 27, 103, 40, 127, 19, 18, 30, 23, 68, 119, 29, 92, 28, 94, 91, 16, 68, 42, 55, 99, 71, 53, 45, 98, 73, 58, 92, 33, 98, 69, 50, 68, 87, 30, 40, 50, 51, 82, 77, 24, 18, 23, 98, 10, 117, 49, 137, 30, 127, 133, 133, 99, 129, 89, 118, 98, 39, 34, 54, 104, 98, 86, 37, 90, 98, 49, 52, 67, 16, 88, 126, 19, 99, 115, 49, 96, 65, 98, 28, 124, 45, 136, 97, 63, 124, 86, 41, 37, 109, 78, 91, 45, 128, 79, 102, 120, 14, 79, 32, 114, 29, 47, 49, 136, 13, 110, 112, 32, 122, 64, 51, 134, 83, 112, 68, 78, 35, 37, 89, 110, 104, 85, 99, 69, 108, 17, 68, 63, 44, 34, 71, 16, 36, 31, 35, 118, 79, 117, 64, 101, 29, 68, 90, 87, 26, 71, 47, 38, 32, 90, 88, 25, 31, 28, 29, 16, 37, 79, 75, 66, 35, 39, 34, 33, 127, 20, 130, 83, 36, 18, 81, 15, 18, 31, 79, 95, 61, 40, 57, 17, 64, 100, 20, 59, 39, 53, 23, 69, 86, 130, 14, 78, 88, 100, 25, 46, 78, 43, 16, 39, 109, 97, 62, 64, 40, 44, 43, 64, 29, 18, 103, 29, 55, 20, 21, 134, 63, 18, 57, 108, 35, 52, 32, 98, 58, 86, 70, 127, 82, 81, 47, 62, 58, 47, 57, 112, 99, 117, 65, 115, 112, 112, 69, 52, 130, 18, 128, 86, 106, 117, 74, 96, 39, 70, 77, 89, 92, 73, 100, 99, 98, 59, 124, 71, 66, 47, 89, 30, 16, 75, 113, 54, 29, 40, 53, 40, 22, 114, 75, 59, 39, 132, 115, 9, 65, 48, 49, 24, 72, 92, 122, 25, 111, 100, 97, 23, 58, 94, 11, 26, 74, 25, 86, 47, 88, 92, 98, 88, 38, 64, 133, 104, 23, 94, 33, 88, 34, 28, 55, 41, 62, 38, 76, 69, 97, 130, 44, 118, 25, 67, 71, 27, 15, 61, 117, 89, 49, 41, 27, 69, 66, 29, 102, 27, 26, 131, 124, 80, 133, 110, 54, 71, 109, 90, 68, 69, 41, 53, 90, 21, 136, 87, 58, 127, 18, 132, 37, 41, 132, 133, 37, 124, 18, 70, 89, 76, 44, 87, 39, 12, 46, 129, 103, 59, 120, 78, 39, 71, 129, 126, 87, 28, 77, 120, 53, 72, 118, 124, 129, 16, 46, 39, 25, 34, 35, 130, 33, 99, 127, 116, 56, 95, 136, 129, 19, 58, 99, 87, 27, 36, 43, 30, 33, 55, 31, 32, 25, 94, 95, 118, 19, 130, 14, 95, 79, 54, 35, 114, 115, 12, 114, 52, 101, 28, 72, 58, 81, 58, 46, 49, 96, 18, 109, 30, 101, 98, 94, 100, 99, 37, 75, 114, 79, 52, 36, 29, 61, 30, 46, 62, 23, 104, 78, 102, 72, 94, 66, 54, 108, 25, 68, 136, 92, 120, 54, 58, 35, 138, 136, 102, 59, 136, 50, 134, 40, 31, 52, 98, 129, 136, 49, 35, 121, 13, 96, 20, 80, 115, 126, 117, 22, 56, 99, 20, 107, 117, 60, 130, 32, 136, 44, 111, 26, 53, 121, 97, 135, 24, 138, 115, 91, 135, 135, 74, 54, 139, 27, 96, 126, 133, 101, 53, 80, 91, 87, 67, 99, 62, 94, 98, 68, 112, 27, 32, 57, 49, 93, 25, 98, 39, 89, 87, 72, 93, 133, 100, 97, 35, 97, 122, 57, 95, 86, 100, 22, 50, 15, 94, 115, 48, 80, 80, 31, 82, 66, 17, 39, 31, 45, 16, 82, 84, 40, 23, 56, 30, 28, 83, 72, 25, 58, 17, 42, 94, 27, 51, 10, 21, 14, 45, 17, 34, 53, 57, 23, 22, 44, 102, 41, 16, 53, 35, 21, 56, 33, 14, 89, 29, 52, 13, 54, 82, 37, 60, 102, 13, 30, 53, 13, 137, 105, 55, 60, 23, 47, 38, 58, 77, 116, 100, 54, 105, 27, 99, 25, 22, 96, 70, 39, 17, 62, 24, 87, 67, 75, 43, 40, 32, 97, 25, 15, 13, 64, 55, 30, 73, 83, 19, 29, 28, 18, 127, 46, 57, 30, 51, 33, 48, 136, 12, 137, 118, 60, 41, 55, 25, 62, 71, 77, 97, 125, 83, 26, 37, 16, 52, 80, 82, 95, 95, 46, 63, 136, 15, 17, 68, 118, 54, 87, 21, 38, 23, 60, 102, 103, 15, 92, 58, 76, 39, 61, 95, 69, 15, 92, 28, 116, 27, 100, 83, 103, 32, 136, 54, 25, 133, 16, 125, 58, 51, 29, 29, 41, 23, 49, 82, 63, 24, 35, 62, 46, 12, 21, 133, 82, 100, 16, 39, 124, 44, 130, 138, 113, 67, 116, 99, 54, 15, 38, 47, 99, 101, 132, 8, 31, 20, 129, 32, 62, 138, 67, 74, 71, 38, 86, 15, 128, 64, 113, 26, 55, 112, 67, 20, 23, 97, 62, 75, 22, 18, 45, 60, 72, 55, 115, 33, 95, 40, 81, 113, 92, 136, 16, 61, 60, 63, 98, 17, 10, 115, 53, 95, 72, 131, 97, 115, 38, 76, 117, 123, 72, 24, 97, 29, 39, 78, 129, 49, 44, 124, 78, 87, 103, 132, 99, 72, 30, 21, 79, 49, 44, 87, 123, 118, 121, 116, 94, 56, 134, 69, 125, 78, 70, 64, 68, 71, 27, 53, 76, 27, 12, 90, 12, 12, 26, 65, 90, 26, 75, 133, 53, 95, 126, 59, 99, 107, 105, 121, 120, 43, 133, 31, 121, 56, 28, 122, 131, 90, 92, 107, 118, 123, 120, 78, 123, 46, 132, 104, 78, 63, 121, 53, 37, 72, 19, 23, 34, 48, 121, 54, 74, 90, 69, 100, 64, 21, 128, 99, 92, 111, 36, 63, 32, 82, 135, 60, 51, 135, 23, 16, 121, 28, 19, 31, 113, 30, 63, 137, 132, 126, 138, 134, 136, 128, 56, 80, 84, 88, 112, 22, 40, 27, 19, 10, 117, 87, 113, 101, 9, 18, 40, 134, 27, 31, 93, 66, 52, 66, 50, 66, 58, 85, 29, 82, 27, 26, 19, 84, 36, 135, 86, 62, 93, 136, 123, 55, 65, 16, 94, 94, 60, 41, 45, 46, 59, 12, 127, 74, 137, 97, 51, 100, 88, 107, 116, 77, 63, 47, 99, 113, 124, 136, 102, 114, 71, 69, 73, 62, 33, 20, 83, 82, 60, 71, 31, 84, 25, 23, 24, 24, 72, 29, 19, 94, 25, 46, 80, 25, 96, 17, 25, 16, 12, 26, 38, 20, 31, 83, 36, 25, 90, 61, 130, 31, 61, 62, 65, 26, 99, 58, 14, 85, 62, 52, 38, 92, 84, 41, 67, 41, 23, 31, 30, 16, 25, 67, 100, 42, 59, 15, 66, 29, 29, 119, 24, 84, 64, 65, 90, 30, 19, 71, 32, 61, 12, 106, 93, 99, 29, 45, 63, 105, 46, 47, 37, 37, 59, 120, 64, 59, 54, 123, 89, 30, 130, 79, 75, 99, 94, 100, 75, 45, 79, 35, 25, 49, 34, 78, 37, 66, 78, 22, 79, 26, 41, 43, 38, 49, 53, 16, 98, 102, 45, 73, 86, 134, 45, 50, 27, 121, 49, 88, 74, 78, 136, 68, 54, 54, 37, 15, 136, 29, 137, 102, 53, 20, 22, 46, 25, 66, 18, 44, 99, 46, 107, 125, 97, 36, 67, 100, 38, 76, 22, 56, 44, 84, 98, 58, 132, 124, 97, 45, 114, 113, 76, 86, 68, 130, 74, 126, 31, 48, 50, 37, 67, 19, 66, 51, 25, 34, 99, 115, 47, 26, 16, 67, 44, 33, 38, 54, 41, 75, 103, 127, 39, 106, 103, 61, 31, 118, 39, 36, 27, 133, 29, 82, 64, 90, 71, 72, 29, 138, 128, 32, 14, 52, 92, 133, 133, 28, 28, 71, 32, 34, 36, 27, 29, 98, 40, 56, 122, 91, 42, 38, 100, 72, 46, 19, 100, 42, 25, 73, 94, 47, 63, 69, 20, 96, 32, 99, 47, 72, 78, 74, 16, 136, 22, 61, 48, 27, 99, 75, 64, 108, 49, 111, 51, 47, 80, 127, 131, 131, 26, 26, 51, 108, 135, 56, 97, 91, 71, 100, 128, 137, 10, 98, 98, 108, 19, 73, 46, 86, 120, 60, 32, 59, 36, 33, 134, 29, 70, 31, 79, 52, 80, 97, 101, 39, 90, 100, 92, 102, 73, 38, 25, 25, 28, 98, 69, 27, 50, 34, 75, 39, 60, 38, 63, 39, 40, 60, 54, 46, 14, 87, 12, 47, 49, 19, 85, 19, 10, 67, 82, 115, 69, 53, 21, 40, 32, 113, 19, 138, 60, 53, 93, 40, 54, 91, 45, 136, 127, 26, 93, 83, 130, 41, 70, 137, 129, 111, 26, 56, 57, 60, 69, 36, 67, 75, 25, 139, 67, 86, 55, 77, 21, 21, 10, 68, 107, 99, 43, 106, 102, 135, 67, 122, 88, 133, 87, 78, 72, 93, 100, 134, 70, 135, 132, 77, 106, 79, 83, 90, 83, 68, 43, 98, 66, 112, 82, 103, 89, 85, 81, 97, 44, 33, 97, 76, 97, 120, 98, 63, 68, 41, 59, 69, 136, 59, 77, 92, 96, 129, 142, 122, 142, 126, 132, 142, 142, 107, 144, 142, 144, 142, 91, 141, 148, 144, 142, 142, 141, 144, 142, 60, 142, 59, 142, 111, 142, 134, 143, 137, 141, 143, 142, 118, 120, 122, 67, 141, 146, 120, 132, 142, 142, 142, 146, 142, 125, 121, 142, 142, 125, 142, 120, 144, 77, 144, 142, 141, 142, 137, 118, 128, 142, 150, 100, 109, 142, 144, 113, 142, 136, 143, 135, 144, 142, 142, 142, 110, 142, 142, 142, 142, 142, 142, 136, 114, 144, 143, 96, 142, 65, 144, 142, 144, 142, 111, 104, 144, 142, 123, 144, 148, 142, 144, 133, 147, 142, 65, 107, 144, 143, 126, 91, 142, 142, 132, 120, 137, 142, 142, 142, 139, 103, 142, 56, 142, 146, 144, 142, 144, 104, 123, 122, 126, 72, 106, 144, 143, 142, 141, 142, 134, 146, 143, 146, 142, 142, 142, 103, 142, 146, 129, 94, 142, 146, 142, 142, 141, 142, 77, 142, 142, 144, 144, 142, 144, 142, 142, 146, 142, 144, 144, 142, 144, 146, 116, 141, 142, 141, 138, 143, 142, 142, 80, 142, 141, 142, 146, 142, 103, 148, 142, 142, 144, 144, 124, 102, 104, 137, 142, 142, 150, 142, 105, 103, 142, 142, 142, 78, 142, 142, 139, 142, 144, 143, 144, 142, 123, 154, 128, 122, 142, 142, 142, 142, 127, 142, 141, 144, 142, 119, 93, 142, 107, 142, 142, 142, 142, 124, 144, 142, 142, 142, 146, 142, 144, 142, 132, 123, 142, 142, 142, 110, 142, 139, 86, 141, 144, 141, 112, 143, 141, 142, 114, 142, 142, 103, 144, 148, 142, 142, 146, 144, 109, 142, 134, 118, 142, 142, 102, 142, 144, 132, 101, 142, 98, 141, 99, 108, 142, 136, 146, 116, 142, 142, 142, 122, 113, 142, 93, 141, 128, 140, 141, 142, 142, 142, 142, 139, 96, 142, 99, 142, 142, 98, 116, 90, 94, 141, 91, 142, 91, 150, 142, 109, 142, 83, 137, 144, 142, 142, 142, 144, 142, 142, 146, 134, 142, 141, 142, 72, 142, 80, 139, 142, 143, 142, 144, 144, 146, 142, 141, 146, 146, 142, 127, 142, 148, 142, 113, 142, 141, 139, 142, 113, 142, 101, 142, 144, 105, 111, 142, 141, 71, 142, 141, 143, 142, 132, 117, 142, 136, 142, 145, 126, 144, 142, 144, 142, 124, 142, 142, 120, 142, 94, 118, 142, 142, 142, 142, 142, 141, 98, 97, 142, 144, 142, 142, 144, 97, 144, 142, 144, 142, 144, 126, 142, 142, 142, 141, 121, 93, 142, 142, 141, 143, 142, 122, 86, 141, 84, 142, 142, 142, 128, 142, 85, 141, 131, 142, 93, 137, 81, 97, 94, 90, 89, 98, 102, 113, 121, 95, 93, 119, 117, 108, 107, 127, 69, 104, 81, 140, 92, 118, 134, 85, 101, 81, 84, 74, 124, 92, 88, 93, 91, 64, 94, 127, 97, 86, 88, 110, 101, 128, 80, 80, 84, 86, 77, 62, 86, 119, 94, 115, 74, 89, 98, 140, 92, 94, 91, 76, 90, 92, 97, 100, 91, 97, 79, 84, 121, 106, 139, 91, 95, 66, 87, 88, 97, 78, 128, 59, 98, 97, 88, 80, 104, 128, 76, 91, 80, 65, 97, 106, 140, 88, 97, 126, 91, 97, 87, 83, 88, 78, 140, 87, 109, 85, 89, 106, 98, 74, 97, 94, 102, 97, 77, 86, 99, 95, 119, 95, 85, 94, 90, 102, 140, 90, 88, 98, 95, 80, 96, 102, 77, 92, 100, 95, 140, 109, 95, 93, 92, 93, 139, 95, 92, 95, 85, 100, 97, 84, 97, 140, 134, 95, 66, 88, 136, 69, 97, 78, 140, 107, 91, 103, 138, 89, 95, 103, 98, 115, 89, 101, 91, 89, 80, 98, 86, 90, 88, 84, 96, 93, 103, 100, 53, 117, 140, 109, 59, 61, 58, 86, 86, 78, 93, 101, 129, 71, 96, 90, 103, 64, 121, 90, 88, 112, 140, 140, 140, 140, 68, 132, 85, 91, 103, 88, 129, 58, 102, 84, 84, 96, 110, 140, 125, 140, 139, 78, 140, 103, 81, 86, 108, 140, 96, 140, 140, 101, 87, 84, 130, 80, 94, 89, 94, 140, 87, 104, 137, 110, 140, 88, 108, 140, 140, 140, 60, 101, 105, 83, 83, 95, 105, 93, 83, 137, 83, 130, 71, 94, 90, 92, 140, 90, 97, 83, 97, 137, 87, 99, 106, 108, 140, 95, 86, 87, 94, 75, 86, 69, 107, 112, 99, 75, 82, 95, 140, 140, 96, 95, 93, 90, 118, 75, 97, 123, 91, 126, 64, 74, 76, 96, 125, 98, 68, 63, 87, 88, 94, 126, 85, 112, 102, 128, 118, 94, 96, 139, 92, 93, 83, 140, 93, 98, 108, 105, 80, 89, 86, 61, 69, 85, 63, 75, 98, 81, 101, 116, 119, 112, 101, 73, 100, 83, 140, 102, 121, 98, 102, 78, 134, 104, 101, 129, 139, 140, 129, 133, 130, 122, 123, 140, 131, 117], \"y0\": \" \", \"yaxis\": \"y\"}],\n",
              "                        {\"boxmode\": \"group\", \"legend\": {\"tracegroupgap\": 0}, \"margin\": {\"t\": 60}, \"template\": {\"data\": {\"bar\": [{\"error_x\": {\"color\": \"#2a3f5f\"}, \"error_y\": {\"color\": \"#2a3f5f\"}, \"marker\": {\"line\": {\"color\": \"#E5ECF6\", \"width\": 0.5}}, \"type\": \"bar\"}], \"barpolar\": [{\"marker\": {\"line\": {\"color\": \"#E5ECF6\", \"width\": 0.5}}, \"type\": \"barpolar\"}], \"carpet\": [{\"aaxis\": {\"endlinecolor\": \"#2a3f5f\", \"gridcolor\": \"white\", \"linecolor\": \"white\", \"minorgridcolor\": \"white\", \"startlinecolor\": \"#2a3f5f\"}, \"baxis\": {\"endlinecolor\": \"#2a3f5f\", \"gridcolor\": \"white\", \"linecolor\": \"white\", \"minorgridcolor\": \"white\", \"startlinecolor\": \"#2a3f5f\"}, \"type\": \"carpet\"}], \"choropleth\": [{\"colorbar\": {\"outlinewidth\": 0, \"ticks\": \"\"}, \"type\": \"choropleth\"}], \"contour\": [{\"colorbar\": {\"outlinewidth\": 0, \"ticks\": \"\"}, \"colorscale\": [[0.0, \"#0d0887\"], [0.1111111111111111, \"#46039f\"], [0.2222222222222222, \"#7201a8\"], [0.3333333333333333, \"#9c179e\"], [0.4444444444444444, \"#bd3786\"], [0.5555555555555556, \"#d8576b\"], [0.6666666666666666, \"#ed7953\"], [0.7777777777777778, \"#fb9f3a\"], [0.8888888888888888, \"#fdca26\"], [1.0, \"#f0f921\"]], \"type\": \"contour\"}], \"contourcarpet\": [{\"colorbar\": {\"outlinewidth\": 0, \"ticks\": \"\"}, \"type\": \"contourcarpet\"}], \"heatmap\": [{\"colorbar\": {\"outlinewidth\": 0, \"ticks\": \"\"}, \"colorscale\": [[0.0, \"#0d0887\"], [0.1111111111111111, \"#46039f\"], [0.2222222222222222, \"#7201a8\"], [0.3333333333333333, \"#9c179e\"], [0.4444444444444444, \"#bd3786\"], [0.5555555555555556, \"#d8576b\"], [0.6666666666666666, \"#ed7953\"], [0.7777777777777778, \"#fb9f3a\"], [0.8888888888888888, \"#fdca26\"], [1.0, \"#f0f921\"]], \"type\": \"heatmap\"}], \"heatmapgl\": [{\"colorbar\": {\"outlinewidth\": 0, \"ticks\": \"\"}, \"colorscale\": [[0.0, \"#0d0887\"], [0.1111111111111111, \"#46039f\"], [0.2222222222222222, \"#7201a8\"], [0.3333333333333333, \"#9c179e\"], [0.4444444444444444, \"#bd3786\"], [0.5555555555555556, \"#d8576b\"], [0.6666666666666666, \"#ed7953\"], [0.7777777777777778, \"#fb9f3a\"], [0.8888888888888888, \"#fdca26\"], [1.0, \"#f0f921\"]], \"type\": \"heatmapgl\"}], \"histogram\": [{\"marker\": {\"colorbar\": {\"outlinewidth\": 0, \"ticks\": \"\"}}, \"type\": \"histogram\"}], \"histogram2d\": [{\"colorbar\": {\"outlinewidth\": 0, \"ticks\": \"\"}, \"colorscale\": [[0.0, \"#0d0887\"], [0.1111111111111111, \"#46039f\"], [0.2222222222222222, \"#7201a8\"], [0.3333333333333333, \"#9c179e\"], [0.4444444444444444, \"#bd3786\"], [0.5555555555555556, \"#d8576b\"], [0.6666666666666666, \"#ed7953\"], [0.7777777777777778, \"#fb9f3a\"], [0.8888888888888888, \"#fdca26\"], [1.0, \"#f0f921\"]], \"type\": \"histogram2d\"}], \"histogram2dcontour\": [{\"colorbar\": {\"outlinewidth\": 0, \"ticks\": \"\"}, \"colorscale\": [[0.0, \"#0d0887\"], [0.1111111111111111, \"#46039f\"], [0.2222222222222222, \"#7201a8\"], [0.3333333333333333, \"#9c179e\"], [0.4444444444444444, \"#bd3786\"], [0.5555555555555556, \"#d8576b\"], [0.6666666666666666, \"#ed7953\"], [0.7777777777777778, \"#fb9f3a\"], [0.8888888888888888, \"#fdca26\"], [1.0, \"#f0f921\"]], \"type\": \"histogram2dcontour\"}], \"mesh3d\": [{\"colorbar\": {\"outlinewidth\": 0, \"ticks\": \"\"}, \"type\": \"mesh3d\"}], \"parcoords\": [{\"line\": {\"colorbar\": {\"outlinewidth\": 0, \"ticks\": \"\"}}, \"type\": \"parcoords\"}], \"pie\": [{\"automargin\": true, \"type\": \"pie\"}], \"scatter\": [{\"marker\": {\"colorbar\": {\"outlinewidth\": 0, \"ticks\": \"\"}}, \"type\": \"scatter\"}], \"scatter3d\": [{\"line\": {\"colorbar\": {\"outlinewidth\": 0, \"ticks\": \"\"}}, \"marker\": {\"colorbar\": {\"outlinewidth\": 0, \"ticks\": \"\"}}, \"type\": \"scatter3d\"}], \"scattercarpet\": [{\"marker\": {\"colorbar\": {\"outlinewidth\": 0, \"ticks\": \"\"}}, \"type\": \"scattercarpet\"}], \"scattergeo\": [{\"marker\": {\"colorbar\": {\"outlinewidth\": 0, \"ticks\": \"\"}}, \"type\": \"scattergeo\"}], \"scattergl\": [{\"marker\": {\"colorbar\": {\"outlinewidth\": 0, \"ticks\": \"\"}}, \"type\": \"scattergl\"}], \"scattermapbox\": [{\"marker\": {\"colorbar\": {\"outlinewidth\": 0, \"ticks\": \"\"}}, \"type\": \"scattermapbox\"}], \"scatterpolar\": [{\"marker\": {\"colorbar\": {\"outlinewidth\": 0, \"ticks\": \"\"}}, \"type\": \"scatterpolar\"}], \"scatterpolargl\": [{\"marker\": {\"colorbar\": {\"outlinewidth\": 0, \"ticks\": \"\"}}, \"type\": \"scatterpolargl\"}], \"scatterternary\": [{\"marker\": {\"colorbar\": {\"outlinewidth\": 0, \"ticks\": \"\"}}, \"type\": \"scatterternary\"}], \"surface\": [{\"colorbar\": {\"outlinewidth\": 0, \"ticks\": \"\"}, \"colorscale\": [[0.0, \"#0d0887\"], [0.1111111111111111, \"#46039f\"], [0.2222222222222222, \"#7201a8\"], [0.3333333333333333, \"#9c179e\"], [0.4444444444444444, \"#bd3786\"], [0.5555555555555556, \"#d8576b\"], [0.6666666666666666, \"#ed7953\"], [0.7777777777777778, \"#fb9f3a\"], [0.8888888888888888, \"#fdca26\"], [1.0, \"#f0f921\"]], \"type\": \"surface\"}], \"table\": [{\"cells\": {\"fill\": {\"color\": \"#EBF0F8\"}, \"line\": {\"color\": \"white\"}}, \"header\": {\"fill\": {\"color\": \"#C8D4E3\"}, \"line\": {\"color\": \"white\"}}, \"type\": \"table\"}]}, \"layout\": {\"annotationdefaults\": {\"arrowcolor\": \"#2a3f5f\", \"arrowhead\": 0, \"arrowwidth\": 1}, \"coloraxis\": {\"colorbar\": {\"outlinewidth\": 0, \"ticks\": \"\"}}, \"colorscale\": {\"diverging\": [[0, \"#8e0152\"], [0.1, \"#c51b7d\"], [0.2, \"#de77ae\"], [0.3, \"#f1b6da\"], [0.4, \"#fde0ef\"], [0.5, \"#f7f7f7\"], [0.6, \"#e6f5d0\"], [0.7, \"#b8e186\"], [0.8, \"#7fbc41\"], [0.9, \"#4d9221\"], [1, \"#276419\"]], \"sequential\": [[0.0, \"#0d0887\"], [0.1111111111111111, \"#46039f\"], [0.2222222222222222, \"#7201a8\"], [0.3333333333333333, \"#9c179e\"], [0.4444444444444444, \"#bd3786\"], [0.5555555555555556, \"#d8576b\"], [0.6666666666666666, \"#ed7953\"], [0.7777777777777778, \"#fb9f3a\"], [0.8888888888888888, \"#fdca26\"], [1.0, \"#f0f921\"]], \"sequentialminus\": [[0.0, \"#0d0887\"], [0.1111111111111111, \"#46039f\"], [0.2222222222222222, \"#7201a8\"], [0.3333333333333333, \"#9c179e\"], [0.4444444444444444, \"#bd3786\"], [0.5555555555555556, \"#d8576b\"], [0.6666666666666666, \"#ed7953\"], [0.7777777777777778, \"#fb9f3a\"], [0.8888888888888888, \"#fdca26\"], [1.0, \"#f0f921\"]]}, \"colorway\": [\"#636efa\", \"#EF553B\", \"#00cc96\", \"#ab63fa\", \"#FFA15A\", \"#19d3f3\", \"#FF6692\", \"#B6E880\", \"#FF97FF\", \"#FECB52\"], \"font\": {\"color\": \"#2a3f5f\"}, \"geo\": {\"bgcolor\": \"white\", \"lakecolor\": \"white\", \"landcolor\": \"#E5ECF6\", \"showlakes\": true, \"showland\": true, \"subunitcolor\": \"white\"}, \"hoverlabel\": {\"align\": \"left\"}, \"hovermode\": \"closest\", \"mapbox\": {\"style\": \"light\"}, \"paper_bgcolor\": \"white\", \"plot_bgcolor\": \"#E5ECF6\", \"polar\": {\"angularaxis\": {\"gridcolor\": \"white\", \"linecolor\": \"white\", \"ticks\": \"\"}, \"bgcolor\": \"#E5ECF6\", \"radialaxis\": {\"gridcolor\": \"white\", \"linecolor\": \"white\", \"ticks\": \"\"}}, \"scene\": {\"xaxis\": {\"backgroundcolor\": \"#E5ECF6\", \"gridcolor\": \"white\", \"gridwidth\": 2, \"linecolor\": \"white\", \"showbackground\": true, \"ticks\": \"\", \"zerolinecolor\": \"white\"}, \"yaxis\": {\"backgroundcolor\": \"#E5ECF6\", \"gridcolor\": \"white\", \"gridwidth\": 2, \"linecolor\": \"white\", \"showbackground\": true, \"ticks\": \"\", \"zerolinecolor\": \"white\"}, \"zaxis\": {\"backgroundcolor\": \"#E5ECF6\", \"gridcolor\": \"white\", \"gridwidth\": 2, \"linecolor\": \"white\", \"showbackground\": true, \"ticks\": \"\", \"zerolinecolor\": \"white\"}}, \"shapedefaults\": {\"line\": {\"color\": \"#2a3f5f\"}}, \"ternary\": {\"aaxis\": {\"gridcolor\": \"white\", \"linecolor\": \"white\", \"ticks\": \"\"}, \"baxis\": {\"gridcolor\": \"white\", \"linecolor\": \"white\", \"ticks\": \"\"}, \"bgcolor\": \"#E5ECF6\", \"caxis\": {\"gridcolor\": \"white\", \"linecolor\": \"white\", \"ticks\": \"\"}}, \"title\": {\"x\": 0.05}, \"xaxis\": {\"automargin\": true, \"gridcolor\": \"white\", \"linecolor\": \"white\", \"ticks\": \"\", \"title\": {\"standoff\": 15}, \"zerolinecolor\": \"white\", \"zerolinewidth\": 2}, \"yaxis\": {\"automargin\": true, \"gridcolor\": \"white\", \"linecolor\": \"white\", \"ticks\": \"\", \"title\": {\"standoff\": 15}, \"zerolinecolor\": \"white\", \"zerolinewidth\": 2}}}, \"xaxis\": {\"anchor\": \"y\", \"domain\": [0.0, 1.0], \"title\": {\"text\": \"x\"}}, \"yaxis\": {\"anchor\": \"x\", \"domain\": [0.0, 1.0], \"title\": {\"text\": \"y\"}}},\n",
              "                        {\"responsive\": true}\n",
              "                    ).then(function(){\n",
              "                            \n",
              "var gd = document.getElementById('f930dcf8-b970-4417-86fb-cdefe2eeef66');\n",
              "var x = new MutationObserver(function (mutations, observer) {{\n",
              "        var display = window.getComputedStyle(gd).display;\n",
              "        if (!display || display === 'none') {{\n",
              "            console.log([gd, 'removed!']);\n",
              "            Plotly.purge(gd);\n",
              "            observer.disconnect();\n",
              "        }}\n",
              "}});\n",
              "\n",
              "// Listen for the removal of the full notebook cells\n",
              "var notebookContainer = gd.closest('#notebook-container');\n",
              "if (notebookContainer) {{\n",
              "    x.observe(notebookContainer, {childList: true});\n",
              "}}\n",
              "\n",
              "// Listen for the clearing of the current output cell\n",
              "var outputEl = gd.closest('.output');\n",
              "if (outputEl) {{\n",
              "    x.observe(outputEl, {childList: true});\n",
              "}}\n",
              "\n",
              "                        })\n",
              "                };\n",
              "                \n",
              "            </script>\n",
              "        </div>\n",
              "</body>\n",
              "</html>"
            ]
          },
          "metadata": {
            "tags": []
          }
        }
      ]
    },
    {
      "cell_type": "markdown",
      "metadata": {
        "id": "SGO_u4VLBLJa"
      },
      "source": [
        "#Countplot for Sentiment and Text Length\n",
        "\n",
        "Number of tweet for Bull is more than bear"
      ]
    },
    {
      "cell_type": "code",
      "metadata": {
        "colab": {
          "base_uri": "https://localhost:8080/",
          "height": 296
        },
        "id": "ZRJ40bHOyCeR",
        "outputId": "4adef8e9-bc2d-40e4-941a-964ff77d9a2d"
      },
      "source": [
        "sns.countplot(x='Sentiment',data=df,palette='rainbow')"
      ],
      "execution_count": 256,
      "outputs": [
        {
          "output_type": "execute_result",
          "data": {
            "text/plain": [
              "<matplotlib.axes._subplots.AxesSubplot at 0x7f685a890190>"
            ]
          },
          "metadata": {
            "tags": []
          },
          "execution_count": 256
        },
        {
          "output_type": "display_data",
          "data": {
            "image/png": "[encoded data removed]",
            "text/plain": [
              "<Figure size 432x288 with 1 Axes>"
            ]
          },
          "metadata": {
            "tags": [],
            "needs_background": "light"
          }
        }
      ]
    },
    {
      "cell_type": "markdown",
      "metadata": {
        "id": "lr5gIpOXBYbo"
      },
      "source": [
        "#Mean of Text Length for both sentiment"
      ]
    },
    {
      "cell_type": "code",
      "metadata": {
        "colab": {
          "base_uri": "https://localhost:8080/",
          "height": 142
        },
        "id": "kIGHI_87yLHT",
        "outputId": "d1b34d27-7488-4681-cbb2-7ad7c9899912"
      },
      "source": [
        "stars = df.groupby('Sentiment').mean()\n",
        "stars"
      ],
      "execution_count": 257,
      "outputs": [
        {
          "output_type": "execute_result",
          "data": {
            "text/html": [
              "<div>\n",
              "<style scoped>\n",
              "    .dataframe tbody tr th:only-of-type {\n",
              "        vertical-align: middle;\n",
              "    }\n",
              "\n",
              "    .dataframe tbody tr th {\n",
              "        vertical-align: top;\n",
              "    }\n",
              "\n",
              "    .dataframe thead th {\n",
              "        text-align: right;\n",
              "    }\n",
              "</style>\n",
              "<table border=\"1\" class=\"dataframe\">\n",
              "  <thead>\n",
              "    <tr style=\"text-align: right;\">\n",
              "      <th></th>\n",
              "      <th>text length</th>\n",
              "    </tr>\n",
              "    <tr>\n",
              "      <th>Sentiment</th>\n",
              "      <th></th>\n",
              "    </tr>\n",
              "  </thead>\n",
              "  <tbody>\n",
              "    <tr>\n",
              "      <th>Bear</th>\n",
              "      <td>81.505223</td>\n",
              "    </tr>\n",
              "    <tr>\n",
              "      <th>Bull</th>\n",
              "      <td>76.794844</td>\n",
              "    </tr>\n",
              "  </tbody>\n",
              "</table>\n",
              "</div>"
            ],
            "text/plain": [
              "           text length\n",
              "Sentiment             \n",
              "Bear         81.505223\n",
              "Bull         76.794844"
            ]
          },
          "metadata": {
            "tags": []
          },
          "execution_count": 257
        }
      ]
    },
    {
      "cell_type": "markdown",
      "metadata": {
        "id": "9Hr9sZPhBe6a"
      },
      "source": [
        "#Allocate data of Text and Sentiment to X and y"
      ]
    },
    {
      "cell_type": "code",
      "metadata": {
        "id": "wpynNM9CyXhI"
      },
      "source": [
        "X = df['Text']\n",
        "y = df['Sentiment']"
      ],
      "execution_count": 258,
      "outputs": []
    },
    {
      "cell_type": "markdown",
      "metadata": {
        "id": "jNOOpcDLBmp0"
      },
      "source": [
        "#Import CounterVectorizer to transform the data\n",
        "\n",
        "CountVectorizer creates a matrix in which each unique word is represented by a column of the matrix, and each text sample from the document is a row in the matrix. The value of each cell is nothing but the count of the word in that particular text sample. \n",
        "\n",
        "This can be visualized as follows –\n",
        "\n",
        "https://www.geeksforgeeks.org/using-countvectorizer-to-extracting-features-from-text/"
      ]
    },
    {
      "cell_type": "code",
      "metadata": {
        "id": "J8zZdCJEyx3z"
      },
      "source": [
        "from sklearn.feature_extraction.text import CountVectorizer\n",
        "cv = CountVectorizer()"
      ],
      "execution_count": 259,
      "outputs": []
    },
    {
      "cell_type": "code",
      "metadata": {
        "id": "HrPdsFS-y4-k"
      },
      "source": [
        "X = cv.fit_transform(X)"
      ],
      "execution_count": 260,
      "outputs": []
    },
    {
      "cell_type": "markdown",
      "metadata": {
        "id": "a1VN_aD2ClJJ"
      },
      "source": [
        "#Split Data In Training And Testing"
      ]
    },
    {
      "cell_type": "code",
      "metadata": {
        "id": "uD2xg1sHy7f3"
      },
      "source": [
        "from sklearn.model_selection import train_test_split"
      ],
      "execution_count": 261,
      "outputs": []
    },
    {
      "cell_type": "code",
      "metadata": {
        "id": "emQFrrSny-jb"
      },
      "source": [
        "X_train, X_test, y_train, y_test = train_test_split(X, y,test_size=0.3,random_state=101)"
      ],
      "execution_count": 262,
      "outputs": []
    },
    {
      "cell_type": "markdown",
      "metadata": {
        "id": "jRLmy3tOCrw8"
      },
      "source": [
        "#Fit Data MultinomialNB\n",
        "\n",
        "This can be visualized as follows –\n",
        "\n",
        "https://medium.com/syncedreview/applying-multinomial-naive-bayes-to-nlp-problems-a-practical-explanation-4f5271768ebf"
      ]
    },
    {
      "cell_type": "code",
      "metadata": {
        "id": "jjzPjQcazBWA"
      },
      "source": [
        "from sklearn.naive_bayes import MultinomialNB\n",
        "nb = MultinomialNB()"
      ],
      "execution_count": 263,
      "outputs": []
    },
    {
      "cell_type": "code",
      "metadata": {
        "colab": {
          "base_uri": "https://localhost:8080/"
        },
        "id": "IYZKONtAzE8b",
        "outputId": "5fa3bcfa-bab9-4bae-f949-352afbd49e65"
      },
      "source": [
        "nb.fit(X_train,y_train)"
      ],
      "execution_count": 264,
      "outputs": [
        {
          "output_type": "execute_result",
          "data": {
            "text/plain": [
              "MultinomialNB(alpha=1.0, class_prior=None, fit_prior=True)"
            ]
          },
          "metadata": {
            "tags": []
          },
          "execution_count": 264
        }
      ]
    },
    {
      "cell_type": "code",
      "metadata": {
        "id": "_PRVaOpwzTYw"
      },
      "source": [
        "predictions = nb.predict(X_test)"
      ],
      "execution_count": 265,
      "outputs": []
    },
    {
      "cell_type": "markdown",
      "metadata": {
        "id": "powb7AqqGvas"
      },
      "source": [
        "#Plot Confusion Matrix and Confusion Matrix for Evaluation"
      ]
    },
    {
      "cell_type": "code",
      "metadata": {
        "id": "wHXNyZiGzWl-"
      },
      "source": [
        "from sklearn.metrics import confusion_matrix,classification_report"
      ],
      "execution_count": 266,
      "outputs": []
    },
    {
      "cell_type": "code",
      "metadata": {
        "colab": {
          "base_uri": "https://localhost:8080/"
        },
        "id": "MvBMAKc_zZMe",
        "outputId": "2b29f1f6-349c-4f15-c9f2-3254fd837b0d"
      },
      "source": [
        "print(confusion_matrix(y_test,predictions))\n",
        "print('\\n')\n",
        "print(classification_report(y_test,predictions))\n"
      ],
      "execution_count": 267,
      "outputs": [
        {
          "output_type": "stream",
          "text": [
            "[[339 296]\n",
            " [144 959]]\n",
            "\n",
            "\n",
            "              precision    recall  f1-score   support\n",
            "\n",
            "        Bear       0.70      0.53      0.61       635\n",
            "        Bull       0.76      0.87      0.81      1103\n",
            "\n",
            "    accuracy                           0.75      1738\n",
            "   macro avg       0.73      0.70      0.71      1738\n",
            "weighted avg       0.74      0.75      0.74      1738\n",
            "\n"
          ],
          "name": "stdout"
        }
      ]
    },
    {
      "cell_type": "markdown",
      "metadata": {
        "id": "vmjcPvU4HeMQ"
      },
      "source": [
        "#Import TfidTransformer\n",
        "\n",
        "https://medium.com/@hritikattri10/feature-extraction-using-tf-idf-algorithm-44eedb37305e"
      ]
    },
    {
      "cell_type": "code",
      "metadata": {
        "id": "kjcaxvXdzb9c"
      },
      "source": [
        "from sklearn.feature_extraction.text import  TfidfTransformer"
      ],
      "execution_count": 268,
      "outputs": []
    },
    {
      "cell_type": "markdown",
      "metadata": {
        "id": "rCcjtJPnHLze"
      },
      "source": [
        "#Create Pipeline Model and Repeat Above Process\n",
        "\n",
        "https://medium.com/vickdata/a-simple-guide-to-scikit-learn-pipelines-4ac0d974bdcf"
      ]
    },
    {
      "cell_type": "code",
      "metadata": {
        "id": "lUukBfbbzhNn"
      },
      "source": [
        "from sklearn.pipeline import Pipeline"
      ],
      "execution_count": 269,
      "outputs": []
    },
    {
      "cell_type": "code",
      "metadata": {
        "id": "tNKVfxmizjgc"
      },
      "source": [
        "pipeline = Pipeline([\n",
        "    ('bow', CountVectorizer()),  # strings to token integer counts\n",
        "    ('tfidf', TfidfTransformer()),  # integer counts to weighted TF-IDF scores\n",
        "    ('classifier', MultinomialNB()),  # train on TF-IDF vectors w/ Naive Bayes classifier\n",
        "])"
      ],
      "execution_count": 270,
      "outputs": []
    },
    {
      "cell_type": "code",
      "metadata": {
        "id": "03evcrp6zlsT"
      },
      "source": [
        "X = df['Text']\n",
        "y = df['Sentiment']\n",
        "X_train, X_test, y_train, y_test = train_test_split(X, y,test_size=0.3,random_state=101)"
      ],
      "execution_count": 271,
      "outputs": []
    },
    {
      "cell_type": "code",
      "metadata": {
        "id": "mYezjWFmztec"
      },
      "source": [
        "pipeline.fit(X_train,y_train)\n",
        "predictions = pipeline.predict(X_test)"
      ],
      "execution_count": 272,
      "outputs": []
    },
    {
      "cell_type": "code",
      "metadata": {
        "colab": {
          "base_uri": "https://localhost:8080/"
        },
        "id": "G-FLdqPdzxVi",
        "outputId": "e4a12792-6aee-4a32-cbe3-79f406cd8d35"
      },
      "source": [
        "print(confusion_matrix(y_test,predictions))\n",
        "print(classification_report(y_test,predictions))"
      ],
      "execution_count": 273,
      "outputs": [
        {
          "output_type": "stream",
          "text": [
            "[[ 156  479]\n",
            " [  28 1075]]\n",
            "              precision    recall  f1-score   support\n",
            "\n",
            "        Bear       0.85      0.25      0.38       635\n",
            "        Bull       0.69      0.97      0.81      1103\n",
            "\n",
            "    accuracy                           0.71      1738\n",
            "   macro avg       0.77      0.61      0.60      1738\n",
            "weighted avg       0.75      0.71      0.65      1738\n",
            "\n"
          ],
          "name": "stdout"
        }
      ]
    },
    {
      "cell_type": "markdown",
      "metadata": {
        "id": "hBXJfQj1Ht_f"
      },
      "source": [
        "#Creating NLP Model For Stock Prediction Based On Tweeter Sentiment Analysis (Including Text Processing [Cleaning, Steaming, Contraction Etc.])"
      ]
    },
    {
      "cell_type": "code",
      "metadata": {
        "id": "4dZwcaxhzzmC"
      },
      "source": [
        "import string\n",
        "\n",
        "mess = 'Hello! I am Sagar : '"
      ],
      "execution_count": 274,
      "outputs": []
    },
    {
      "cell_type": "code",
      "metadata": {
        "colab": {
          "base_uri": "https://localhost:8080/",
          "height": 35
        },
        "id": "99QjNdCk2jFq",
        "outputId": "db996e87-5367-4fda-d7ba-6e368e758227"
      },
      "source": [
        "string.punctuation"
      ],
      "execution_count": 275,
      "outputs": [
        {
          "output_type": "execute_result",
          "data": {
            "application/vnd.google.colaboratory.intrinsic+json": {
              "type": "string"
            },
            "text/plain": [
              "'!\"#$%&\\'()*+,-./:;<=>?@[\\\\]^_`{|}~'"
            ]
          },
          "metadata": {
            "tags": []
          },
          "execution_count": 275
        }
      ]
    },
    {
      "cell_type": "code",
      "metadata": {
        "id": "pIsKlSF-2mAW"
      },
      "source": [
        "import string\n",
        "\n",
        "\n",
        "# Check characters to see if they are in punctuation\n",
        "nopunc = [char for char in mess if char not in string.punctuation]\n",
        "\n",
        "# Join the characters again to form the string.\n",
        "nopunc = ''.join(nopunc)"
      ],
      "execution_count": 276,
      "outputs": []
    },
    {
      "cell_type": "code",
      "metadata": {
        "colab": {
          "base_uri": "https://localhost:8080/",
          "height": 35
        },
        "id": "vSZpUjuI2qAk",
        "outputId": "8aee13c0-bd06-424d-f56d-acdf9fc27f82"
      },
      "source": [
        "nopunc"
      ],
      "execution_count": 277,
      "outputs": [
        {
          "output_type": "execute_result",
          "data": {
            "application/vnd.google.colaboratory.intrinsic+json": {
              "type": "string"
            },
            "text/plain": [
              "'Hello I am Sagar  '"
            ]
          },
          "metadata": {
            "tags": []
          },
          "execution_count": 277
        }
      ]
    },
    {
      "cell_type": "code",
      "metadata": {
        "id": "t7Sd1he72sj5"
      },
      "source": [
        "from nltk.corpus import stopwords"
      ],
      "execution_count": 278,
      "outputs": []
    },
    {
      "cell_type": "code",
      "metadata": {
        "colab": {
          "base_uri": "https://localhost:8080/"
        },
        "id": "C1a-tL-s25Zk",
        "outputId": "b7e5a678-4d0a-4988-a135-4c001e01c64e"
      },
      "source": [
        "import nltk \n",
        "nltk.download_shell()"
      ],
      "execution_count": 279,
      "outputs": [
        {
          "output_type": "stream",
          "text": [
            "NLTK Downloader\n",
            "---------------------------------------------------------------------------\n",
            "    d) Download   l) List    u) Update   c) Config   h) Help   q) Quit\n",
            "---------------------------------------------------------------------------\n",
            "Downloader> d\n",
            "\n",
            "Download which package (l=list; x=cancel)?\n",
            "  Identifier> stopwords\n",
            "    Downloading package stopwords to /root/nltk_data...\n",
            "      Package stopwords is already up-to-date!\n",
            "\n",
            "---------------------------------------------------------------------------\n",
            "    d) Download   l) List    u) Update   c) Config   h) Help   q) Quit\n",
            "---------------------------------------------------------------------------\n",
            "Downloader> q\n"
          ],
          "name": "stdout"
        }
      ]
    },
    {
      "cell_type": "code",
      "metadata": {
        "id": "Gq8GYb492529"
      },
      "source": [
        ""
      ],
      "execution_count": 279,
      "outputs": []
    },
    {
      "cell_type": "code",
      "metadata": {
        "colab": {
          "base_uri": "https://localhost:8080/"
        },
        "id": "hppFPccB2vdx",
        "outputId": "454735bd-b948-4925-e1e7-2969d2a6a560"
      },
      "source": [
        "stopwords.words('english')[0:5]"
      ],
      "execution_count": 280,
      "outputs": [
        {
          "output_type": "execute_result",
          "data": {
            "text/plain": [
              "['i', 'me', 'my', 'myself', 'we']"
            ]
          },
          "metadata": {
            "tags": []
          },
          "execution_count": 280
        }
      ]
    },
    {
      "cell_type": "code",
      "metadata": {
        "id": "DQiHIjLd2zJq"
      },
      "source": [
        "# Now just remove any stopwords\n",
        "clean_mess = [word for word in nopunc.split() if word.lower() not in stopwords.words('english')]"
      ],
      "execution_count": 281,
      "outputs": []
    },
    {
      "cell_type": "code",
      "metadata": {
        "colab": {
          "base_uri": "https://localhost:8080/"
        },
        "id": "5aD6R0H63HCU",
        "outputId": "27dac258-11b9-4e87-94f6-9cce92cf65c9"
      },
      "source": [
        "clean_mess"
      ],
      "execution_count": 282,
      "outputs": [
        {
          "output_type": "execute_result",
          "data": {
            "text/plain": [
              "['Hello', 'Sagar']"
            ]
          },
          "metadata": {
            "tags": []
          },
          "execution_count": 282
        }
      ]
    },
    {
      "cell_type": "code",
      "metadata": {
        "id": "jbCIoPM23KOF"
      },
      "source": [
        "def text_process(mess):\n",
        "    \"\"\"\n",
        "    Takes in a string of text, then performs the following:\n",
        "    1. Remove all punctuation\n",
        "    2. Remove all stopwords\n",
        "    3. Returns a list of the cleaned text\n",
        "    \"\"\"\n",
        "    # Check characters to see if they are in punctuation\n",
        "    nopunc = [char for char in mess if char not in string.punctuation]\n",
        "\n",
        "    # Join the characters again to form the string.\n",
        "    nopunc = ''.join(nopunc)\n",
        "    \n",
        "    # Now just remove any stopwords\n",
        "    return [word for word in nopunc.split() if word.lower() not in stopwords.words('english')]"
      ],
      "execution_count": 283,
      "outputs": []
    },
    {
      "cell_type": "code",
      "metadata": {
        "colab": {
          "base_uri": "https://localhost:8080/"
        },
        "id": "a2nXD_qR3NmS",
        "outputId": "5dcbee98-963f-4599-ec5e-6813a7819153"
      },
      "source": [
        "# Check to make sure its working\n",
        "df['Text'].head(5).apply(text_process)"
      ],
      "execution_count": 284,
      "outputs": [
        {
          "output_type": "execute_result",
          "data": {
            "text/plain": [
              "0    [Kickers, watchlist, XIDE, TIT, SOQ, PNK, CPW,...\n",
              "1    [user, AAP, MOVIE, 55, return, FEAGEED, indica...\n",
              "2    [user, Id, afraid, short, AMZN, looking, like,...\n",
              "3                                         [MNTA, 1200]\n",
              "4                                           [OI, 2137]\n",
              "Name: Text, dtype: object"
            ]
          },
          "metadata": {
            "tags": []
          },
          "execution_count": 284
        }
      ]
    },
    {
      "cell_type": "markdown",
      "metadata": {
        "id": "KqvjY_8QI8NG"
      },
      "source": [
        "#Import CounterVectorizer to transform the data\n",
        "\n",
        "CountVectorizer creates a matrix in which each unique word is represented by a column of the matrix, and each text sample from the document is a row in the matrix. The value of each cell is nothing but the count of the word in that particular text sample. \n",
        "\n",
        "This can be visualized as follows –\n",
        "\n",
        "https://www.geeksforgeeks.org/using-countvectorizer-to-extracting-features-from-text/"
      ]
    },
    {
      "cell_type": "code",
      "metadata": {
        "id": "ChdzWaND3S4w"
      },
      "source": [
        "from sklearn.feature_extraction.text import CountVectorizer"
      ],
      "execution_count": 285,
      "outputs": []
    },
    {
      "cell_type": "markdown",
      "metadata": {
        "id": "72eK1iJhJCT8"
      },
      "source": [
        ""
      ]
    },
    {
      "cell_type": "code",
      "metadata": {
        "colab": {
          "base_uri": "https://localhost:8080/"
        },
        "id": "coZ__agG3XMe",
        "outputId": "2c9dfaa9-821b-45ce-810b-0b6826686dd6"
      },
      "source": [
        "# Might take awhile...\n",
        "bow_transformer = CountVectorizer(analyzer=text_process).fit(df['Text'])\n",
        "\n",
        "# Print total number of vocab words in column 'Text'\n",
        "print(len(bow_transformer.vocabulary_))"
      ],
      "execution_count": 286,
      "outputs": [
        {
          "output_type": "stream",
          "text": [
            "13456\n"
          ],
          "name": "stdout"
        }
      ]
    },
    {
      "cell_type": "code",
      "metadata": {
        "colab": {
          "base_uri": "https://localhost:8080/"
        },
        "id": "5Wi7ozYp3aOa",
        "outputId": "8981d98f-b693-4aa2-a186-cd42dee588ab"
      },
      "source": [
        "tweet5 = df['Text'].iloc[786]\n",
        "print(tweet5)"
      ],
      "execution_count": 287,
      "outputs": [
        {
          "output_type": "stream",
          "text": [
            "AAP  Just broke through a downward triangle coming off a massive head and shoulders.  This thing is toast.\n"
          ],
          "name": "stdout"
        }
      ]
    },
    {
      "cell_type": "code",
      "metadata": {
        "colab": {
          "base_uri": "https://localhost:8080/"
        },
        "id": "IhooCClK3lQL",
        "outputId": "fd30866a-37a7-45f3-adc0-496a19cb88b3"
      },
      "source": [
        "bow4 = bow_transformer.transform([tweet5])\n",
        "print(bow4)\n",
        "print(bow4.shape)"
      ],
      "execution_count": 288,
      "outputs": [
        {
          "output_type": "stream",
          "text": [
            "  (0, 2007)\t1\n",
            "  (0, 7398)\t1\n",
            "  (0, 7709)\t1\n",
            "  (0, 8243)\t1\n",
            "  (0, 9116)\t1\n",
            "  (0, 10626)\t1\n",
            "  (0, 12172)\t1\n",
            "  (0, 12731)\t1\n",
            "  (0, 12800)\t1\n",
            "  (0, 12899)\t1\n",
            "(1, 13456)\n"
          ],
          "name": "stdout"
        }
      ]
    },
    {
      "cell_type": "code",
      "metadata": {
        "colab": {
          "base_uri": "https://localhost:8080/"
        },
        "id": "tzFpmFGN3pow",
        "outputId": "0f4aa0e9-2ef2-4cd6-c0f7-db6e14e2e3bf"
      },
      "source": [
        "print(bow_transformer.get_feature_names()[13100])"
      ],
      "execution_count": 289,
      "outputs": [
        {
          "output_type": "stream",
          "text": [
            "vcomand\n"
          ],
          "name": "stdout"
        }
      ]
    },
    {
      "cell_type": "code",
      "metadata": {
        "id": "rWUyHLA23tUu"
      },
      "source": [
        "tweet_bow = bow_transformer.transform(df['Text'])"
      ],
      "execution_count": 290,
      "outputs": []
    },
    {
      "cell_type": "code",
      "metadata": {
        "colab": {
          "base_uri": "https://localhost:8080/"
        },
        "id": "hNEygz5j3ze2",
        "outputId": "a09a206e-0587-4b76-ded7-53f56b6c0218"
      },
      "source": [
        "print('Shape of Sparse Matrix: ', tweet_bow.shape)\n",
        "print('Amount of Non-Zero occurences: ', tweet_bow.nnz)"
      ],
      "execution_count": 291,
      "outputs": [
        {
          "output_type": "stream",
          "text": [
            "Shape of Sparse Matrix:  (5791, 13456)\n",
            "Amount of Non-Zero occurences:  53890\n"
          ],
          "name": "stdout"
        }
      ]
    },
    {
      "cell_type": "code",
      "metadata": {
        "colab": {
          "base_uri": "https://localhost:8080/"
        },
        "id": "VaERV_Hv33Jl",
        "outputId": "05774fac-e932-4e8b-99eb-374f518fd654"
      },
      "source": [
        "#Sparsity and density are terms used to describe the percentage of cells in a database table that are not populated and populated, respectively. The sum of the sparsity and density should equal 100%. \n",
        "# sparsity = 100 * number of non-zero occurences / (number of rows * number of columns)\n",
        "sparsity = (100.0 * tweet_bow.nnz / (tweet_bow.shape[0] * tweet_bow.shape[1]))\n",
        "print('sparsity: {}'.format(sparsity))\n",
        "# sparsity = 0.026 which means only 2% of datas are non zero from matrix"
      ],
      "execution_count": 292,
      "outputs": [
        {
          "output_type": "stream",
          "text": [
            "sparsity: 0.06915739725692682\n"
          ],
          "name": "stdout"
        }
      ]
    },
    {
      "cell_type": "code",
      "metadata": {
        "colab": {
          "base_uri": "https://localhost:8080/"
        },
        "id": "-fh3Gzsc36DC",
        "outputId": "88ef659f-38ab-44ce-eceb-4e479543ac83"
      },
      "source": [
        "from sklearn.feature_extraction.text import TfidfTransformer\n",
        "\n",
        "tfidf_transformer = TfidfTransformer().fit(tweet_bow)\n",
        "tfidf4 = tfidf_transformer.transform(bow4)\n",
        "print(tfidf4)"
      ],
      "execution_count": 293,
      "outputs": [
        {
          "output_type": "stream",
          "text": [
            "  (0, 12899)\t0.3024994102611579\n",
            "  (0, 12800)\t0.3826035186532938\n",
            "  (0, 12731)\t0.30429207937844627\n",
            "  (0, 12172)\t0.3602783022019366\n",
            "  (0, 10626)\t0.3602783022019366\n",
            "  (0, 9116)\t0.3273537461437577\n",
            "  (0, 8243)\t0.3602783022019366\n",
            "  (0, 7709)\t0.2645702198318309\n",
            "  (0, 7398)\t0.2901726041468038\n",
            "  (0, 2007)\t0.13695109742980938\n"
          ],
          "name": "stdout"
        }
      ]
    },
    {
      "cell_type": "code",
      "metadata": {
        "colab": {
          "base_uri": "https://localhost:8080/"
        },
        "id": "h7DWN1hI4A_o",
        "outputId": "8e1f674d-6244-4e1c-d9a7-455dc638b91c"
      },
      "source": [
        "print(tfidf_transformer.idf_[bow_transformer.vocabulary_['talking']])\n",
        "print(tfidf_transformer.idf_[bow_transformer.vocabulary_['warns']])"
      ],
      "execution_count": 294,
      "outputs": [
        {
          "output_type": "stream",
          "text": [
            "7.718322785010239\n",
            "8.565620645397443\n"
          ],
          "name": "stdout"
        }
      ]
    },
    {
      "cell_type": "code",
      "metadata": {
        "colab": {
          "base_uri": "https://localhost:8080/"
        },
        "id": "gHb630hh4IMH",
        "outputId": "9a03511e-8edf-45a0-fdcd-112e4a3d43e0"
      },
      "source": [
        "tweet_tfidf = tfidf_transformer.transform(tweet_bow)\n",
        "print(tweet_tfidf.shape)"
      ],
      "execution_count": 295,
      "outputs": [
        {
          "output_type": "stream",
          "text": [
            "(5791, 13456)\n"
          ],
          "name": "stdout"
        }
      ]
    },
    {
      "cell_type": "code",
      "metadata": {
        "id": "eACvYAgH4LLi"
      },
      "source": [
        "from sklearn.naive_bayes import MultinomialNB\n",
        "stock_prediction_model = MultinomialNB().fit(tweet_tfidf, df['Sentiment'])"
      ],
      "execution_count": 296,
      "outputs": []
    },
    {
      "cell_type": "code",
      "metadata": {
        "colab": {
          "base_uri": "https://localhost:8080/"
        },
        "id": "90K1h2Zi4QFs",
        "outputId": "1f648fb4-f791-465f-e401-984b7c7dde96"
      },
      "source": [
        "print('predicted:', stock_prediction_model.predict(tfidf4))\n",
        "print('expected:', df.Sentiment.iloc[9])"
      ],
      "execution_count": 297,
      "outputs": [
        {
          "output_type": "stream",
          "text": [
            "predicted: ['Bear']\n",
            "expected: Bull\n"
          ],
          "name": "stdout"
        }
      ]
    },
    {
      "cell_type": "code",
      "metadata": {
        "colab": {
          "base_uri": "https://localhost:8080/"
        },
        "id": "ckjA07sl4S_y",
        "outputId": "e1213953-8a2f-454b-d40e-b99e24c64786"
      },
      "source": [
        "all_predictions = corona_detect_model.predict(tweet_tfidf)\n",
        "print(all_predictions)"
      ],
      "execution_count": 298,
      "outputs": [
        {
          "output_type": "stream",
          "text": [
            "['Bull' 'Bull' 'Bull' ... 'Bull' 'Bull' 'Bull']\n"
          ],
          "name": "stdout"
        }
      ]
    },
    {
      "cell_type": "code",
      "metadata": {
        "colab": {
          "base_uri": "https://localhost:8080/"
        },
        "id": "ouip20uB4Wt3",
        "outputId": "3994a86a-1cfa-4eb6-9774-0172cba9ea3f"
      },
      "source": [
        "from sklearn.metrics import classification_report\n",
        "print (classification_report(df['Sentiment'], all_predictions))"
      ],
      "execution_count": 299,
      "outputs": [
        {
          "output_type": "stream",
          "text": [
            "              precision    recall  f1-score   support\n",
            "\n",
            "        Bear       0.98      0.62      0.76      2106\n",
            "        Bull       0.82      0.99      0.90      3685\n",
            "\n",
            "    accuracy                           0.86      5791\n",
            "   macro avg       0.90      0.81      0.83      5791\n",
            "weighted avg       0.88      0.86      0.85      5791\n",
            "\n"
          ],
          "name": "stdout"
        }
      ]
    },
    {
      "cell_type": "code",
      "metadata": {
        "colab": {
          "base_uri": "https://localhost:8080/"
        },
        "id": "gsGN6rds4a7K",
        "outputId": "5b91aa6e-76d4-4e6f-f335-b85269a0831c"
      },
      "source": [
        "from sklearn.model_selection import train_test_split\n",
        "\n",
        "tweet_train, tweet_test, sentiment_train, sentiment_test = \\\n",
        "train_test_split(df['Text'], df['Sentiment'], test_size=0.2)\n",
        "\n",
        "print(len(tweet_train), len(tweet_test), len(tweet_train) + len(tweet_test))"
      ],
      "execution_count": 300,
      "outputs": [
        {
          "output_type": "stream",
          "text": [
            "4632 1159 5791\n"
          ],
          "name": "stdout"
        }
      ]
    },
    {
      "cell_type": "code",
      "metadata": {
        "id": "ZmBVOiHC4gjA"
      },
      "source": [
        "from sklearn.pipeline import Pipeline\n",
        "\n",
        "pipeline = Pipeline([\n",
        "    ('bow', CountVectorizer(analyzer=text_process)),  # strings to token integer counts\n",
        "    ('tfidf', TfidfTransformer()),  # integer counts to weighted TF-IDF scores\n",
        "    ('classifier', MultinomialNB()),  # train on TF-IDF vectors w/ Naive Bayes classifier\n",
        "])"
      ],
      "execution_count": 301,
      "outputs": []
    },
    {
      "cell_type": "code",
      "metadata": {
        "colab": {
          "base_uri": "https://localhost:8080/"
        },
        "id": "zbryL4xL4sB_",
        "outputId": "a965ec19-0dde-42ce-ea2c-4709de09be7d"
      },
      "source": [
        "pipeline.fit(tweet_train,sentiment_train)"
      ],
      "execution_count": 302,
      "outputs": [
        {
          "output_type": "execute_result",
          "data": {
            "text/plain": [
              "Pipeline(memory=None,\n",
              "         steps=[('bow',\n",
              "                 CountVectorizer(analyzer=<function text_process at 0x7f685f451710>,\n",
              "                                 binary=False, decode_error='strict',\n",
              "                                 dtype=<class 'numpy.int64'>, encoding='utf-8',\n",
              "                                 input='content', lowercase=True, max_df=1.0,\n",
              "                                 max_features=None, min_df=1,\n",
              "                                 ngram_range=(1, 1), preprocessor=None,\n",
              "                                 stop_words=None, strip_accents=None,\n",
              "                                 token_pattern='(?u)\\\\b\\\\w\\\\w+\\\\b',\n",
              "                                 tokenizer=None, vocabulary=None)),\n",
              "                ('tfidf',\n",
              "                 TfidfTransformer(norm='l2', smooth_idf=True,\n",
              "                                  sublinear_tf=False, use_idf=True)),\n",
              "                ('classifier',\n",
              "                 MultinomialNB(alpha=1.0, class_prior=None, fit_prior=True))],\n",
              "         verbose=False)"
            ]
          },
          "metadata": {
            "tags": []
          },
          "execution_count": 302
        }
      ]
    },
    {
      "cell_type": "code",
      "metadata": {
        "id": "db0M7FuZ4jjU"
      },
      "source": [
        "predictions = pipeline.predict(tweet_test)"
      ],
      "execution_count": 303,
      "outputs": []
    },
    {
      "cell_type": "code",
      "metadata": {
        "colab": {
          "base_uri": "https://localhost:8080/"
        },
        "id": "i4meCOuY4mQ5",
        "outputId": "230892f6-27d7-4a17-92f8-7d1226c14b9a"
      },
      "source": [
        "print(classification_report(predictions,sentiment_test))"
      ],
      "execution_count": 304,
      "outputs": [
        {
          "output_type": "stream",
          "text": [
            "              precision    recall  f1-score   support\n",
            "\n",
            "        Bear       0.29      0.82      0.42       142\n",
            "        Bull       0.97      0.71      0.82      1017\n",
            "\n",
            "    accuracy                           0.73      1159\n",
            "   macro avg       0.63      0.77      0.62      1159\n",
            "weighted avg       0.88      0.73      0.77      1159\n",
            "\n"
          ],
          "name": "stdout"
        }
      ]
    },
    {
      "cell_type": "markdown",
      "metadata": {
        "id": "BVQKvbtp8MPq"
      },
      "source": [
        "#Deployment Model For Twitter Sentiment Base Stock Prediction"
      ]
    },
    {
      "cell_type": "code",
      "metadata": {
        "colab": {
          "base_uri": "https://localhost:8080/"
        },
        "id": "rWQweq-V4eM1",
        "outputId": "40f81ae1-114a-4353-9980-67c9e2e6907f"
      },
      "source": [
        "#generate random number between 0 to 1159 (which is total number of data).\n",
        "import random\n",
        "\n",
        "i = random.randint(0,1159)\n",
        "print('random digit:',i)\n",
        "print(\"------------------------------------------------------------------------\")\n",
        "\n",
        "#take random number of tweet (text) for predicting the sentiment behind it\n",
        "rand = tweet_test.iloc[i]\n",
        "\n",
        "#preprocess the tweet and put in our created model to predict sentiment \n",
        "bow4 = bow_transformer.transform([rand])\n",
        "print(bow4)\n",
        "print(bow4.shape)\n",
        "print(\"------------------------------------------------------------------------\")\n",
        "tfidf4 = tfidf_transformer.transform(bow4)\n",
        "print(tfidf4)\n",
        "\n",
        "#result of prediction\n",
        "print(\"------------------------------------------------------------------------\")\n",
        "print('Predicted:', corona_detect_model.predict(tfidf4)[0])\n",
        "\n",
        "\n",
        "\n",
        "#Prediction for pipeline base model\n",
        "print(\"------------------------------------------------------------------------\")\n",
        "ml = pd.DataFrame(tweet_test.head(1))\n",
        "\n",
        "ml['Text']=ml['Text'].replace(ml['Text'].iloc[0], rand)\n",
        "print(\"Predicted by Pipeline Model: \",pipeline.predict(ml)[0])\n",
        "\n",
        "#check the actual value of sentiment for that predicted tweet\n",
        "print(\"------------------------------------------------------------------------\")\n",
        "print('Actual value:',predictions[i])\n",
        "\n"
      ],
      "execution_count": 305,
      "outputs": [
        {
          "output_type": "stream",
          "text": [
            "random digit: 154\n",
            "------------------------------------------------------------------------\n",
            "  (0, 2110)\t1\n",
            "(1, 13456)\n",
            "------------------------------------------------------------------------\n",
            "  (0, 2110)\t1.0\n",
            "------------------------------------------------------------------------\n",
            "Predicted: Bull\n",
            "------------------------------------------------------------------------\n",
            "Predicted by Pipeline Model:  Bull\n",
            "------------------------------------------------------------------------\n",
            "Actual value: Bull\n"
          ],
          "name": "stdout"
        }
      ]
    },
    {
      "cell_type": "code",
      "metadata": {
        "id": "8_zsw0357LbH"
      },
      "source": [
        ""
      ],
      "execution_count": 305,
      "outputs": []
    },
    {
      "cell_type": "code",
      "metadata": {
        "id": "14vPREpz4D5T"
      },
      "source": [
        ""
      ],
      "execution_count": 305,
      "outputs": []
    }
  ]
}